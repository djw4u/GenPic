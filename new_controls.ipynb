{
 "cells": [
  {
   "cell_type": "markdown",
   "metadata": {},
   "source": [
    "### Change params structure and part of *\"the core\"*."
   ]
  },
  {
   "cell_type": "code",
   "execution_count": 1,
   "metadata": {
    "collapsed": true,
    "scrolled": true
   },
   "outputs": [],
   "source": [
    "import json\n",
    "import random\n",
    "\n",
    "import attr_funcs\n",
    "\n",
    "from IPython.display import HTML, SVG\n",
    "\n",
    "controls = json.load(open('controls.json', 'rt'))"
   ]
  },
  {
   "cell_type": "code",
   "execution_count": 2,
   "metadata": {
    "collapsed": false
   },
   "outputs": [],
   "source": [
    "def generate_figure(controls, xmlplus = ''):\n",
    "    figure = {}\n",
    "    for k, algorithm in controls.items():\n",
    "        figure[k] = getattr(attr_funcs, algorithm['func'])(*algorithm['params'])\n",
    "    if k == 'transform':\n",
    "        if figure['figures'] == 'circle' or figure['transform'] == 0:\n",
    "            del figure['transform']\n",
    "        else:\n",
    "            figure['transform'] = attr_funcs.transform_rotate(*[figure[k] \n",
    "                                  for k in ('x','y','width','height')], angle = figure['transform'])\n",
    "            \n",
    "    attr_funcs.streamline_attribs(figure)   \n",
    "\n",
    "    s = '{}=\"{}\"'\n",
    "    attrs =[]\n",
    "    for k, v in figure.items():\n",
    "        if not k == 'figures': \n",
    "            attrs.append(s.format(k, v))\n",
    "    attrs.sort()\n",
    "    return '<{} '.format(figure['figures']) + ' '.join(attrs) + ' ' + xmlplus + '/>'"
   ]
  },
  {
   "cell_type": "code",
   "execution_count": 3,
   "metadata": {
    "collapsed": false,
    "scrolled": false
   },
   "outputs": [],
   "source": [
    "# Generate the figures for the picture\n",
    "svg_figures = []\n",
    "for i in range(45):\n",
    "    xmlplus = 'id=\"' + str(i+1) + '\"'\n",
    "    svg_figures.append (generate_figure(controls, xmlplus=xmlplus))"
   ]
  },
  {
   "cell_type": "code",
   "execution_count": 4,
   "metadata": {
    "collapsed": false
   },
   "outputs": [],
   "source": [
    "svg_header =\"\"\"<?xml version=\"1.0\" standalone=\"no\"?>\n",
    "<svg xmlns=\"http://www.w3.org/2000/svg\" xmlns:xlink=\"http://www.w3.org/1999/xlink/\" width=\"600px\" height=\"600px\" viewBox=\"0 0 100 100\" version=\"1.2\">\n",
    "\n",
    "  <desc>Picture by J. Wendt</desc>\n",
    "  <!-- Show outline of canvas using 'rect' element -->\n",
    "  <rect id=\"bg-00\" x=\"0\" y=\"0\" width=\"100\" height=\"100\" fill=\"lightblue\" opacity=\"1.\" stroke=\"white\" stroke-opacity=\".7\" stroke-width=\".01\"/>\n",
    "\n",
    "\"\"\"\n",
    "\n",
    "text = svg_header + '\\n'.join(svg_figures) + '\\n</svg>\\n'"
   ]
  },
  {
   "cell_type": "code",
   "execution_count": 5,
   "metadata": {
    "collapsed": false
   },
   "outputs": [],
   "source": [
    "f = open('test02.svg', 'wt')\n",
    "f.write(text)\n",
    "f.close()"
   ]
  },
  {
   "cell_type": "code",
   "execution_count": null,
   "metadata": {
    "collapsed": true
   },
   "outputs": [],
   "source": [
    "json.dump(svg_figures,open('svg_figures.json', 'wt'), indent=2)"
   ]
  },
  {
   "cell_type": "code",
   "execution_count": null,
   "metadata": {
    "collapsed": false,
    "scrolled": true
   },
   "outputs": [],
   "source": [
    "random.shuffle(svg_figures)\n",
    "\n",
    "text = svg_header + '\\n'.join(svg_figures) + '\\n</svg>\\n'\n",
    "SVG(text)"
   ]
  },
  {
   "cell_type": "markdown",
   "metadata": {},
   "source": [
    "### Collect all svg attribute creating functions in  modul *attr-funcs*"
   ]
  },
  {
   "cell_type": "code",
   "execution_count": null,
   "metadata": {
    "collapsed": true
   },
   "outputs": [],
   "source": [
    "test_method_values ={'random_choice':    ([0,1,2,3], ),\n",
    "           'random_sample':    [[range(0, 1000, 3), 6], ],\n",
    "           'random_randint':   [[112, 117], ],\n",
    "           'random_randrange': [[10,25,2], ],\n",
    "           'fifo_loop': [[0,1,2,3], ]\n",
    "           }\n",
    "for method, values in test_method_values.items():\n",
    "    print(method, values)\n",
    "    print([getattr(attr_funcs, method)(*values) for i in range(6)])"
   ]
  },
  {
   "cell_type": "markdown",
   "metadata": {},
   "source": [
    "### sammler"
   ]
  },
  {
   "cell_type": "code",
   "execution_count": null,
   "metadata": {
    "collapsed": false
   },
   "outputs": [],
   "source": [
    "para_old = json.load(open('params.json', 'rt'))"
   ]
  },
  {
   "cell_type": "code",
   "execution_count": null,
   "metadata": {
    "collapsed": false
   },
   "outputs": [],
   "source": [
    "controls = {k: {'func': para_old[k][0], 'params': para_old[k][1]} for k in para_old.keys() \n",
    "            if not k in ('structure', 'palette', 'nr_of_figures', 'colorid')}\n",
    "print(controls)"
   ]
  },
  {
   "cell_type": "code",
   "execution_count": null,
   "metadata": {
    "collapsed": false
   },
   "outputs": [],
   "source": [
    "json.dump(controls, open('controls.json', 'wt'), indent=2, sort_keys=True)"
   ]
  },
  {
   "cell_type": "code",
   "execution_count": null,
   "metadata": {
    "collapsed": true
   },
   "outputs": [],
   "source": [
    "control_keys = list(controls.keys())\n",
    "control_keys.sort()\n",
    "for k in control_keys:\n",
    "        print(k) \n",
    "        print (controls[k])"
   ]
  }
 ],
 "metadata": {
  "anaconda-cloud": {},
  "kernelspec": {
   "display_name": "Python [Root]",
   "language": "python",
   "name": "Python [Root]"
  },
  "language_info": {
   "codemirror_mode": {
    "name": "ipython",
    "version": 3
   },
   "file_extension": ".py",
   "mimetype": "text/x-python",
   "name": "python",
   "nbconvert_exporter": "python",
   "pygments_lexer": "ipython3",
   "version": "3.5.2"
  }
 },
 "nbformat": 4,
 "nbformat_minor": 0
}
