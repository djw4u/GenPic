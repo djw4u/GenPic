{
 "cells": [
  {
   "cell_type": "markdown",
   "metadata": {},
   "source": [
    "### Change params structure and part of *\"the core\"*."
   ]
  },
  {
   "cell_type": "code",
   "execution_count": 1,
   "metadata": {
    "collapsed": true,
    "scrolled": true
   },
   "outputs": [],
   "source": [
    "import json\n",
    "import random"
   ]
  },
  {
   "cell_type": "code",
   "execution_count": 2,
   "metadata": {
    "collapsed": false,
    "scrolled": true
   },
   "outputs": [],
   "source": [
    "import attr_funcs"
   ]
  },
  {
   "cell_type": "code",
   "execution_count": 9,
   "metadata": {
    "collapsed": true
   },
   "outputs": [],
   "source": [
    "from IPython.display import HTML, SVG"
   ]
  },
  {
   "cell_type": "code",
   "execution_count": 3,
   "metadata": {
    "collapsed": true
   },
   "outputs": [],
   "source": [
    "controls = json.load(open('controls.json', 'rt'))"
   ]
  },
  {
   "cell_type": "code",
   "execution_count": 18,
   "metadata": {
    "collapsed": false
   },
   "outputs": [],
   "source": [
    "def generate_figure(controls, xmlplus = ''):\n",
    "    figure = {}\n",
    "    for k, algorithm in controls.items():\n",
    "        figure[k] = getattr(attr_funcs, algorithm['func'])(*algorithm['params'])\n",
    "    if k == 'transform':\n",
    "        if figure['figures'] == 'circle' or figure['transform'] == 0:\n",
    "            del figure['transform']\n",
    "        else:\n",
    "            figure['transform'] = attr_funcs.transform_rotate(*[figure[k] \n",
    "                                  for k in ('x','y','width','height')], angle = figure['transform'])\n",
    "            \n",
    "    attr_funcs.streamline_attribs(figure)   \n",
    "\n",
    "    s = '{}=\"{}\"'\n",
    "    attrs =[]\n",
    "    for k, v in figure.items():\n",
    "        if not k == 'figures': \n",
    "            attrs.append(s.format(k, v))\n",
    "    attrs.sort()\n",
    "    return '<{} '.format(figure['figures']) + ' '.join(attrs) + ' ' + xmlplus + '/>'"
   ]
  },
  {
   "cell_type": "code",
   "execution_count": 121,
   "metadata": {
    "collapsed": false,
    "scrolled": false
   },
   "outputs": [],
   "source": [
    "# Generate the figures for the picture\n",
    "svg_figures = []\n",
    "for i in range(45):\n",
    "    xmlplus = 'id=\"' + str(i+1) + '\"'\n",
    "    svg_figures.append (generate_figure(controls, xmlplus=xmlplus))"
   ]
  },
  {
   "cell_type": "code",
   "execution_count": 133,
   "metadata": {
    "collapsed": false
   },
   "outputs": [],
   "source": [
    "svg_header =\"\"\"<?xml version=\"1.0\" standalone=\"no\"?>\n",
    "<svg xmlns=\"http://www.w3.org/2000/svg\" xmlns:xlink=\"http://www.w3.org/1999/xlink/\" width=\"600px\" height=\"600px\" viewBox=\"0 0 100 100\" version=\"1.2\">\n",
    "\n",
    "  <desc>Picture by J. Wendt</desc>\n",
    "  <!-- Show outline of canvas using 'rect' element -->\n",
    "  <rect id=\"bg-00\" x=\"0\" y=\"0\" width=\"100\" height=\"100\" fill=\"lightblue\" opacity=\"1.\" stroke=\"white\" stroke-opacity=\".7\" stroke-width=\".01\"/>\n",
    "\n",
    "\"\"\"\n",
    "\n",
    "text = svg_header + '\\n'.join(svg_figures) + '\\n</svg>\\n'"
   ]
  },
  {
   "cell_type": "code",
   "execution_count": 35,
   "metadata": {
    "collapsed": false
   },
   "outputs": [],
   "source": [
    "f = open('test02.svg', 'wt')\n",
    "f.write(text)\n",
    "f.close()"
   ]
  },
  {
   "cell_type": "code",
   "execution_count": 175,
   "metadata": {
    "collapsed": true
   },
   "outputs": [],
   "source": [
    "json.dump(svg_figures,open('svg_figures.json', 'wt'), indent=2)"
   ]
  },
  {
   "cell_type": "code",
   "execution_count": 173,
   "metadata": {
    "collapsed": false
   },
   "outputs": [
    {
     "data": {
      "image/svg+xml": [
       "<svg height=\"600px\" version=\"1.2\" viewBox=\"0 0 100 100\" width=\"600px\" xmlns=\"http://www.w3.org/2000/svg\" xmlns:xlink=\"http://www.w3.org/1999/xlink/\">\n",
       "\n",
       "  <desc>Picture by J. Wendt</desc>\n",
       "  <!-- Show outline of canvas using 'rect' element -->\n",
       "  <rect fill=\"lightblue\" height=\"100\" id=\"bg-00\" opacity=\"1.\" stroke=\"white\" stroke-opacity=\".7\" stroke-width=\".01\" width=\"100\" x=\"0\" y=\"0\"/>\n",
       "\n",
       "<rect fill=\"#B67B66\" height=\"20\" id=\"19\" opacity=\"0.6\" stroke=\"#ABBDC8\" stroke-opacity=\"0.6\" stroke-width=\"4\" transform=\"180\" width=\"10\" x=\"44\" y=\"40\"/>\n",
       "<rect fill=\"#D9E1DD\" height=\"40\" id=\"15\" opacity=\"0.4\" stroke=\"#D9E1DD\" stroke-opacity=\"0.6\" stroke-width=\"6\" transform=\"0\" width=\"50\" x=\"57\" y=\"96\"/>\n",
       "<polygon fill=\"#D8B29A\" id=\"45\" opacity=\"0.4\" points=\"11.00,24.00 51.00,24.00 31.00,58.64\" stroke=\"#ABBDC8\" stroke-opacity=\"0.6\" stroke-width=\"4\" transform=\"0\"/>\n",
       "<rect fill=\"#D8B29A\" height=\"20\" id=\"13\" opacity=\"0.4\" stroke=\"#68443C\" stroke-opacity=\"0.6\" stroke-width=\"4\" transform=\"0\" width=\"10\" x=\"78\" y=\"30\"/>\n",
       "<polygon fill=\"#D8B29A\" id=\"10\" opacity=\"0.6\" points=\"-2.00,-17.00 18.00,-17.00 8.00,0.32\" stroke=\"#B67B66\" stroke-opacity=\"0.8\" stroke-width=\"4\" transform=\"180\"/>\n",
       "<rect fill=\"#D9E1DD\" height=\"20\" id=\"30\" opacity=\"0.4\" stroke=\"#D8B29A\" stroke-opacity=\"0.6\" stroke-width=\"6\" transform=\"180\" width=\"10\" x=\"46\" y=\"34\"/>\n",
       "<polygon fill=\"#D9E1DD\" id=\"31\" opacity=\"0.4\" points=\"-17.00,-17.00 3.00,-17.00 -7.00,0.32\" stroke=\"#68443C\" stroke-opacity=\"0.8\" stroke-width=\"4\" transform=\"0\"/>\n",
       "<rect fill=\"#D9E1DD\" height=\"20\" id=\"5\" opacity=\"0.6\" stroke=\"#68443C\" stroke-opacity=\"0.8\" stroke-width=\"4\" transform=\"0\" width=\"10\" x=\"-15\" y=\"58\"/>\n",
       "<polygon fill=\"#D9E1DD\" id=\"18\" opacity=\"0.6\" points=\"98.00,19.00 118.00,19.00 108.00,36.32\" stroke=\"#68443C\" stroke-opacity=\"0.6\" stroke-width=\"6\" transform=\"0\"/>\n",
       "<rect fill=\"#D9E1DD\" height=\"20\" id=\"16\" opacity=\"0.6\" stroke=\"#ABBDC8\" stroke-opacity=\"0.8\" stroke-width=\"6\" transform=\"0\" width=\"50\" x=\"98\" y=\"76\"/>\n",
       "<line id=\"28\" stroke=\"#B67B66\" stroke-linecap=\"round\" stroke-opacity=\"0.6\" stroke-width=\"6\" x1=\"17\" x2=\"97\" y1=\"34\" y2=\"34\"/>\n",
       "<polygon fill=\"#ABBDC8\" id=\"7\" opacity=\"0.4\" points=\"41.00,105.00 61.00,105.00 51.00,122.32\" stroke=\"#68443C\" stroke-opacity=\"0.8\" stroke-width=\"6\" transform=\"180\"/>\n",
       "<polygon fill=\"#B67B66\" id=\"38\" opacity=\"0.6\" points=\"20.00,8.00 40.00,8.00 30.00,25.32\" stroke=\"#68443C\" stroke-opacity=\"0.6\" stroke-width=\"6\" transform=\"0\"/>\n",
       "<rect fill=\"#D8B29A\" height=\"20\" id=\"29\" opacity=\"0.4\" stroke=\"#ABBDC8\" stroke-opacity=\"0.6\" stroke-width=\"6\" transform=\"180\" width=\"50\" x=\"26\" y=\"79\"/>\n",
       "<rect fill=\"#ABBDC8\" height=\"40\" id=\"12\" opacity=\"0.6\" stroke=\"#D8B29A\" stroke-opacity=\"0.6\" stroke-width=\"4\" transform=\"0\" width=\"50\" x=\"12\" y=\"26\"/>\n",
       "<circle cx=\"96.00\" cy=\"51.00\" fill=\"#68443C\" id=\"26\" opacity=\"0.6\" r=\"40\" stroke=\"#D8B29A\" stroke-opacity=\"0.8\" stroke-width=\"6\"/>\n",
       "<circle cx=\"33.00\" cy=\"30.00\" fill=\"#ABBDC8\" id=\"35\" opacity=\"0.6\" r=\"40\" stroke=\"#D8B29A\" stroke-opacity=\"0.6\" stroke-width=\"4\"/>\n",
       "<circle cx=\"86.00\" cy=\"98.00\" fill=\"#68443C\" id=\"37\" opacity=\"0.6\" r=\"20\" stroke=\"#D9E1DD\" stroke-opacity=\"0.6\" stroke-width=\"4\"/>\n",
       "<rect fill=\"#68443C\" height=\"20\" id=\"14\" opacity=\"0.4\" stroke=\"#D8B29A\" stroke-opacity=\"0.8\" stroke-width=\"6\" transform=\"0\" width=\"10\" x=\"117\" y=\"86\"/>\n",
       "<line id=\"6\" stroke=\"#D8B29A\" stroke-linecap=\"round\" stroke-opacity=\"0.8\" stroke-width=\"4\" x1=\"29\" x2=\"96\" y1=\"58\" y2=\"58\"/>\n",
       "<line id=\"36\" stroke=\"#B67B66\" stroke-linecap=\"round\" stroke-opacity=\"0.8\" stroke-width=\"6\" x1=\"43\" x2=\"96\" y1=\"22\" y2=\"22\"/>\n",
       "<line id=\"27\" stroke=\"#ABBDC8\" stroke-linecap=\"round\" stroke-opacity=\"0.6\" stroke-width=\"6\" x1=\"13\" x2=\"96\" y1=\"22\" y2=\"22\"/>\n",
       "<line id=\"22\" stroke=\"#D9E1DD\" stroke-linecap=\"round\" stroke-opacity=\"0.8\" stroke-width=\"6\" x1=\"3\" x2=\"96\" y1=\"58\" y2=\"58\"/>\n",
       "<rect fill=\"#D9E1DD\" height=\"20\" id=\"44\" opacity=\"0.6\" stroke=\"#68443C\" stroke-opacity=\"0.6\" stroke-width=\"6\" transform=\"180\" width=\"50\" x=\"65\" y=\"94\"/>\n",
       "<rect fill=\"#D8B29A\" height=\"40\" id=\"8\" opacity=\"0.6\" stroke=\"#ABBDC8\" stroke-opacity=\"0.8\" stroke-width=\"4\" transform=\"0\" width=\"10\" x=\"28\" y=\"-1\"/>\n",
       "<rect fill=\"#ABBDC8\" height=\"40\" id=\"1\" opacity=\"0.6\" stroke=\"#68443C\" stroke-opacity=\"0.6\" stroke-width=\"6\" transform=\"0\" width=\"50\" x=\"86\" y=\"52\"/>\n",
       "<circle cx=\"87.00\" cy=\"17.00\" fill=\"#D8B29A\" id=\"40\" opacity=\"0.4\" r=\"20\" stroke=\"#D8B29A\" stroke-opacity=\"0.8\" stroke-width=\"4\"/>\n",
       "<line id=\"43\" stroke=\"#D9E1DD\" stroke-linecap=\"round\" stroke-opacity=\"0.6\" stroke-width=\"6\" x1=\"37\" x2=\"97\" y1=\"10\" y2=\"10\"/>\n",
       "<polygon fill=\"#D9E1DD\" id=\"34\" opacity=\"0.4\" points=\"-9.00,61.00 31.00,61.00 11.00,95.64\" stroke=\"#D8B29A\" stroke-opacity=\"0.8\" stroke-width=\"4\" transform=\"0\"/>\n",
       "<polygon fill=\"#B67B66\" id=\"39\" opacity=\"0.6\" points=\"119.00,46.00 139.00,46.00 129.00,63.32\" stroke=\"#68443C\" stroke-opacity=\"0.8\" stroke-width=\"4\" transform=\"0\"/>\n",
       "<circle cx=\"38.00\" cy=\"91.00\" fill=\"#ABBDC8\" id=\"23\" opacity=\"0.6\" r=\"40\" stroke=\"#B67B66\" stroke-opacity=\"0.6\" stroke-width=\"6\"/>\n",
       "<line id=\"42\" stroke=\"#D9E1DD\" stroke-linecap=\"round\" stroke-opacity=\"0.8\" stroke-width=\"4\" x1=\"45\" x2=\"97\" y1=\"94\" y2=\"94\"/>\n",
       "<rect fill=\"#B67B66\" height=\"20\" id=\"21\" opacity=\"0.6\" stroke=\"#D8B29A\" stroke-opacity=\"0.6\" stroke-width=\"6\" transform=\"0\" width=\"10\" x=\"99\" y=\"15\"/>\n",
       "<circle cx=\"6.00\" cy=\"8.00\" fill=\"#D8B29A\" id=\"33\" opacity=\"0.6\" r=\"20\" stroke=\"#B67B66\" stroke-opacity=\"0.8\" stroke-width=\"6\"/>\n",
       "<rect fill=\"#ABBDC8\" height=\"40\" id=\"2\" opacity=\"0.4\" stroke=\"#B67B66\" stroke-opacity=\"0.6\" stroke-width=\"4\" transform=\"0\" width=\"50\" x=\"36\" y=\"10\"/>\n",
       "<line id=\"11\" stroke=\"#B67B66\" stroke-linecap=\"round\" stroke-opacity=\"0.6\" stroke-width=\"4\" x1=\"13\" x2=\"99\" y1=\"22\" y2=\"22\"/>\n",
       "<polygon fill=\"#ABBDC8\" id=\"32\" opacity=\"0.4\" points=\"7.00,77.00 47.00,77.00 27.00,111.64\" stroke=\"#68443C\" stroke-opacity=\"0.8\" stroke-width=\"6\" transform=\"180\"/>\n",
       "<polygon fill=\"#B67B66\" id=\"20\" opacity=\"0.4\" points=\"40.00,83.00 60.00,83.00 50.00,100.32\" stroke=\"#D8B29A\" stroke-opacity=\"0.6\" stroke-width=\"4\" transform=\"0\"/>\n",
       "<line id=\"41\" stroke=\"#D8B29A\" stroke-linecap=\"round\" stroke-opacity=\"0.8\" stroke-width=\"4\" x1=\"17\" x2=\"97\" y1=\"82\" y2=\"82\"/>\n",
       "<circle cx=\"111.00\" cy=\"132.00\" fill=\"#D8B29A\" id=\"9\" opacity=\"0.4\" r=\"20\" stroke=\"#D8B29A\" stroke-opacity=\"0.8\" stroke-width=\"4\"/>\n",
       "<circle cx=\"72.00\" cy=\"130.00\" fill=\"#B67B66\" id=\"25\" opacity=\"0.4\" r=\"40\" stroke=\"#D8B29A\" stroke-opacity=\"0.6\" stroke-width=\"4\"/>\n",
       "<polygon fill=\"#D9E1DD\" id=\"4\" opacity=\"0.4\" points=\"27.00,96.00 67.00,96.00 47.00,130.64\" stroke=\"#68443C\" stroke-opacity=\"0.8\" stroke-width=\"6\" transform=\"180\"/>\n",
       "<polygon fill=\"#ABBDC8\" id=\"17\" opacity=\"0.6\" points=\"58.00,48.00 98.00,48.00 78.00,82.64\" stroke=\"#D8B29A\" stroke-opacity=\"0.8\" stroke-width=\"6\" transform=\"0\"/>\n",
       "<rect fill=\"#ABBDC8\" height=\"40\" id=\"3\" opacity=\"0.6\" stroke=\"#D9E1DD\" stroke-opacity=\"0.6\" stroke-width=\"6\" transform=\"0\" width=\"10\" x=\"-11\" y=\"-3\"/>\n",
       "<circle cx=\"7.00\" cy=\"89.00\" fill=\"#B67B66\" id=\"24\" opacity=\"0.6\" r=\"20\" stroke=\"#B67B66\" stroke-opacity=\"0.6\" stroke-width=\"4\"/>\n",
       "</svg>"
      ],
      "text/plain": [
       "<IPython.core.display.SVG object>"
      ]
     },
     "execution_count": 173,
     "metadata": {},
     "output_type": "execute_result"
    }
   ],
   "source": [
    "random.shuffle(svg_figures)\n",
    "\n",
    "text = svg_header + '\\n'.join(svg_figures) + '\\n</svg>\\n'\n",
    "SVG(text)"
   ]
  },
  {
   "cell_type": "markdown",
   "metadata": {},
   "source": [
    "### Collect all svg attribute creating functions in  modul *attr-funcs*"
   ]
  },
  {
   "cell_type": "code",
   "execution_count": null,
   "metadata": {
    "collapsed": true
   },
   "outputs": [],
   "source": [
    "test_method_values ={'random_choice':    ([0,1,2,3], ),\n",
    "           'random_sample':    [[range(0, 1000, 3), 6], ],\n",
    "           'random_randint':   [[112, 117], ],\n",
    "           'random_randrange': [[10,25,2], ],\n",
    "           'fifo_loop': [[0,1,2,3], ]\n",
    "           }\n",
    "for method, values in test_method_values.items():\n",
    "    print(method, values)\n",
    "    print([getattr(attr_funcs, method)(*values) for i in range(6)])"
   ]
  },
  {
   "cell_type": "markdown",
   "metadata": {},
   "source": [
    "### sammler"
   ]
  },
  {
   "cell_type": "code",
   "execution_count": null,
   "metadata": {
    "collapsed": false
   },
   "outputs": [],
   "source": [
    "para_old = json.load(open('params.json', 'rt'))"
   ]
  },
  {
   "cell_type": "code",
   "execution_count": null,
   "metadata": {
    "collapsed": false
   },
   "outputs": [],
   "source": [
    "controls = {k: {'func': para_old[k][0], 'params': para_old[k][1]} for k in para_old.keys() \n",
    "            if not k in ('structure', 'palette', 'nr_of_figures', 'colorid')}\n",
    "print(controls)"
   ]
  },
  {
   "cell_type": "code",
   "execution_count": null,
   "metadata": {
    "collapsed": false
   },
   "outputs": [],
   "source": [
    "json.dump(controls, open('controls.json', 'wt'), indent=2, sort_keys=True)"
   ]
  },
  {
   "cell_type": "code",
   "execution_count": null,
   "metadata": {
    "collapsed": true
   },
   "outputs": [],
   "source": [
    "control_keys = list(controls.keys())\n",
    "control_keys.sort()\n",
    "for k in control_keys:\n",
    "        print(k) \n",
    "        print (controls[k])"
   ]
  }
 ],
 "metadata": {
  "anaconda-cloud": {},
  "kernelspec": {
   "display_name": "Python [Root]",
   "language": "python",
   "name": "Python [Root]"
  },
  "language_info": {
   "codemirror_mode": {
    "name": "ipython",
    "version": 3
   },
   "file_extension": ".py",
   "mimetype": "text/x-python",
   "name": "python",
   "nbconvert_exporter": "python",
   "pygments_lexer": "ipython3",
   "version": "3.5.2"
  }
 },
 "nbformat": 4,
 "nbformat_minor": 0
}
