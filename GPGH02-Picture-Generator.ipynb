{
 "cells": [
  {
   "cell_type": "markdown",
   "metadata": {},
   "source": [
    "## Overview of GenPic on GitHub (GPGH)\n",
    "\n",
    "GenPic ist eine Sammlung von IPython Notebooks zur Generierung und Verwaltung von Bildern im SVG Format.\n",
    "\n",
    "1. **GPGH01-Show-Palettes** stellt die Farbpaletten aus der Datei **color-palettes.data** da.\n",
    "\n",
    "2. **GPGH02-Picture-Generator** generiert parametergesteuert Bilder und speichert sie als *svgz* File.\n",
    "\n",
    "2. **GPGH03-Images-to-HTML** gibt Bilder aus der Datenbank im Filesystem aus und generiert  HTML basierte Galerien zur Ansicht der Bilder im Browser. \n",
    "\n",
    "2. **GPGH04-Manipulate-Images** erzeugt aus manipulierten Bildern neue Bilder."
   ]
  },
  {
   "cell_type": "markdown",
   "metadata": {},
   "source": [
    "## Picture Generator"
   ]
  },
  {
   "cell_type": "markdown",
   "metadata": {},
   "source": [
    "GenPic nutzt verbreitete Standardkomponenten und Python Module.\n",
    "\n",
    "+ Daten werden in Dateien gespeichert\n",
    "    + Parameter und Farbpaletten werden in **Json** gespeichert.\n",
    "    + Die Bilddaten werden in **SVGZ** gespeichert. \n",
    "\n",
    "+ Templates werden mit **Jinja2** erstellt.\n",
    "\n",
    "+ Die XML Bearbeitung basiert auf **lxml**.\n",
    "\n",
    "+ **Numpy** wird zur Array und List Generierung genutzt"
   ]
  },
  {
   "cell_type": "markdown",
   "metadata": {},
   "source": [
    "### Import Modules and Constants"
   ]
  },
  {
   "cell_type": "code",
   "execution_count": 6,
   "metadata": {
    "collapsed": false
   },
   "outputs": [],
   "source": [
    "# import standard moduls\n",
    "import numpy as np\n",
    "import random\n",
    "import jinja2\n",
    "import json\n",
    "from lxml import etree\n",
    "from math import *\n",
    "\n",
    "from datetime import datetime\n",
    "import gzip\n",
    "from itertools import product\n",
    "from math import sin, cos"
   ]
  },
  {
   "cell_type": "code",
   "execution_count": 82,
   "metadata": {
    "collapsed": false
   },
   "outputs": [],
   "source": [
    "##########################################################\n",
    "#-------------------------- CONSTANTS -------------------#\n",
    "##########################################################\n",
    "# supported figures\n",
    "FIGURES = ('rect', 'circle', 'polygon', 'line')\n",
    "\n",
    "#  attributes about the picture\n",
    "#!!! PICTURE_ATTRIBS = ('nr_of_figures', 'pic_struct', 'figure')\n",
    "#!!! KEINE GRID RANDOM CIRCLE UND SPIRAL STRUKTUREN IMPLEMNTIERT\n",
    "\n",
    "# attributes which position the SVG elements \n",
    "LINE_ATTRIBS =  ('x1', 'x2', 'y1', 'y2')\n",
    "FIGURE_ATTRIBS = ('x', 'y', 'height', 'width')\n",
    "\n",
    "# supported SVG 'style' attributes\n",
    "SVG_ATTRIBS = ('fill', 'opacity', 'stroke',\n",
    "               'stroke-opacity', 'stroke-width', 'stroke-linecap')\n",
    "\n",
    "# define the standard input for the pictures SVG template size, background ...\n",
    "PIC_ATTRIBS = {'svg_width':'21in', 'svg_height':'21in',\n",
    "        'w_points':'100', 'h_points':'100',\n",
    "        'fill':'white', 'opacity':'1.',\n",
    "        'stroke':'goldenrod',\n",
    "        'stroke_opacity':'.7', 'stroke_width':'.5'}\n",
    "\n",
    "jinja2_template =\"\"\"<?xml version=\"1.0\" standalone=\"no\"?>\n",
    "<svg xmlns=\"http://www.w3.org/2000/svg\" xmlns:xlink=\"http://www.w3.org/1999/xlink/\" \n",
    "    width=\"{{svg_width}}\" height=\"{{svg_height}}\" \n",
    "viewBox=\"0 0 {{w_points}} {{h_points}}\" version=\"1.2\">\n",
    "\n",
    "  <desc>Picture by J. Wendt</desc>\n",
    "  <!-- START Generator PARAMETERS in Json -->\n",
    "  <desc>{{gen_params}}</desc>\n",
    "  <!-- END Generator PARAMETERS in Json -->\n",
    "  \n",
    "  <!-- Show outline of canvas using 'rect' element -->\n",
    "  <rect id=\"bg-00\" x=\"0\" y=\"0\" width=\"{{w_points}}\" height=\"{{h_points}}\" fill=\"{{fill}}\" \n",
    "    opacity=\"{{opacity}}\" \n",
    "  stroke=\"{{stroke}}\" stroke-opacity=\"{{stroke_opacity}}\" stroke-width=\"{{stroke_width}}\"/>\n",
    "\n",
    "</svg>\n",
    "\"\"\""
   ]
  },
  {
   "cell_type": "markdown",
   "metadata": {},
   "source": [
    "### Funtions"
   ]
  },
  {
   "cell_type": "markdown",
   "metadata": {},
   "source": [
    "#### Basic Data And File Handling"
   ]
  },
  {
   "cell_type": "code",
   "execution_count": 86,
   "metadata": {
    "collapsed": true
   },
   "outputs": [],
   "source": [
    "#---------------------------------------------------------------------#\n",
    "def timestamp():\n",
    "    return datetime.now().strftime('%Y%m%d-%H%M-%S%f')\n",
    "def create_output_directory(root = '', form = 'triangle'):\n",
    "    directory_name = root + form + '-' + timestamp()  \n",
    "    os.mkdir(directory_name)\n",
    "    return directory_name\n",
    "#--------------------------content -----------------------------------#\n",
    "def tofile(fname, content):\n",
    "    \"\"\"write content to file fname \"\"\"\n",
    "    f = open(fname, 'wt')\n",
    "    f.write(content)\n",
    "    f.close()\n",
    "\n",
    "def fromfile(fname):\n",
    "    file = open (fname,'rt')\n",
    "    content = file.read()\n",
    "    file.close()\n",
    "    return content\n",
    "#---------------------------json functions----------------------------#\n",
    "def save_json(fname, params):\n",
    "    f = open(fname, 'w')\n",
    "    json.dump(params, f, sort_keys=True, indent=2)\n",
    "    f.close()\n",
    "\n",
    "def load_json(fname):\n",
    "    f = open(fname, 'r')\n",
    "    result = json.load(f)\n",
    "    f.close()\n",
    "    return result\n",
    "#---------------------------gzip functions----------------------------#\n",
    "def gzip_file(fname):\n",
    "    #gzip eine datei und hänge ein z an das ende\n",
    "    with open(fname , 'rb') as f_in:\n",
    "        with gzip.open(fname + 'z', 'wb') as f_out:\n",
    "            f_out.writelines(f_in)\n",
    "\n",
    "def unzip_file(fname):\n",
    "    with open(fname , 'rb') as f:\n",
    "        content = f.read()\n",
    "    return gzip.decompress(content)\n",
    "\n",
    "def gzip_content2file(fname, content):\n",
    "    with gzip.open(fname, 'wb') as f:\n",
    "        f.write(content)\n",
    "\n",
    "def zip_data(string):\n",
    "    return gzip.compress(bytes(string, 'utf-8'))\n",
    "\n",
    "def unzip(data):\n",
    "    return  gzip.decompress(data).decode(\"utf-8\")"
   ]
  },
  {
   "cell_type": "markdown",
   "metadata": {},
   "source": [
    "#### Geometric and coordination functions"
   ]
  },
  {
   "cell_type": "code",
   "execution_count": 9,
   "metadata": {
    "collapsed": true
   },
   "outputs": [],
   "source": [
    "#---------------------------Geometric functions-------------------------#\n",
    "def create_triangle(x1,y1, l):\n",
    "    \"\"\"Create an isosceles triangle\"\"\"\n",
    "    x2 = x1 + l\n",
    "    y2 = y1 \n",
    "    x3 = x1 + l/2.\n",
    "    y3 = y1 + l * sin(pi/3)\n",
    "    sx = x1 + l/2.\n",
    "    sy = y1 + l * sin(pi/3) / 2.\n",
    "    return (x1, y1, x2, y2, x3, y3, sx, sy)\n",
    "\n",
    "#-----------------------coordinate functions------------------------------#\n",
    "def new_0_coord(pos, new_0 =(40., 55.)):\n",
    "    \"\"\"Transform a point to a cartesian coordinate system with new_0 as zero point\"\"\"\n",
    "    return [new_0[i] + pos[i] for i in [0, 1]] \n",
    "\n",
    "def polar2cartesian(r, theta):\n",
    "    x = r * cos(theta)\n",
    "    y = r * sin(theta)\n",
    "    return (x, y)\n",
    "\n",
    "def round_coord_2(p):\n",
    "    return ( round(p[0], 2), round(p[1], 2) )\n",
    "\n",
    "#-----------------------structurial functions------------------------------#\n",
    "def spiral_points(rotations, length, nr_of_points):\n",
    "    def spiral_radius_list(length,steps):\n",
    "        \"\"\"return al list of the radius for a spiral\"\"\"\n",
    "        dr = float(length) / steps\n",
    "        return [dr * i for i in range(steps)]\n",
    "\n",
    "    def spiral_angle_list(rotations, steps):\n",
    "        \"\"\"return al list of the  angles for a spiral\"\"\"\n",
    "        return [((rotations*2*pi)/steps) * i for i in range(steps)]\n",
    "\n",
    "    return list(map(polar2cartesian, spiral_radius_list(length, nr_of_points),\n",
    "            spiral_angle_list(rotations, nr_of_points)))\n",
    "\n",
    "def circles(nr_of_cir, min_r, max_r, nr_of_points):\n",
    "    def circle_points(r, nr_of_points):\n",
    "        return  list(map(polar2cartesian, nr_of_points * [r],\n",
    "            [((2* pi) / nr_of_points) * i for i in range(nr_of_points)]))\n",
    "\n",
    "    dr = (max_r - min_r) / float(nr_of_cir)\n",
    "    points =[]\n",
    "    for s in range(nr_of_cir):\n",
    "        points += circle_points( min_r + s * dr, nr_of_points)\n",
    "    return points\n",
    "#---------------------------------------------------------------------#\n",
    "def create_grid(y_steps, x_steps, y_start=0.0, y_end=100.0, x_start=0.0, x_end=100.0):\n",
    "    \"\"\"Create a grid to tile a picture with rectangles\n",
    "    Input:\n",
    "    x_steps: Number of tiles in the row\n",
    "    y_steps: Number of tiles in the columns\n",
    "    ?_start, ?_end: Optinal start and end points for tiling\n",
    "    Output:\n",
    "    l: the tiling grid wit upper left tiling start points\n",
    "    width, height: the width and height of one tile \"\"\"\n",
    "\n",
    "    x = np.linspace(x_start, x_end, x_steps +1)\n",
    "    y = np.linspace(y_start, y_end, y_steps + 1)\n",
    "    l = [(round(e[0], 3), round(e[1], 3)) for e in  product(x[:-1], y[:-1])]\n",
    "    width = (x_end - x_start) / x_steps\n",
    "    height = (y_end - y_start) / y_steps\n",
    "    return l, width, height"
   ]
  },
  {
   "cell_type": "markdown",
   "metadata": {},
   "source": [
    "#### Special Functions"
   ]
  },
  {
   "cell_type": "code",
   "execution_count": 13,
   "metadata": {
    "collapsed": true
   },
   "outputs": [],
   "source": [
    "#-------------------------- FUNCTIONS -------------------#\n",
    "# functions to create attributte values are callable by dict keys \n",
    "def fifo_func(values):\n",
    "    return values.pop(0)\n",
    "\n",
    "def svg_rotate(x, y, w, h,  values=('rc', ((0,90), ))):\n",
    "        r = RM_FUNCTION[values[0]](*values[1])\n",
    "        xc = x + 0.5 * w\n",
    "        yc = y + 0.5 * h\n",
    "        return 'rotate(' + ', '.join((str(r), str(xc), str(yc))) + ')'\n",
    "\n",
    "# functions are callable by dict keys\n",
    "RM_FUNCTION = {'ri': random.randint,\n",
    "               'rc': random.choice,\n",
    "               'ro': svg_rotate,\n",
    "               'ar': fifo_func}\n",
    "\n",
    "def get_palette(palette_id):\n",
    "    palettes =  load_json('color-palettes.data',)\n",
    "    return palettes[str(palette_id)]"
   ]
  },
  {
   "cell_type": "markdown",
   "metadata": {},
   "source": [
    "### Objects"
   ]
  },
  {
   "cell_type": "code",
   "execution_count": 83,
   "metadata": {
    "collapsed": false
   },
   "outputs": [],
   "source": [
    "\n",
    "class Figure(object):\n",
    "\n",
    "    def __init__(self, figure, params):\n",
    "        self.figure = figure\n",
    "        if self.figure == 'line':\n",
    "            self.mandatory_attribs = LINE_ATTRIBS\n",
    "        else:\n",
    "            self.mandatory_attribs = FIGURE_ATTRIBS\n",
    "        self.params = params\n",
    "        self.attribs = {}\n",
    "\n",
    "        self.checked = self.set_and_check_mandatory_attributes()\n",
    "        self.set_attributes()\n",
    "\n",
    "    def set_and_check_mandatory_attributes(self):\n",
    "        if not self.figure in FIGURES:\n",
    "            return False\n",
    "        ok = True\n",
    "        for attr in self.mandatory_attribs:\n",
    "            if not attr in self.params:\n",
    "                ok = False\n",
    "                print (self.figure, attr, ':\\tnot defined.')\n",
    "                break\n",
    "        return ok\n",
    "\n",
    "    def set_attributes(self):\n",
    "        for attr in self.params:\n",
    "            if (attr in self.mandatory_attribs) or (attr in SVG_ATTRIBS):\n",
    "                v = self.params[attr]\n",
    "                self.attribs[attr] = RM_FUNCTION[v[0]](*v[1])\n",
    "        if 'transform' in self.params and not self.figure == 'line':\n",
    "            self.attribs['transform'] = svg_rotate(\\\n",
    "                *[self.attribs[k] for k in ('x','y','width','height')],\n",
    "                values = self.params['transform'])\n",
    "\n",
    "    def attribs_to_string(self):\n",
    "        return {k: str(v) for k, v in self.attribs.items()}\n",
    "\n",
    "\n",
    "class SVGPicture(object):\n",
    "\n",
    "    def __init__(self, params, pic_attribs=PIC_ATTRIBS):\n",
    "        self.pic_attribs = pic_attribs\n",
    "        self.params = params\n",
    "        self.create_picture()\n",
    "\n",
    "    def create_picture(self):\n",
    "        self.set_svg_root()\n",
    "        #for fig in self.params[\"figures\"]:\n",
    "        for i in range(self.params[\"nr_of_figures\"]):\n",
    "            f = self.params['figures']\n",
    "            figure = RM_FUNCTION[f[0]](*f[1])\n",
    "            self.root.append(etree.Element(figure,\n",
    "                    attrib= Figure(figure, self.params).attribs_to_string()))\n",
    "        self.fit_svg_circles()\n",
    "        self.fit_svg_polygons()\n",
    "\n",
    "    def add_figures(self, figures):\n",
    "        for fig in figures:\n",
    "            self.root.append(etree.Element(fig,\n",
    "                    attrib= Figure(fig, self.params).attributes_to_str()))\n",
    "        self.fit_svg_circles()\n",
    "        self.fit_svg_polygons()\n",
    "        self.new_image = True\n",
    "\n",
    "    def set_svg_root(self, template_id=4):\n",
    "        #load the SVG-template to jinja2\n",
    "    \n",
    "        template = jinja2.Template(jinja2_template)\n",
    "        self.pic_attribs['gen_params'] = self.params_to_json()\n",
    "        svg_base = template.render(self.pic_attribs)\n",
    "        # Create a basic SVG/XML root\n",
    "        self.root = etree.fromstring(svg_base)\n",
    "\n",
    "    def fit_svg_circles(self):\n",
    "        elem_circles = self.root.findall('circle')\n",
    "        for e in elem_circles:\n",
    "            e.attrib['r'] = \"{:0.2f}\".format(max(float(e.attrib['height']),\n",
    "                                                 float(e.attrib['width'])) / 2)\n",
    "            e.attrib['cx'] = \"{:0.2f}\".format(float(e.attrib['x']) + float(e.attrib['r']))\n",
    "            e.attrib['cy'] = \"{:0.2f}\".format(float(e.attrib['y']) + float(e.attrib['r']))\n",
    "            etree.strip_attributes(e, 'x', 'y', 'width', 'height', 'transform')\n",
    "\n",
    "    def fit_svg_polygons(self):\n",
    "        elem_polygons = self.root.findall('polygon')\n",
    "        for e in elem_polygons:\n",
    "            e.attrib['width'] = e.attrib['height']\n",
    "            t = create_triangle(float(e.attrib['x']), float(e.attrib['y']) ,\n",
    "                                max(float(e.attrib['height']), float(e.attrib['width'])))\n",
    "            e.attrib['points'] = \"{:0.2f},{:0.2f} {:0.2f},{:0.2f} {:0.2f},{:0.2f}\".\\\n",
    "            format(*t[:-2])\n",
    "            etree.strip_attributes(e, 'x', 'y', 'width', 'height')\n",
    "\n",
    "    def add_id_to_svg_elems(self):\n",
    "        def idplus1_func(a):\n",
    "            return a + 1\n",
    "        tags = ('rect', 'cirlce', 'polygon', 'line')\n",
    "        c = [e for e in self.root.getchildren() if e.tag in tags]\n",
    "        self.add_tag_to_elements('id', id1_func, c)\n",
    "\n",
    "    def add_figures(self, figures):\n",
    "        for fig in figures:\n",
    "            self.root.append(etree.Element(fig,\n",
    "                    attrib= Figure(fig, self.params).attributes_to_str()))\n",
    "        self.fit_svg_circles()\n",
    "        self.fit_svg_polygons()\n",
    "\n",
    "    def add_tag_to_svg_elems(self, tag, valfunc, elements):\n",
    "        for i, e in enumerate(elements):\n",
    "            e.attrib[tag] = str(valfunc(i))\n",
    "\n",
    "    def copyright_to_xml(self):\n",
    "        # append a copyriht information to the SVG output. Set x,y position etc.. \n",
    "        copyright = etree.SubElement(self.root, \"text\")\n",
    "        copyright.text = \"© d-j-w, Hamburg 2016 - \" + timestamp()\n",
    "        copyright.attrib['x'] = \"1\"\n",
    "        copyright.attrib['y'] = \"99\"\n",
    "        copyright.attrib['fill'] = \"silver\"\n",
    "        copyright.attrib['style'] = \"font-size:0.5mm\"\n",
    "            \n",
    "\n",
    "    def xml_to_string(self):\n",
    "        # convert the SVG/XML root to a string  \n",
    "        return '<?xml version=\"1.0\" standalone=\"no\"?>\\n' + \\\n",
    "            etree.tostring(self.root).decode('utf-8').replace('><', '>\\n<')\n",
    "\n",
    "\n",
    "    def params_to_json(self):\n",
    "        # This has to be done  if the params changed BEFORE THE IMAGE IS STORED\n",
    "        const_attrs = {}\n",
    "        const_attrs['params'] = {k:v for k,v in self.params.items() if\n",
    "                               (not type(v) == tuple) or not v[0] == 'ar' }\n",
    "\n",
    "        return json.dumps(const_attrs, separators=(',', ':'))\n",
    "\n",
    "    def to_file(self):\n",
    "        #store image into a file\n",
    "        f = open('pic-' + timestamp() + '.svgz', 'wb')\n",
    "        f.write(zip_data(self.xml_to_string()))\n",
    "        f.close()\n",
    "        print(timestamp())"
   ]
  },
  {
   "cell_type": "markdown",
   "metadata": {},
   "source": [
    "###  Line Construction"
   ]
  },
  {
   "cell_type": "code",
   "execution_count": 17,
   "metadata": {
    "collapsed": true
   },
   "outputs": [],
   "source": [
    "from random import randint, choice\n",
    "\n",
    "def get_random_border_point(start_x=0, end_x=100, start_y=0, end_y=100):\n",
    "    \"\"\"return a Point which lays on the border of the picture\"\"\"\n",
    "    fixed_side = choice(('x', 'y'))\n",
    "    if fixed_side == 'x':\n",
    "        fixed_num = choice((start_x, end_x))\n",
    "        var = randint(start_y, end_y)\n",
    "        return(fixed_num, var)\n",
    "    elif fixed_side == 'y':\n",
    "        fixed_num = choice((start_y, end_y))\n",
    "        var = randint(start_x, end_x)\n",
    "        return(var, fixed_num)"
   ]
  },
  {
   "cell_type": "code",
   "execution_count": 18,
   "metadata": {
    "collapsed": false
   },
   "outputs": [],
   "source": [
    "nr_of_origins = 30\n",
    "nr_of_lines = 100\n",
    "\n",
    "origins_x_area = (0, 100)\n",
    "origins_y_area = (100, 100)\n",
    "\n",
    "target_x_area = (0, 100)\n",
    "target_y_area = (0, 0)\n",
    "\n",
    "# Define starting points for the lines\n",
    "origins =[]\n",
    "targets =[]\n",
    "for i in range(nr_of_origins):\n",
    "    origins.append((randint(origins_x_area[0], origins_x_area[1]),\n",
    "                    randint(origins_y_area[0], origins_y_area[1])))\n",
    "for i in range(nr_of_lines):\n",
    "    targets.append((randint(target_x_area[0], target_x_area[1]),\n",
    "                    randint(target_y_area[0], target_y_area[1])))\n",
    "\n",
    "# Define lines\n",
    "lines =[]\n",
    "for i in range(nr_of_lines):\n",
    "    p1 = choice(origins)\n",
    "    p2 = choice(targets)\n",
    "    lines.append((p1[0], p1[1], p2[0], p2[1]))"
   ]
  },
  {
   "cell_type": "markdown",
   "metadata": {},
   "source": [
    "## Produce Pictures"
   ]
  },
  {
   "cell_type": "code",
   "execution_count": 20,
   "metadata": {
    "collapsed": false
   },
   "outputs": [],
   "source": [
    "import copy\n",
    "from IPython.display import HTML, SVG"
   ]
  },
  {
   "cell_type": "code",
   "execution_count": 64,
   "metadata": {
    "collapsed": true
   },
   "outputs": [],
   "source": [
    "# Define basic picture attributtes for the pictures SVG template  like size, background ...\n",
    "pic_attribs = {'svg_width':'21in', 'svg_height':'21in',\n",
    "        'w_points':'100', 'h_points':'100',\n",
    "        'fill':'red', \n",
    "        'opacity':'1.',\n",
    "        'stroke':'goldenrod',\n",
    "        'stroke_opacity':'.3', \n",
    "        'stroke_width':'35'}"
   ]
  },
  {
   "cell_type": "code",
   "execution_count": 84,
   "metadata": {
    "collapsed": false
   },
   "outputs": [
    {
     "data": {
      "image/svg+xml": [
       "<svg height=\"620px\" version=\"1.2\" viewBox=\"0 0 100 100\" width=\"620px\" xmlns=\"http://www.w3.org/2000/svg\" xmlns:xlink=\"http://www.w3.org/1999/xlink/\">\n",
       "\n",
       "  <desc>Picture by J. Wendt</desc>\n",
       "  <!-- Generator PARAMETERS in Json -->\n",
       "  <desc>{&quot;params&quot;:{&quot;transform&quot;:[&quot;rc&quot;,[[90,180]]],&quot;colorid&quot;:714,&quot;structure&quot;:&quot;RANDOM&quot;,&quot;height&quot;:[&quot;rc&quot;,[[40,20]]],&quot;palette&quot;:[&quot;#3E6E90&quot;,&quot;#4C423D&quot;,&quot;#DBBEAA&quot;,&quot;#5A5550&quot;,&quot;#928A7E&quot;],&quot;figures&quot;:[&quot;rc&quot;,[[&quot;rect&quot;,&quot;polygon&quot;,&quot;circle&quot;,&quot;line&quot;]]],&quot;stroke-linecap&quot;:[&quot;rc&quot;,[[&quot;round&quot;]]],&quot;fill&quot;:[&quot;rc&quot;,[[&quot;#3E6E90&quot;,&quot;#4C423D&quot;,&quot;#DBBEAA&quot;,&quot;#5A5550&quot;,&quot;#928A7E&quot;]]],&quot;nr_of_figures&quot;:64,&quot;stroke&quot;:[&quot;rc&quot;,[[&quot;#3E6E90&quot;,&quot;#4C423D&quot;,&quot;#DBBEAA&quot;,&quot;#5A5550&quot;,&quot;#928A7E&quot;]]],&quot;y&quot;:[&quot;ri&quot;,[-20,120]],&quot;x&quot;:[&quot;ri&quot;,[-20,120]],&quot;stroke-width&quot;:[&quot;rc&quot;,[[6,4]]],&quot;width&quot;:[&quot;rc&quot;,[[50,10]]],&quot;opacity&quot;:[&quot;rc&quot;,[[0.2,0.4]]],&quot;stroke-opacity&quot;:[&quot;rc&quot;,[[0.8,0.6]]]}}</desc>\n",
       "  <!-- Show outline of canvas using 'rect' element -->\n",
       "  <rect fill=\"red\" height=\"100\" id=\"bg-00\" opacity=\"1.\" stroke=\"goldenrod\" stroke-opacity=\".3\" stroke-width=\"35\" width=\"100\" x=\"0\" y=\"0\"/>\n",
       "\n",
       "<circle cx=\"62.00\" cy=\"121.00\" fill=\"#928A7E\" opacity=\"0.4\" r=\"10.00\" stroke=\"#3E6E90\" stroke-linecap=\"round\" stroke-opacity=\"0.6\" stroke-width=\"6\"/>\n",
       "<rect fill=\"#928A7E\" height=\"20\" opacity=\"0.4\" stroke=\"#928A7E\" stroke-linecap=\"round\" stroke-opacity=\"0.8\" stroke-width=\"6\" transform=\"rotate(90, 145.0, 99.0)\" width=\"50\" x=\"120\" y=\"89\"/>\n",
       "<circle cx=\"98.00\" cy=\"14.00\" fill=\"#5A5550\" opacity=\"0.4\" r=\"25.00\" stroke=\"#4C423D\" stroke-linecap=\"round\" stroke-opacity=\"0.6\" stroke-width=\"6\"/>\n",
       "<circle cx=\"62.00\" cy=\"-3.00\" fill=\"#DBBEAA\" opacity=\"0.4\" r=\"10.00\" stroke=\"#DBBEAA\" stroke-linecap=\"round\" stroke-opacity=\"0.8\" stroke-width=\"6\"/>\n",
       "<line fill=\"#928A7E\" opacity=\"0.2\" stroke=\"#5A5550\" stroke-linecap=\"round\" stroke-opacity=\"0.8\" stroke-width=\"4\" x1=\"60\" x2=\"75\" y1=\"10\" y2=\"10\"/>\n",
       "<rect fill=\"#4C423D\" height=\"20\" opacity=\"0.4\" stroke=\"#DBBEAA\" stroke-linecap=\"round\" stroke-opacity=\"0.8\" stroke-width=\"4\" transform=\"rotate(90, 16.0, 80.0)\" width=\"50\" x=\"-9\" y=\"70\"/>\n",
       "<circle cx=\"21.00\" cy=\"134.00\" fill=\"#5A5550\" opacity=\"0.4\" r=\"25.00\" stroke=\"#3E6E90\" stroke-linecap=\"round\" stroke-opacity=\"0.6\" stroke-width=\"6\"/>\n",
       "<circle cx=\"117.00\" cy=\"88.00\" fill=\"#3E6E90\" opacity=\"0.4\" r=\"25.00\" stroke=\"#3E6E90\" stroke-linecap=\"round\" stroke-opacity=\"0.6\" stroke-width=\"6\"/>\n",
       "<line fill=\"#5A5550\" opacity=\"0.4\" stroke=\"#928A7E\" stroke-linecap=\"round\" stroke-opacity=\"0.8\" stroke-width=\"4\" x1=\"7\" x2=\"8\" y1=\"22\" y2=\"22\"/>\n",
       "<polygon fill=\"#5A5550\" opacity=\"0.4\" points=\"45.00,17.00 65.00,17.00 55.00,34.32\" stroke=\"#928A7E\" stroke-linecap=\"round\" stroke-opacity=\"0.8\" stroke-width=\"6\" transform=\"rotate(90, 50.0, 27.0)\"/>\n",
       "<rect fill=\"#3E6E90\" height=\"40\" opacity=\"0.2\" stroke=\"#3E6E90\" stroke-linecap=\"round\" stroke-opacity=\"0.6\" stroke-width=\"6\" transform=\"rotate(180, 36.0, 132.0)\" width=\"50\" x=\"11\" y=\"112\"/>\n",
       "<polygon fill=\"#4C423D\" opacity=\"0.4\" points=\"4.00,85.00 24.00,85.00 14.00,102.32\" stroke=\"#DBBEAA\" stroke-linecap=\"round\" stroke-opacity=\"0.6\" stroke-width=\"6\" transform=\"rotate(90, 9.0, 95.0)\"/>\n",
       "<polygon fill=\"#3E6E90\" opacity=\"0.4\" points=\"-10.00,64.00 30.00,64.00 10.00,98.64\" stroke=\"#928A7E\" stroke-linecap=\"round\" stroke-opacity=\"0.6\" stroke-width=\"6\" transform=\"rotate(90, -5.0, 84.0)\"/>\n",
       "<rect fill=\"#DBBEAA\" height=\"20\" opacity=\"0.2\" stroke=\"#3E6E90\" stroke-linecap=\"round\" stroke-opacity=\"0.8\" stroke-width=\"4\" transform=\"rotate(180, 93.0, 76.0)\" width=\"10\" x=\"88\" y=\"66\"/>\n",
       "<polygon fill=\"#4C423D\" opacity=\"0.4\" points=\"94.00,61.00 114.00,61.00 104.00,78.32\" stroke=\"#3E6E90\" stroke-linecap=\"round\" stroke-opacity=\"0.8\" stroke-width=\"6\" transform=\"rotate(180, 99.0, 71.0)\"/>\n",
       "<polygon fill=\"#3E6E90\" opacity=\"0.2\" points=\"1.00,15.00 41.00,15.00 21.00,49.64\" stroke=\"#3E6E90\" stroke-linecap=\"round\" stroke-opacity=\"0.6\" stroke-width=\"4\" transform=\"rotate(180, 6.0, 35.0)\"/>\n",
       "<rect fill=\"#5A5550\" height=\"40\" opacity=\"0.4\" stroke=\"#3E6E90\" stroke-linecap=\"round\" stroke-opacity=\"0.8\" stroke-width=\"4\" transform=\"rotate(180, 36.0, 57.0)\" width=\"50\" x=\"11\" y=\"37\"/>\n",
       "<rect fill=\"#4C423D\" height=\"20\" opacity=\"0.2\" stroke=\"#4C423D\" stroke-linecap=\"round\" stroke-opacity=\"0.6\" stroke-width=\"6\" transform=\"rotate(180, 83.0, 87.0)\" width=\"50\" x=\"58\" y=\"77\"/>\n",
       "<rect fill=\"#4C423D\" height=\"40\" opacity=\"0.2\" stroke=\"#3E6E90\" stroke-linecap=\"round\" stroke-opacity=\"0.6\" stroke-width=\"6\" transform=\"rotate(90, 34.0, 15.0)\" width=\"10\" x=\"29\" y=\"-5\"/>\n",
       "<rect fill=\"#928A7E\" height=\"20\" opacity=\"0.4\" stroke=\"#3E6E90\" stroke-linecap=\"round\" stroke-opacity=\"0.6\" stroke-width=\"6\" transform=\"rotate(180, 65.0, 100.0)\" width=\"50\" x=\"40\" y=\"90\"/>\n",
       "<circle cx=\"111.00\" cy=\"26.00\" fill=\"#4C423D\" opacity=\"0.4\" r=\"25.00\" stroke=\"#928A7E\" stroke-linecap=\"round\" stroke-opacity=\"0.8\" stroke-width=\"4\"/>\n",
       "<line fill=\"#4C423D\" opacity=\"0.2\" stroke=\"#4C423D\" stroke-linecap=\"round\" stroke-opacity=\"0.8\" stroke-width=\"4\" x1=\"75\" x2=\"93\" y1=\"34\" y2=\"34\"/>\n",
       "<rect fill=\"#5A5550\" height=\"20\" opacity=\"0.2\" stroke=\"#4C423D\" stroke-linecap=\"round\" stroke-opacity=\"0.8\" stroke-width=\"6\" transform=\"rotate(90, 88.0, 84.0)\" width=\"50\" x=\"63\" y=\"74\"/>\n",
       "<circle cx=\"113.00\" cy=\"129.00\" fill=\"#3E6E90\" opacity=\"0.2\" r=\"25.00\" stroke=\"#DBBEAA\" stroke-linecap=\"round\" stroke-opacity=\"0.6\" stroke-width=\"4\"/>\n",
       "<polygon fill=\"#4C423D\" opacity=\"0.4\" points=\"36.00,27.00 56.00,27.00 46.00,44.32\" stroke=\"#4C423D\" stroke-linecap=\"round\" stroke-opacity=\"0.6\" stroke-width=\"6\" transform=\"rotate(180, 61.0, 37.0)\"/>\n",
       "<line fill=\"#928A7E\" opacity=\"0.4\" stroke=\"#928A7E\" stroke-linecap=\"round\" stroke-opacity=\"0.8\" stroke-width=\"4\" x1=\"24\" x2=\"14\" y1=\"46\" y2=\"46\"/>\n",
       "<circle cx=\"14.00\" cy=\"44.00\" fill=\"#5A5550\" opacity=\"0.4\" r=\"25.00\" stroke=\"#928A7E\" stroke-linecap=\"round\" stroke-opacity=\"0.8\" stroke-width=\"6\"/>\n",
       "<line fill=\"#928A7E\" opacity=\"0.4\" stroke=\"#DBBEAA\" stroke-linecap=\"round\" stroke-opacity=\"0.6\" stroke-width=\"4\" x1=\"53\" x2=\"37\" y1=\"58\" y2=\"58\"/>\n",
       "<polygon fill=\"#4C423D\" opacity=\"0.4\" points=\"75.00,-11.00 115.00,-11.00 95.00,23.64\" stroke=\"#4C423D\" stroke-linecap=\"round\" stroke-opacity=\"0.6\" stroke-width=\"6\" transform=\"rotate(180, 100.0, 9.0)\"/>\n",
       "<line fill=\"#DBBEAA\" opacity=\"0.4\" stroke=\"#5A5550\" stroke-linecap=\"round\" stroke-opacity=\"0.6\" stroke-width=\"6\" x1=\"0\" x2=\"47\" y1=\"70\" y2=\"70\"/>\n",
       "<line fill=\"#3E6E90\" opacity=\"0.4\" stroke=\"#3E6E90\" stroke-linecap=\"round\" stroke-opacity=\"0.6\" stroke-width=\"4\" x1=\"82\" x2=\"65\" y1=\"82\" y2=\"82\"/>\n",
       "<rect fill=\"#5A5550\" height=\"40\" opacity=\"0.4\" stroke=\"#5A5550\" stroke-linecap=\"round\" stroke-opacity=\"0.6\" stroke-width=\"4\" transform=\"rotate(180, 21.0, 75.0)\" width=\"50\" x=\"-4\" y=\"55\"/>\n",
       "<circle cx=\"71.00\" cy=\"37.00\" fill=\"#DBBEAA\" opacity=\"0.4\" r=\"20.00\" stroke=\"#3E6E90\" stroke-linecap=\"round\" stroke-opacity=\"0.6\" stroke-width=\"4\"/>\n",
       "<circle cx=\"118.00\" cy=\"122.00\" fill=\"#3E6E90\" opacity=\"0.2\" r=\"25.00\" stroke=\"#928A7E\" stroke-linecap=\"round\" stroke-opacity=\"0.8\" stroke-width=\"6\"/>\n",
       "<line fill=\"#5A5550\" opacity=\"0.2\" stroke=\"#5A5550\" stroke-linecap=\"round\" stroke-opacity=\"0.6\" stroke-width=\"6\" x1=\"24\" x2=\"38\" y1=\"94\" y2=\"94\"/>\n",
       "<line fill=\"#DBBEAA\" opacity=\"0.2\" stroke=\"#928A7E\" stroke-linecap=\"round\" stroke-opacity=\"0.6\" stroke-width=\"4\" x1=\"60\" x2=\"95\" y1=\"10\" y2=\"10\"/>\n",
       "<polygon fill=\"#3E6E90\" opacity=\"0.4\" points=\"2.00,98.00 42.00,98.00 22.00,132.64\" stroke=\"#4C423D\" stroke-linecap=\"round\" stroke-opacity=\"0.8\" stroke-width=\"6\" transform=\"rotate(180, 7.0, 118.0)\"/>\n",
       "<circle cx=\"84.00\" cy=\"144.00\" fill=\"#3E6E90\" opacity=\"0.4\" r=\"25.00\" stroke=\"#4C423D\" stroke-linecap=\"round\" stroke-opacity=\"0.6\" stroke-width=\"4\"/>\n",
       "<line fill=\"#4C423D\" opacity=\"0.4\" stroke=\"#4C423D\" stroke-linecap=\"round\" stroke-opacity=\"0.6\" stroke-width=\"4\" x1=\"60\" x2=\"22\" y1=\"22\" y2=\"22\"/>\n",
       "<polygon fill=\"#4C423D\" opacity=\"0.4\" points=\"47.00,18.00 67.00,18.00 57.00,35.32\" stroke=\"#5A5550\" stroke-linecap=\"round\" stroke-opacity=\"0.6\" stroke-width=\"6\" transform=\"rotate(90, 52.0, 28.0)\"/>\n",
       "<polygon fill=\"#DBBEAA\" opacity=\"0.4\" points=\"-4.00,9.00 36.00,9.00 16.00,43.64\" stroke=\"#DBBEAA\" stroke-linecap=\"round\" stroke-opacity=\"0.6\" stroke-width=\"6\" transform=\"rotate(90, 21.0, 29.0)\"/>\n",
       "<rect fill=\"#3E6E90\" height=\"40\" opacity=\"0.2\" stroke=\"#DBBEAA\" stroke-linecap=\"round\" stroke-opacity=\"0.6\" stroke-width=\"4\" transform=\"rotate(90, -14.0, 73.0)\" width=\"10\" x=\"-19\" y=\"53\"/>\n",
       "<circle cx=\"54.00\" cy=\"36.00\" fill=\"#928A7E\" opacity=\"0.2\" r=\"20.00\" stroke=\"#4C423D\" stroke-linecap=\"round\" stroke-opacity=\"0.8\" stroke-width=\"6\"/>\n",
       "<polygon fill=\"#3E6E90\" opacity=\"0.4\" points=\"28.00,-10.00 68.00,-10.00 48.00,24.64\" stroke=\"#3E6E90\" stroke-linecap=\"round\" stroke-opacity=\"0.8\" stroke-width=\"6\" transform=\"rotate(180, 53.0, 10.0)\"/>\n",
       "<line fill=\"#928A7E\" opacity=\"0.2\" stroke=\"#DBBEAA\" stroke-linecap=\"round\" stroke-opacity=\"0.8\" stroke-width=\"4\" x1=\"22\" x2=\"12\" y1=\"34\" y2=\"34\"/>\n",
       "<polygon fill=\"#5A5550\" opacity=\"0.2\" points=\"85.00,28.00 125.00,28.00 105.00,62.64\" stroke=\"#4C423D\" stroke-linecap=\"round\" stroke-opacity=\"0.8\" stroke-width=\"4\" transform=\"rotate(90, 90.0, 48.0)\"/>\n",
       "<line fill=\"#3E6E90\" opacity=\"0.2\" stroke=\"#3E6E90\" stroke-linecap=\"round\" stroke-opacity=\"0.8\" stroke-width=\"6\" x1=\"51\" x2=\"29\" y1=\"46\" y2=\"46\"/>\n",
       "<polygon fill=\"#4C423D\" opacity=\"0.4\" points=\"64.00,40.00 84.00,40.00 74.00,57.32\" stroke=\"#4C423D\" stroke-linecap=\"round\" stroke-opacity=\"0.8\" stroke-width=\"6\" transform=\"rotate(90, 89.0, 50.0)\"/>\n",
       "<rect fill=\"#DBBEAA\" height=\"40\" opacity=\"0.4\" stroke=\"#5A5550\" stroke-linecap=\"round\" stroke-opacity=\"0.8\" stroke-width=\"6\" transform=\"rotate(180, -4.0, 22.0)\" width=\"10\" x=\"-9\" y=\"2\"/>\n",
       "<line fill=\"#3E6E90\" opacity=\"0.4\" stroke=\"#928A7E\" stroke-linecap=\"round\" stroke-opacity=\"0.8\" stroke-width=\"6\" x1=\"81\" x2=\"92\" y1=\"58\" y2=\"58\"/>\n",
       "<rect fill=\"#928A7E\" height=\"20\" opacity=\"0.2\" stroke=\"#DBBEAA\" stroke-linecap=\"round\" stroke-opacity=\"0.8\" stroke-width=\"4\" transform=\"rotate(90, 65.0, 47.0)\" width=\"50\" x=\"40\" y=\"37\"/>\n",
       "<rect fill=\"#4C423D\" height=\"40\" opacity=\"0.2\" stroke=\"#4C423D\" stroke-linecap=\"round\" stroke-opacity=\"0.8\" stroke-width=\"6\" transform=\"rotate(90, 59.0, 80.0)\" width=\"50\" x=\"34\" y=\"60\"/>\n",
       "<polygon fill=\"#3E6E90\" opacity=\"0.4\" points=\"95.00,36.00 135.00,36.00 115.00,70.64\" stroke=\"#DBBEAA\" stroke-linecap=\"round\" stroke-opacity=\"0.8\" stroke-width=\"4\" transform=\"rotate(90, 120.0, 56.0)\"/>\n",
       "<rect fill=\"#5A5550\" height=\"40\" opacity=\"0.2\" stroke=\"#3E6E90\" stroke-linecap=\"round\" stroke-opacity=\"0.8\" stroke-width=\"4\" transform=\"rotate(180, 73.0, 15.0)\" width=\"50\" x=\"48\" y=\"-5\"/>\n",
       "<rect fill=\"#4C423D\" height=\"40\" opacity=\"0.2\" stroke=\"#3E6E90\" stroke-linecap=\"round\" stroke-opacity=\"0.6\" stroke-width=\"4\" transform=\"rotate(90, 102.0, 78.0)\" width=\"50\" x=\"77\" y=\"58\"/>\n",
       "<line fill=\"#4C423D\" opacity=\"0.4\" stroke=\"#4C423D\" stroke-linecap=\"round\" stroke-opacity=\"0.6\" stroke-width=\"6\" x1=\"89\" x2=\"22\" y1=\"70\" y2=\"70\"/>\n",
       "<line fill=\"#928A7E\" opacity=\"0.2\" stroke=\"#3E6E90\" stroke-linecap=\"round\" stroke-opacity=\"0.6\" stroke-width=\"6\" x1=\"75\" x2=\"22\" y1=\"82\" y2=\"82\"/>\n",
       "<line fill=\"#5A5550\" opacity=\"0.4\" stroke=\"#928A7E\" stroke-linecap=\"round\" stroke-opacity=\"0.8\" stroke-width=\"4\" x1=\"7\" x2=\"90\" y1=\"94\" y2=\"94\"/>\n",
       "<polygon fill=\"#5A5550\" opacity=\"0.2\" points=\"66.00,80.00 86.00,80.00 76.00,97.32\" stroke=\"#DBBEAA\" stroke-linecap=\"round\" stroke-opacity=\"0.8\" stroke-width=\"6\" transform=\"rotate(180, 71.0, 90.0)\"/>\n",
       "<circle cx=\"32.00\" cy=\"48.00\" fill=\"#5A5550\" opacity=\"0.4\" r=\"25.00\" stroke=\"#4C423D\" stroke-linecap=\"round\" stroke-opacity=\"0.8\" stroke-width=\"6\"/>\n",
       "<polygon fill=\"#3E6E90\" opacity=\"0.4\" points=\"28.00,7.00 68.00,7.00 48.00,41.64\" stroke=\"#928A7E\" stroke-linecap=\"round\" stroke-opacity=\"0.6\" stroke-width=\"6\" transform=\"rotate(180, 33.0, 27.0)\"/>\n",
       "<polygon fill=\"#3E6E90\" opacity=\"0.4\" points=\"-18.00,5.00 2.00,5.00 -8.00,22.32\" stroke=\"#4C423D\" stroke-linecap=\"round\" stroke-opacity=\"0.6\" stroke-width=\"4\" transform=\"rotate(90, 7.0, 15.0)\"/>\n",
       "<circle cx=\"36.00\" cy=\"-4.00\" fill=\"#4C423D\" opacity=\"0.4\" r=\"10.00\" stroke=\"#3E6E90\" stroke-linecap=\"round\" stroke-opacity=\"0.8\" stroke-width=\"4\"/>\n",
       "<rect fill=\"#DBBEAA\" height=\"40\" opacity=\"0.4\" stroke=\"#5A5550\" stroke-linecap=\"round\" stroke-opacity=\"0.6\" stroke-width=\"4\" transform=\"rotate(180, 106.0, 140.0)\" width=\"50\" x=\"81\" y=\"120\"/>\n",
       "</svg>"
      ],
      "text/plain": [
       "<IPython.core.display.SVG object>"
      ]
     },
     "execution_count": 84,
     "metadata": {},
     "output_type": "execute_result"
    }
   ],
   "source": [
    "color_id = 714\n",
    "nr_of_figures = 64\n",
    "# set the colors\n",
    "palette = get_palette(color_id)\n",
    "params ={}\n",
    "params['structure'] = 'RANDOM'\n",
    "params['colorid'] = color_id\n",
    "params['palette'] = palette\n",
    "params['nr_of_figures'] = nr_of_figures\n",
    "figs_to_choice = ( 'rect' , 'polygon', 'circle', 'line',) #'rect', 'circle', 'polygon',\n",
    "#params['figures'] = [random.choice(figs_to_choice) for i in range(nr_of_figures)]\n",
    "params['figures'] = ('rc', [figs_to_choice, ]) \n",
    "\n",
    "# params for creation of circles rects and polygons(triangles) \n",
    "params['x'] = ('ri', [-20, 120])\n",
    "params['y'] = ('ri', [-20, 120])\n",
    "params['height'] = ('rc', ([40, 20,   ], ))\n",
    "params['width'] = ('rc', ([50, 10, ], ))\n",
    "\n",
    "# params for line creation\n",
    "params['x1'] = ('ar', ([l[0] for l in lines], ))\n",
    "#params['y1'] = ('ar', ([l[1] for l in lines], ))\n",
    "params['x2'] = ('ar', ([l[2] for l in lines], ))  #('ri', [0, 100])\n",
    "#params['y2'] = ('ar', ([l[3] for l in lines], ))\n",
    "y1_list = list(range(10, 100, 12)) * int((nr_of_figures / 3))\n",
    "params['y1'] = ('ar', (y1_list, ))\n",
    "y2_list = copy.deepcopy(y1_list)\n",
    "params['y2'] = ('ar', (y2_list, ))\n",
    "\n",
    "# params for svg style \n",
    "params['fill'] = ('rc', [palette[:],] )\n",
    "params['opacity'] = ('rc', [( .2, .4), ]) \n",
    "params['stroke'] = ('rc', [palette[:],] )\n",
    "params['stroke-linecap'] = ('rc', ([\"round\",], ))\n",
    "params['stroke-opacity'] = ('rc', [( .8, .6), ])\n",
    "params['stroke-width'] = ('rc', [(6, 4  ), ])\n",
    "params['transform'] = ('rc', [[ 90, 180  ], ])\n",
    "\n",
    "svg = SVGPicture(params, pic_attribs=pic_attribs) \n",
    "SVG(svg.xml_to_string().replace('21in', '620px'))"
   ]
  },
  {
   "cell_type": "raw",
   "metadata": {},
   "source": []
  },
  {
   "cell_type": "code",
   "execution_count": 85,
   "metadata": {
    "collapsed": false
   },
   "outputs": [
    {
     "name": "stdout",
     "output_type": "stream",
     "text": [
      "<?xml version=\"1.0\" standalone=\"no\"?>\n",
      "<svg xmlns=\"http://www.w3.org/2000/svg\" xmlns:xlink=\"http://www.w3.org/1999/xlink/\" width=\"21in\" height=\"21in\" viewBox=\"0 0 100 100\" version=\"1.2\">\n",
      "\n",
      "  <desc>Picture by J. Wendt</desc>\n",
      "  <!-- Generator PARAMETERS in Json -->\n",
      "  <desc>{\"params\":{\"transform\":[\"rc\",[[90,180]]],\"colorid\":714,\"structure\":\"RANDOM\",\"height\":[\"rc\",[[40,20]]],\"palette\":[\"#3E6E90\",\"#4C423D\",\"#DBBEAA\",\"#5A5550\",\"#928A7E\"],\"figures\":[\"rc\",[[\"rect\",\"polygon\",\"circle\",\"line\"]]],\"stroke-linecap\":[\"rc\",[[\"round\"]]],\"fill\":[\"rc\",[[\"#3E6E90\",\"#4C423D\",\"#DBBEAA\",\"#5A5550\",\"#928A7E\"]]],\"nr_of_figures\":64,\"stroke\":[\"rc\",[[\"#3E6E90\",\"#4C423D\",\"#DBBEAA\",\"#5A5550\",\"#928A7E\"]]],\"y\":[\"ri\",[-20,120]],\"x\":[\"ri\",[-20,120]],\"stroke-width\":[\"rc\",[[6,4]]],\"width\":[\"rc\",[[50,10]]],\"opacity\":[\"rc\",[[0.2,0.4]]],\"stroke-opacity\":[\"rc\",[[0.8,0.6]]]}}</desc>\n",
      "  <!-- Show outline of canvas using 'rect' element -->\n",
      "  <rect id=\"bg-00\" x=\"0\" y=\"0\" width=\"100\" height=\"100\" fill=\"red\" opacity=\"1.\" stroke=\"goldenrod\" stroke-opacity=\".3\" stroke-width=\"35\"/>\n",
      "\n",
      "<circle fill=\"#928A7E\" opacity=\"0.4\" stroke=\"#3E6E90\" stroke-linecap=\"round\" stroke-opacity=\"0.6\" stroke-width=\"6\" r=\"10.00\" cx=\"62.00\" cy=\"121.00\"/>\n",
      "<rect fill=\"#928A7E\" height=\"20\" opacity=\"0.4\" stroke=\"#928A7E\" stroke-linecap=\"round\" stroke-opacity=\"0.8\" stroke-width=\"6\" transform=\"rotate(90, 145.0, 99.0)\" width=\"50\" x=\"120\" y=\"89\"/>\n",
      "<circle fill=\"#5A5550\" opacity=\"0.4\" stroke=\"#4C423D\" stroke-linecap=\"round\" stroke-opacity=\"0.6\" stroke-width=\"6\" r=\"25.00\" cx=\"98.00\" cy=\"14.00\"/>\n",
      "<circle fill=\"#DBBEAA\" opacity=\"0.4\" stroke=\"#DBBEAA\" stroke-linecap=\"round\" stroke-opacity=\"0.8\" stroke-width=\"6\" r=\"10.00\" cx=\"62.00\" cy=\"-3.00\"/>\n",
      "<line fill=\"#928A7E\" opacity=\"0.2\" stroke=\"#5A5550\" stroke-linecap=\"round\" stroke-opacity=\"0.8\" stroke-width=\"4\" x1=\"60\" x2=\"75\" y1=\"10\" y2=\"10\"/>\n",
      "<rect fill=\"#4C423D\" height=\"20\" opacity=\"0.4\" stroke=\"#DBBEAA\" stroke-linecap=\"round\" stroke-opacity=\"0.8\" stroke-width=\"4\" transform=\"rotate(90, 16.0, 80.0)\" width=\"50\" x=\"-9\" y=\"70\"/>\n",
      "<circle fill=\"#5A5550\" opacity=\"0.4\" stroke=\"#3E6E90\" stroke-linecap=\"round\" stroke-opacity=\"0.6\" stroke-width=\"6\" r=\"25.00\" cx=\"21.00\" cy=\"134.00\"/>\n",
      "<circle fill=\"#3E6E90\" opacity=\"0.4\" stroke=\"#3E6E90\" stroke-linecap=\"round\" stroke-opacity=\"0.6\" stroke-width=\"6\" r=\"25.00\" cx=\"117.00\" cy=\"88.00\"/>\n",
      "<line fill=\"#5A5550\" opacity=\"0.4\" stroke=\"#928A7E\" stroke-linecap=\"round\" stroke-opacity=\"0.8\" stroke-width=\"4\" x1=\"7\" x2=\"8\" y1=\"22\" y2=\"22\"/>\n",
      "<polygon fill=\"#5A5550\" opacity=\"0.4\" stroke=\"#928A7E\" stroke-linecap=\"round\" stroke-opacity=\"0.8\" stroke-width=\"6\" transform=\"rotate(90, 50.0, 27.0)\" points=\"45.00,17.00 65.00,17.00 55.00,34.32\"/>\n",
      "<rect fill=\"#3E6E90\" height=\"40\" opacity=\"0.2\" stroke=\"#3E6E90\" stroke-linecap=\"round\" stroke-opacity=\"0.6\" stroke-width=\"6\" transform=\"rotate(180, 36.0, 132.0)\" width=\"50\" x=\"11\" y=\"112\"/>\n",
      "<polygon fill=\"#4C423D\" opacity=\"0.4\" stroke=\"#DBBEAA\" stroke-linecap=\"round\" stroke-opacity=\"0.6\" stroke-width=\"6\" transform=\"rotate(90, 9.0, 95.0)\" points=\"4.00,85.00 24.00,85.00 14.00,102.32\"/>\n",
      "<polygon fill=\"#3E6E90\" opacity=\"0.4\" stroke=\"#928A7E\" stroke-linecap=\"round\" stroke-opacity=\"0.6\" stroke-width=\"6\" transform=\"rotate(90, -5.0, 84.0)\" points=\"-10.00,64.00 30.00,64.00 10.00,98.64\"/>\n",
      "<rect fill=\"#DBBEAA\" height=\"20\" opacity=\"0.2\" stroke=\"#3E6E90\" stroke-linecap=\"round\" stroke-opacity=\"0.8\" stroke-width=\"4\" transform=\"rotate(180, 93.0, 76.0)\" width=\"10\" x=\"88\" y=\"66\"/>\n",
      "<polygon fill=\"#4C423D\" opacity=\"0.4\" stroke=\"#3E6E90\" stroke-linecap=\"round\" stroke-opacity=\"0.8\" stroke-width=\"6\" transform=\"rotate(180, 99.0, 71.0)\" points=\"94.00,61.00 114.00,61.00 104.00,78.32\"/>\n",
      "<polygon fill=\"#3E6E90\" opacity=\"0.2\" stroke=\"#3E6E90\" stroke-linecap=\"round\" stroke-opacity=\"0.6\" stroke-width=\"4\" transform=\"rotate(180, 6.0, 35.0)\" points=\"1.00,15.00 41.00,15.00 21.00,49.64\"/>\n",
      "<rect fill=\"#5A5550\" height=\"40\" opacity=\"0.4\" stroke=\"#3E6E90\" stroke-linecap=\"round\" stroke-opacity=\"0.8\" stroke-width=\"4\" transform=\"rotate(180, 36.0, 57.0)\" width=\"50\" x=\"11\" y=\"37\"/>\n",
      "<rect fill=\"#4C423D\" height=\"20\" opacity=\"0.2\" stroke=\"#4C423D\" stroke-linecap=\"round\" stroke-opacity=\"0.6\" stroke-width=\"6\" transform=\"rotate(180, 83.0, 87.0)\" width=\"50\" x=\"58\" y=\"77\"/>\n",
      "<rect fill=\"#4C423D\" height=\"40\" opacity=\"0.2\" stroke=\"#3E6E90\" stroke-linecap=\"round\" stroke-opacity=\"0.6\" stroke-width=\"6\" transform=\"rotate(90, 34.0, 15.0)\" width=\"10\" x=\"29\" y=\"-5\"/>\n",
      "<rect fill=\"#928A7E\" height=\"20\" opacity=\"0.4\" stroke=\"#3E6E90\" stroke-linecap=\"round\" stroke-opacity=\"0.6\" stroke-width=\"6\" transform=\"rotate(180, 65.0, 100.0)\" width=\"50\" x=\"40\" y=\"90\"/>\n",
      "<circle fill=\"#4C423D\" opacity=\"0.4\" stroke=\"#928A7E\" stroke-linecap=\"round\" stroke-opacity=\"0.8\" stroke-width=\"4\" r=\"25.00\" cx=\"111.00\" cy=\"26.00\"/>\n",
      "<line fill=\"#4C423D\" opacity=\"0.2\" stroke=\"#4C423D\" stroke-linecap=\"round\" stroke-opacity=\"0.8\" stroke-width=\"4\" x1=\"75\" x2=\"93\" y1=\"34\" y2=\"34\"/>\n",
      "<rect fill=\"#5A5550\" height=\"20\" opacity=\"0.2\" stroke=\"#4C423D\" stroke-linecap=\"round\" stroke-opacity=\"0.8\" stroke-width=\"6\" transform=\"rotate(90, 88.0, 84.0)\" width=\"50\" x=\"63\" y=\"74\"/>\n",
      "<circle fill=\"#3E6E90\" opacity=\"0.2\" stroke=\"#DBBEAA\" stroke-linecap=\"round\" stroke-opacity=\"0.6\" stroke-width=\"4\" r=\"25.00\" cx=\"113.00\" cy=\"129.00\"/>\n",
      "<polygon fill=\"#4C423D\" opacity=\"0.4\" stroke=\"#4C423D\" stroke-linecap=\"round\" stroke-opacity=\"0.6\" stroke-width=\"6\" transform=\"rotate(180, 61.0, 37.0)\" points=\"36.00,27.00 56.00,27.00 46.00,44.32\"/>\n",
      "<line fill=\"#928A7E\" opacity=\"0.4\" stroke=\"#928A7E\" stroke-linecap=\"round\" stroke-opacity=\"0.8\" stroke-width=\"4\" x1=\"24\" x2=\"14\" y1=\"46\" y2=\"46\"/>\n",
      "<circle fill=\"#5A5550\" opacity=\"0.4\" stroke=\"#928A7E\" stroke-linecap=\"round\" stroke-opacity=\"0.8\" stroke-width=\"6\" r=\"25.00\" cx=\"14.00\" cy=\"44.00\"/>\n",
      "<line fill=\"#928A7E\" opacity=\"0.4\" stroke=\"#DBBEAA\" stroke-linecap=\"round\" stroke-opacity=\"0.6\" stroke-width=\"4\" x1=\"53\" x2=\"37\" y1=\"58\" y2=\"58\"/>\n",
      "<polygon fill=\"#4C423D\" opacity=\"0.4\" stroke=\"#4C423D\" stroke-linecap=\"round\" stroke-opacity=\"0.6\" stroke-width=\"6\" transform=\"rotate(180, 100.0, 9.0)\" points=\"75.00,-11.00 115.00,-11.00 95.00,23.64\"/>\n",
      "<line fill=\"#DBBEAA\" opacity=\"0.4\" stroke=\"#5A5550\" stroke-linecap=\"round\" stroke-opacity=\"0.6\" stroke-width=\"6\" x1=\"0\" x2=\"47\" y1=\"70\" y2=\"70\"/>\n",
      "<line fill=\"#3E6E90\" opacity=\"0.4\" stroke=\"#3E6E90\" stroke-linecap=\"round\" stroke-opacity=\"0.6\" stroke-width=\"4\" x1=\"82\" x2=\"65\" y1=\"82\" y2=\"82\"/>\n",
      "<rect fill=\"#5A5550\" height=\"40\" opacity=\"0.4\" stroke=\"#5A5550\" stroke-linecap=\"round\" stroke-opacity=\"0.6\" stroke-width=\"4\" transform=\"rotate(180, 21.0, 75.0)\" width=\"50\" x=\"-4\" y=\"55\"/>\n",
      "<circle fill=\"#DBBEAA\" opacity=\"0.4\" stroke=\"#3E6E90\" stroke-linecap=\"round\" stroke-opacity=\"0.6\" stroke-width=\"4\" r=\"20.00\" cx=\"71.00\" cy=\"37.00\"/>\n",
      "<circle fill=\"#3E6E90\" opacity=\"0.2\" stroke=\"#928A7E\" stroke-linecap=\"round\" stroke-opacity=\"0.8\" stroke-width=\"6\" r=\"25.00\" cx=\"118.00\" cy=\"122.00\"/>\n",
      "<line fill=\"#5A5550\" opacity=\"0.2\" stroke=\"#5A5550\" stroke-linecap=\"round\" stroke-opacity=\"0.6\" stroke-width=\"6\" x1=\"24\" x2=\"38\" y1=\"94\" y2=\"94\"/>\n",
      "<line fill=\"#DBBEAA\" opacity=\"0.2\" stroke=\"#928A7E\" stroke-linecap=\"round\" stroke-opacity=\"0.6\" stroke-width=\"4\" x1=\"60\" x2=\"95\" y1=\"10\" y2=\"10\"/>\n",
      "<polygon fill=\"#3E6E90\" opacity=\"0.4\" stroke=\"#4C423D\" stroke-linecap=\"round\" stroke-opacity=\"0.8\" stroke-width=\"6\" transform=\"rotate(180, 7.0, 118.0)\" points=\"2.00,98.00 42.00,98.00 22.00,132.64\"/>\n",
      "<circle fill=\"#3E6E90\" opacity=\"0.4\" stroke=\"#4C423D\" stroke-linecap=\"round\" stroke-opacity=\"0.6\" stroke-width=\"4\" r=\"25.00\" cx=\"84.00\" cy=\"144.00\"/>\n",
      "<line fill=\"#4C423D\" opacity=\"0.4\" stroke=\"#4C423D\" stroke-linecap=\"round\" stroke-opacity=\"0.6\" stroke-width=\"4\" x1=\"60\" x2=\"22\" y1=\"22\" y2=\"22\"/>\n",
      "<polygon fill=\"#4C423D\" opacity=\"0.4\" stroke=\"#5A5550\" stroke-linecap=\"round\" stroke-opacity=\"0.6\" stroke-width=\"6\" transform=\"rotate(90, 52.0, 28.0)\" points=\"47.00,18.00 67.00,18.00 57.00,35.32\"/>\n",
      "<polygon fill=\"#DBBEAA\" opacity=\"0.4\" stroke=\"#DBBEAA\" stroke-linecap=\"round\" stroke-opacity=\"0.6\" stroke-width=\"6\" transform=\"rotate(90, 21.0, 29.0)\" points=\"-4.00,9.00 36.00,9.00 16.00,43.64\"/>\n",
      "<rect fill=\"#3E6E90\" height=\"40\" opacity=\"0.2\" stroke=\"#DBBEAA\" stroke-linecap=\"round\" stroke-opacity=\"0.6\" stroke-width=\"4\" transform=\"rotate(90, -14.0, 73.0)\" width=\"10\" x=\"-19\" y=\"53\"/>\n",
      "<circle fill=\"#928A7E\" opacity=\"0.2\" stroke=\"#4C423D\" stroke-linecap=\"round\" stroke-opacity=\"0.8\" stroke-width=\"6\" r=\"20.00\" cx=\"54.00\" cy=\"36.00\"/>\n",
      "<polygon fill=\"#3E6E90\" opacity=\"0.4\" stroke=\"#3E6E90\" stroke-linecap=\"round\" stroke-opacity=\"0.8\" stroke-width=\"6\" transform=\"rotate(180, 53.0, 10.0)\" points=\"28.00,-10.00 68.00,-10.00 48.00,24.64\"/>\n",
      "<line fill=\"#928A7E\" opacity=\"0.2\" stroke=\"#DBBEAA\" stroke-linecap=\"round\" stroke-opacity=\"0.8\" stroke-width=\"4\" x1=\"22\" x2=\"12\" y1=\"34\" y2=\"34\"/>\n",
      "<polygon fill=\"#5A5550\" opacity=\"0.2\" stroke=\"#4C423D\" stroke-linecap=\"round\" stroke-opacity=\"0.8\" stroke-width=\"4\" transform=\"rotate(90, 90.0, 48.0)\" points=\"85.00,28.00 125.00,28.00 105.00,62.64\"/>\n",
      "<line fill=\"#3E6E90\" opacity=\"0.2\" stroke=\"#3E6E90\" stroke-linecap=\"round\" stroke-opacity=\"0.8\" stroke-width=\"6\" x1=\"51\" x2=\"29\" y1=\"46\" y2=\"46\"/>\n",
      "<polygon fill=\"#4C423D\" opacity=\"0.4\" stroke=\"#4C423D\" stroke-linecap=\"round\" stroke-opacity=\"0.8\" stroke-width=\"6\" transform=\"rotate(90, 89.0, 50.0)\" points=\"64.00,40.00 84.00,40.00 74.00,57.32\"/>\n",
      "<rect fill=\"#DBBEAA\" height=\"40\" opacity=\"0.4\" stroke=\"#5A5550\" stroke-linecap=\"round\" stroke-opacity=\"0.8\" stroke-width=\"6\" transform=\"rotate(180, -4.0, 22.0)\" width=\"10\" x=\"-9\" y=\"2\"/>\n",
      "<line fill=\"#3E6E90\" opacity=\"0.4\" stroke=\"#928A7E\" stroke-linecap=\"round\" stroke-opacity=\"0.8\" stroke-width=\"6\" x1=\"81\" x2=\"92\" y1=\"58\" y2=\"58\"/>\n",
      "<rect fill=\"#928A7E\" height=\"20\" opacity=\"0.2\" stroke=\"#DBBEAA\" stroke-linecap=\"round\" stroke-opacity=\"0.8\" stroke-width=\"4\" transform=\"rotate(90, 65.0, 47.0)\" width=\"50\" x=\"40\" y=\"37\"/>\n",
      "<rect fill=\"#4C423D\" height=\"40\" opacity=\"0.2\" stroke=\"#4C423D\" stroke-linecap=\"round\" stroke-opacity=\"0.8\" stroke-width=\"6\" transform=\"rotate(90, 59.0, 80.0)\" width=\"50\" x=\"34\" y=\"60\"/>\n",
      "<polygon fill=\"#3E6E90\" opacity=\"0.4\" stroke=\"#DBBEAA\" stroke-linecap=\"round\" stroke-opacity=\"0.8\" stroke-width=\"4\" transform=\"rotate(90, 120.0, 56.0)\" points=\"95.00,36.00 135.00,36.00 115.00,70.64\"/>\n",
      "<rect fill=\"#5A5550\" height=\"40\" opacity=\"0.2\" stroke=\"#3E6E90\" stroke-linecap=\"round\" stroke-opacity=\"0.8\" stroke-width=\"4\" transform=\"rotate(180, 73.0, 15.0)\" width=\"50\" x=\"48\" y=\"-5\"/>\n",
      "<rect fill=\"#4C423D\" height=\"40\" opacity=\"0.2\" stroke=\"#3E6E90\" stroke-linecap=\"round\" stroke-opacity=\"0.6\" stroke-width=\"4\" transform=\"rotate(90, 102.0, 78.0)\" width=\"50\" x=\"77\" y=\"58\"/>\n",
      "<line fill=\"#4C423D\" opacity=\"0.4\" stroke=\"#4C423D\" stroke-linecap=\"round\" stroke-opacity=\"0.6\" stroke-width=\"6\" x1=\"89\" x2=\"22\" y1=\"70\" y2=\"70\"/>\n",
      "<line fill=\"#928A7E\" opacity=\"0.2\" stroke=\"#3E6E90\" stroke-linecap=\"round\" stroke-opacity=\"0.6\" stroke-width=\"6\" x1=\"75\" x2=\"22\" y1=\"82\" y2=\"82\"/>\n",
      "<line fill=\"#5A5550\" opacity=\"0.4\" stroke=\"#928A7E\" stroke-linecap=\"round\" stroke-opacity=\"0.8\" stroke-width=\"4\" x1=\"7\" x2=\"90\" y1=\"94\" y2=\"94\"/>\n",
      "<polygon fill=\"#5A5550\" opacity=\"0.2\" stroke=\"#DBBEAA\" stroke-linecap=\"round\" stroke-opacity=\"0.8\" stroke-width=\"6\" transform=\"rotate(180, 71.0, 90.0)\" points=\"66.00,80.00 86.00,80.00 76.00,97.32\"/>\n",
      "<circle fill=\"#5A5550\" opacity=\"0.4\" stroke=\"#4C423D\" stroke-linecap=\"round\" stroke-opacity=\"0.8\" stroke-width=\"6\" r=\"25.00\" cx=\"32.00\" cy=\"48.00\"/>\n",
      "<polygon fill=\"#3E6E90\" opacity=\"0.4\" stroke=\"#928A7E\" stroke-linecap=\"round\" stroke-opacity=\"0.6\" stroke-width=\"6\" transform=\"rotate(180, 33.0, 27.0)\" points=\"28.00,7.00 68.00,7.00 48.00,41.64\"/>\n",
      "<polygon fill=\"#3E6E90\" opacity=\"0.4\" stroke=\"#4C423D\" stroke-linecap=\"round\" stroke-opacity=\"0.6\" stroke-width=\"4\" transform=\"rotate(90, 7.0, 15.0)\" points=\"-18.00,5.00 2.00,5.00 -8.00,22.32\"/>\n",
      "<circle fill=\"#4C423D\" opacity=\"0.4\" stroke=\"#3E6E90\" stroke-linecap=\"round\" stroke-opacity=\"0.8\" stroke-width=\"4\" r=\"10.00\" cx=\"36.00\" cy=\"-4.00\"/>\n",
      "<rect fill=\"#DBBEAA\" height=\"40\" opacity=\"0.4\" stroke=\"#5A5550\" stroke-linecap=\"round\" stroke-opacity=\"0.6\" stroke-width=\"4\" transform=\"rotate(180, 106.0, 140.0)\" width=\"50\" x=\"81\" y=\"120\"/>\n",
      "</svg>\n"
     ]
    }
   ],
   "source": [
    "print(svg.xml_to_string())"
   ]
  },
  {
   "cell_type": "code",
   "execution_count": 76,
   "metadata": {
    "collapsed": false
   },
   "outputs": [
    {
     "data": {
      "text/plain": [
       "'{\"params\":{\"transform\":[\"rc\",[[90,180]]],\"colorid\":714,\"structure\":\"RANDOM\",\"height\":[\"rc\",[[40,20]]],\"palette\":[\"#3E6E90\",\"#4C423D\",\"#DBBEAA\",\"#5A5550\",\"#928A7E\"],\"figures\":[\"rc\",[[\"rect\",\"polygon\",\"circle\",\"line\"]]],\"stroke-linecap\":[\"rc\",[[\"round\"]]],\"fill\":[\"rc\",[[\"#3E6E90\",\"#4C423D\",\"#DBBEAA\",\"#5A5550\",\"#928A7E\"]]],\"nr_of_figures\":64,\"stroke\":[\"rc\",[[\"#3E6E90\",\"#4C423D\",\"#DBBEAA\",\"#5A5550\",\"#928A7E\"]]],\"y\":[\"ri\",[-20,120]],\"x\":[\"ri\",[-20,120]],\"stroke-width\":[\"rc\",[[6,4]]],\"width\":[\"rc\",[[50,10]]],\"opacity\":[\"rc\",[[0.2,0.4]]],\"stroke-opacity\":[\"rc\",[[0.8,0.6]]]}}'"
      ]
     },
     "execution_count": 76,
     "metadata": {},
     "output_type": "execute_result"
    }
   ],
   "source": [
    "svg.params_to_string()"
   ]
  },
  {
   "cell_type": "markdown",
   "metadata": {},
   "source": [
    "## Save Picture To File"
   ]
  },
  {
   "cell_type": "code",
   "execution_count": 35,
   "metadata": {
    "collapsed": false
   },
   "outputs": [
    {
     "name": "stdout",
     "output_type": "stream",
     "text": [
      "20160725-1726-56173173\n"
     ]
    }
   ],
   "source": [
    "svg.to_file()"
   ]
  },
  {
   "cell_type": "code",
   "execution_count": 68,
   "metadata": {
    "collapsed": false
   },
   "outputs": [
    {
     "data": {
      "text/plain": [
       "'{\"params\":{\"transform\":[\"rc\",[[90,180]]],\"colorid\":714,\"structure\":\"RANDOM\",\"height\":[\"rc\",[[40,20]]],\"palette\":[\"#3E6E90\",\"#4C423D\",\"#DBBEAA\",\"#5A5550\",\"#928A7E\"],\"figures\":[\"rc\",[[\"rect\",\"polygon\",\"circle\",\"line\"]]],\"stroke-linecap\":[\"rc\",[[\"round\"]]],\"fill\":[\"rc\",[[\"#3E6E90\",\"#4C423D\",\"#DBBEAA\",\"#5A5550\",\"#928A7E\"]]],\"nr_of_figures\":64,\"stroke\":[\"rc\",[[\"#3E6E90\",\"#4C423D\",\"#DBBEAA\",\"#5A5550\",\"#928A7E\"]]],\"y\":[\"ri\",[-20,120]],\"x\":[\"ri\",[-20,120]],\"stroke-width\":[\"rc\",[[6,4]]],\"width\":[\"rc\",[[50,10]]],\"opacity\":[\"rc\",[[0.2,0.4]]],\"stroke-opacity\":[\"rc\",[[0.8,0.6]]]}}'"
      ]
     },
     "execution_count": 68,
     "metadata": {},
     "output_type": "execute_result"
    }
   ],
   "source": [
    "svg.params_to_string()"
   ]
  }
 ],
 "metadata": {
  "kernelspec": {
   "display_name": "Python 3",
   "language": "python",
   "name": "python3"
  },
  "language_info": {
   "codemirror_mode": {
    "name": "ipython",
    "version": 3
   },
   "file_extension": ".py",
   "mimetype": "text/x-python",
   "name": "python",
   "nbconvert_exporter": "python",
   "pygments_lexer": "ipython3",
   "version": "3.5.2"
  },
  "widgets": {
   "state": {},
   "version": "1.1.2"
  }
 },
 "nbformat": 4,
 "nbformat_minor": 0
}
