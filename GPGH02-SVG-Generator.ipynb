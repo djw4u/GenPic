{
 "cells": [
  {
   "cell_type": "markdown",
   "metadata": {},
   "source": [
    "## Overview of GenPic on GitHub\n",
    "\n",
    "GenPic ist eine Sammlung von IPython Notebooks zur Generierung und Verwaltung von Bildern im SVG Format.\n",
    "\n",
    "1. **GPGH01-Show-Palettes** stellt die Farbpaletten aus der Datei **color-palettes.data** da.\n",
    "\n",
    "2. **GPGH02-Picture-Generator** generiert parametergesteuert Bilder und speichert sie als *svgz* File.\n"
   ]
  },
  {
   "cell_type": "markdown",
   "metadata": {},
   "source": [
    "## Picture Generator"
   ]
  },
  {
   "cell_type": "markdown",
   "metadata": {},
   "source": [
    "GenPic nutzt verbreitete Standardkomponenten und Python Module.\n",
    "\n",
    "+ Daten werden in Dateien gespeichert\n",
    "    + Parameter und Farbpaletten werden in **Json** gespeichert.\n",
    "    + Die Bilddaten werden in **SVG/SVGZ** gespeichert. \n",
    "\n",
    "+ Templates werden mit **Jinja2** erstellt.\n",
    "\n",
    "+ Die XML Bearbeitung basiert auf **lxml**.\n",
    "\n",
    "+ **Numpy** wird zur Array und List Generierung genutzt"
   ]
  },
  {
   "cell_type": "markdown",
   "metadata": {},
   "source": [
    "### Roadmap\n",
    "\n",
    "1) Zunächst Ertellung guter, einfacher und ausbaufähiger Basis-Module:\n",
    "  + zur Lösung folgender Aufgaben:\n",
    "    * Datenspeicherung: Files und ggf. alternativ auch Datenbank\n",
    "    * Parameter-Steuerungskonzept und Aufbau\n",
    "    * Figuren und Bildergenerierung\n",
    "    * Farbpalettenverwaltung\n",
    "    * Parameterverwaltung\n",
    "  \n",
    "  + Strukturiert in Funktionen und Objekten\n",
    "  \n",
    "  + klar strukturierte und dokumentierte Json Nutzung für Parameter\n",
    "  \n",
    "  + Nutzung von Generics, Abstraktion ....\n",
    " \n",
    "  + **Alles gut progammiert, dokumentiert und testautomatisiert.**\n",
    "  \n",
    "2) Einfache ipynb's für Workflow:  \n",
    "  + Farbpalette auswählen, bzw. erstellen\n",
    "  + Komfortable und flexible SVG Generierung\n",
    "  + Generierung von HTML Katalogen\n",
    "  + *ggf. Bildermutationen etc. aus existierenden Bildern:*\n",
    "    - z.B. Reihenfolge oder Figuren ändern, Bilder mischen etc.\n",
    "  + Gut progammiert, dokumentiert und testautomatisiert.\n",
    "\n",
    "3) Basis zum Aufbau einer Community schaffen\n",
    "  + Nutzung und Darstellung in GitHub\n",
    "  + Erstellung eines Wicki (siehe d3.js) - auch/insbesondere durch User:\n",
    "    * Anleitungen z.B. für Konvertierung der Bilder in das png Format\n",
    "    * Diskussion zur Nutzung von Parametern und Farbpaletten für Bilder\n",
    "    * Einstellung und Erzeugung von Bildern\n",
    "    * Nutzung eigener *Picture Structures* und *Figures*\n",
    "\n",
    "#### Aktuelle to do's\n",
    "\n",
    "**Offen**:\n",
    "\n",
    "+ Bilder mit Gridmuster können nicht erstellt werden \n",
    "  \n",
    "+ gp_basics.py ist nicht ausreichend dokumentiert\n",
    "\n",
    "**Erledigt**:"
   ]
  },
  {
   "cell_type": "markdown",
   "metadata": {},
   "source": [
    "### Import Modules and Constants"
   ]
  },
  {
   "cell_type": "code",
   "execution_count": 2,
   "metadata": {
    "collapsed": false
   },
   "outputs": [],
   "source": [
    "from gp_basics import *"
   ]
  },
  {
   "cell_type": "markdown",
   "metadata": {},
   "source": [
    "###  Line Construction"
   ]
  },
  {
   "cell_type": "code",
   "execution_count": 3,
   "metadata": {
    "collapsed": false
   },
   "outputs": [],
   "source": [
    "nr_of_origins = 30\n",
    "nr_of_lines = 20\n",
    "\n",
    "origins_x_area = (0, 50)\n",
    "origins_y_area = (100, 100)\n",
    "\n",
    "target_x_area = (95, 100)\n",
    "target_y_area = (0, 0)\n",
    "\n",
    "# Define starting points for the lines\n",
    "origins =[]\n",
    "targets =[]\n",
    "for i in range(nr_of_origins):\n",
    "    origins.append((randint(origins_x_area[0], origins_x_area[1]),\n",
    "                    randint(origins_y_area[0], origins_y_area[1])))\n",
    "for i in range(nr_of_lines):\n",
    "    targets.append((randint(target_x_area[0], target_x_area[1]),\n",
    "                    randint(target_y_area[0], target_y_area[1])))\n",
    "\n",
    "# Define lines\n",
    "lines =[]\n",
    "for i in range(nr_of_lines):\n",
    "    p1 = choice(origins)\n",
    "    p2 = choice(targets)\n",
    "    lines.append((p1[0], p1[1], p2[0], p2[1]))"
   ]
  },
  {
   "cell_type": "markdown",
   "metadata": {},
   "source": [
    "## Produce Pictures"
   ]
  },
  {
   "cell_type": "code",
   "execution_count": 4,
   "metadata": {
    "collapsed": false
   },
   "outputs": [],
   "source": [
    "import copy\n",
    "from IPython.display import HTML, SVG"
   ]
  },
  {
   "cell_type": "code",
   "execution_count": 5,
   "metadata": {
    "collapsed": true
   },
   "outputs": [],
   "source": [
    "# Define basic picture attributtes for the pictures SVG template  like size, background ...\n",
    "pic_attribs = {'svg_width':'21in', 'svg_height':'21in',\n",
    "        'w_points':'100', 'h_points':'100',\n",
    "        'fill':'grey', \n",
    "        'opacity':'.4',\n",
    "        'stroke':'white',\n",
    "        'stroke_opacity':'.3', \n",
    "        'stroke_width':'0.1'}"
   ]
  },
  {
   "cell_type": "code",
   "execution_count": 6,
   "metadata": {
    "collapsed": false
   },
   "outputs": [
    {
     "data": {
      "image/svg+xml": [
       "<svg height=\"620px\" version=\"1.2\" viewBox=\"0 0 100 100\" width=\"620px\" xmlns=\"http://www.w3.org/2000/svg\" xmlns:xlink=\"http://www.w3.org/1999/xlink/\">\n",
       "\n",
       "  <desc>Picture by J. Wendt</desc>\n",
       "  <!-- START Generator PARAMETERS in Json -->\n",
       "  <desc>{&quot;params&quot;:{&quot;nr_of_figures&quot;:32,&quot;height&quot;:[&quot;rc&quot;,[[40,20]]],&quot;width&quot;:[&quot;rc&quot;,[[50,10]]],&quot;stroke&quot;:[&quot;rc&quot;,[[&quot;#ABBDC8&quot;,&quot;#D9E1DD&quot;,&quot;#68443C&quot;,&quot;#B67B66&quot;,&quot;#D8B29A&quot;]]],&quot;stroke-opacity&quot;:[&quot;rc&quot;,[[0.8,0.6]]],&quot;transform&quot;:[&quot;rc&quot;,[[0,180]]],&quot;structure&quot;:&quot;RANDOM&quot;,&quot;y&quot;:[&quot;ri&quot;,[-20,120]],&quot;stroke-linecap&quot;:[&quot;rc&quot;,[[&quot;round&quot;]]],&quot;opacity&quot;:[&quot;rc&quot;,[[0.6,0.4]]],&quot;colorid&quot;:651,&quot;x&quot;:[&quot;ri&quot;,[-20,120]],&quot;figures&quot;:[&quot;rc&quot;,[[&quot;rect&quot;,&quot;polygon&quot;,&quot;circle&quot;,&quot;line&quot;]]],&quot;palette&quot;:[&quot;#ABBDC8&quot;,&quot;#D9E1DD&quot;,&quot;#68443C&quot;,&quot;#B67B66&quot;,&quot;#D8B29A&quot;],&quot;stroke-width&quot;:[&quot;rc&quot;,[[6,4]]],&quot;fill&quot;:[&quot;rc&quot;,[[&quot;#ABBDC8&quot;,&quot;#D9E1DD&quot;,&quot;#68443C&quot;,&quot;#B67B66&quot;,&quot;#D8B29A&quot;]]]}}</desc>\n",
       "  <!-- END Generator PARAMETERS in Json -->\n",
       "  \n",
       "  <!-- Show outline of canvas using 'rect' element -->\n",
       "  <rect fill=\"grey\" height=\"100\" id=\"bg-00\" opacity=\".4\" stroke=\"white\" stroke-opacity=\".3\" stroke-width=\"0.1\" width=\"100\" x=\"0\" y=\"0\"/>\n",
       "\n",
       "<circle cx=\"136.00\" cy=\"10.00\" fill=\"#ABBDC8\" opacity=\"0.4\" r=\"25.00\" stroke=\"#D9E1DD\" stroke-linecap=\"round\" stroke-opacity=\"0.8\" stroke-width=\"4\"/>\n",
       "<line fill=\"#D8B29A\" opacity=\"0.4\" stroke=\"#D9E1DD\" stroke-linecap=\"round\" stroke-opacity=\"0.8\" stroke-width=\"4\" x1=\"48\" x2=\"99\" y1=\"10\" y2=\"10\"/>\n",
       "<circle cx=\"119.00\" cy=\"83.00\" fill=\"#D8B29A\" opacity=\"0.4\" r=\"25.00\" stroke=\"#D9E1DD\" stroke-linecap=\"round\" stroke-opacity=\"0.6\" stroke-width=\"4\"/>\n",
       "<rect fill=\"#B67B66\" height=\"20\" opacity=\"0.6\" stroke=\"#D9E1DD\" stroke-linecap=\"round\" stroke-opacity=\"0.8\" stroke-width=\"4\" transform=\"rotate(0, 51.0, 107.0)\" width=\"50\" x=\"26\" y=\"97\"/>\n",
       "<rect fill=\"#68443C\" height=\"20\" opacity=\"0.6\" stroke=\"#D9E1DD\" stroke-linecap=\"round\" stroke-opacity=\"0.6\" stroke-width=\"4\" transform=\"rotate(0, 101.0, 79.0)\" width=\"10\" x=\"96\" y=\"69\"/>\n",
       "<circle cx=\"51.00\" cy=\"24.00\" fill=\"#B67B66\" opacity=\"0.6\" r=\"25.00\" stroke=\"#D8B29A\" stroke-linecap=\"round\" stroke-opacity=\"0.8\" stroke-width=\"4\"/>\n",
       "<circle cx=\"-4.00\" cy=\"129.00\" fill=\"#D9E1DD\" opacity=\"0.6\" r=\"10.00\" stroke=\"#B67B66\" stroke-linecap=\"round\" stroke-opacity=\"0.6\" stroke-width=\"4\"/>\n",
       "<rect fill=\"#ABBDC8\" height=\"20\" opacity=\"0.4\" stroke=\"#ABBDC8\" stroke-linecap=\"round\" stroke-opacity=\"0.8\" stroke-width=\"4\" transform=\"rotate(180, 117.0, 51.0)\" width=\"50\" x=\"92\" y=\"41\"/>\n",
       "<line fill=\"#68443C\" opacity=\"0.4\" stroke=\"#D9E1DD\" stroke-linecap=\"round\" stroke-opacity=\"0.6\" stroke-width=\"6\" x1=\"29\" x2=\"96\" y1=\"22\" y2=\"22\"/>\n",
       "<polygon fill=\"#D9E1DD\" opacity=\"0.4\" points=\"112.00,20.00 152.00,20.00 132.00,54.64\" stroke=\"#D9E1DD\" stroke-linecap=\"round\" stroke-opacity=\"0.8\" stroke-width=\"6\" transform=\"rotate(0, 137.0, 40.0)\"/>\n",
       "<rect fill=\"#D8B29A\" height=\"40\" opacity=\"0.6\" stroke=\"#ABBDC8\" stroke-linecap=\"round\" stroke-opacity=\"0.6\" stroke-width=\"6\" transform=\"rotate(0, 25.0, 7.0)\" width=\"10\" x=\"20\" y=\"-13\"/>\n",
       "<polygon fill=\"#D9E1DD\" opacity=\"0.4\" points=\"73.00,50.00 113.00,50.00 93.00,84.64\" stroke=\"#D8B29A\" stroke-linecap=\"round\" stroke-opacity=\"0.6\" stroke-width=\"4\" transform=\"rotate(180, 78.0, 70.0)\"/>\n",
       "<polygon fill=\"#68443C\" opacity=\"0.6\" points=\"11.00,47.00 31.00,47.00 21.00,64.32\" stroke=\"#B67B66\" stroke-linecap=\"round\" stroke-opacity=\"0.8\" stroke-width=\"4\" transform=\"rotate(180, 36.0, 57.0)\"/>\n",
       "<polygon fill=\"#D8B29A\" opacity=\"0.6\" points=\"61.00,22.00 81.00,22.00 71.00,39.32\" stroke=\"#D9E1DD\" stroke-linecap=\"round\" stroke-opacity=\"0.6\" stroke-width=\"4\" transform=\"rotate(0, 86.0, 32.0)\"/>\n",
       "<line fill=\"#D9E1DD\" opacity=\"0.4\" stroke=\"#ABBDC8\" stroke-linecap=\"round\" stroke-opacity=\"0.6\" stroke-width=\"6\" x1=\"2\" x2=\"99\" y1=\"34\" y2=\"34\"/>\n",
       "<line fill=\"#B67B66\" opacity=\"0.4\" stroke=\"#B67B66\" stroke-linecap=\"round\" stroke-opacity=\"0.6\" stroke-width=\"6\" x1=\"24\" x2=\"100\" y1=\"46\" y2=\"46\"/>\n",
       "<circle cx=\"36.00\" cy=\"27.00\" fill=\"#ABBDC8\" opacity=\"0.4\" r=\"20.00\" stroke=\"#68443C\" stroke-linecap=\"round\" stroke-opacity=\"0.6\" stroke-width=\"6\"/>\n",
       "<polygon fill=\"#B67B66\" opacity=\"0.4\" points=\"-7.00,101.00 13.00,101.00 3.00,118.32\" stroke=\"#68443C\" stroke-linecap=\"round\" stroke-opacity=\"0.6\" stroke-width=\"6\" transform=\"rotate(180, 18.0, 111.0)\"/>\n",
       "<rect fill=\"#D8B29A\" height=\"20\" opacity=\"0.4\" stroke=\"#D9E1DD\" stroke-linecap=\"round\" stroke-opacity=\"0.6\" stroke-width=\"6\" transform=\"rotate(0, 35.0, 123.0)\" width=\"50\" x=\"10\" y=\"113\"/>\n",
       "<polygon fill=\"#D9E1DD\" opacity=\"0.4\" points=\"25.00,-3.00 45.00,-3.00 35.00,14.32\" stroke=\"#B67B66\" stroke-linecap=\"round\" stroke-opacity=\"0.6\" stroke-width=\"6\" transform=\"rotate(0, 50.0, 7.0)\"/>\n",
       "<rect fill=\"#D8B29A\" height=\"20\" opacity=\"0.4\" stroke=\"#D8B29A\" stroke-linecap=\"round\" stroke-opacity=\"0.8\" stroke-width=\"6\" transform=\"rotate(0, 15.0, 18.0)\" width=\"50\" x=\"-10\" y=\"8\"/>\n",
       "<polygon fill=\"#D9E1DD\" opacity=\"0.6\" points=\"87.00,108.00 127.00,108.00 107.00,142.64\" stroke=\"#68443C\" stroke-linecap=\"round\" stroke-opacity=\"0.8\" stroke-width=\"4\" transform=\"rotate(180, 92.0, 128.0)\"/>\n",
       "<line fill=\"#D8B29A\" opacity=\"0.4\" stroke=\"#68443C\" stroke-linecap=\"round\" stroke-opacity=\"0.8\" stroke-width=\"4\" x1=\"18\" x2=\"95\" y1=\"58\" y2=\"58\"/>\n",
       "<line fill=\"#D9E1DD\" opacity=\"0.6\" stroke=\"#D8B29A\" stroke-linecap=\"round\" stroke-opacity=\"0.6\" stroke-width=\"4\" x1=\"2\" x2=\"100\" y1=\"70\" y2=\"70\"/>\n",
       "<circle cx=\"79.00\" cy=\"91.00\" fill=\"#68443C\" opacity=\"0.6\" r=\"25.00\" stroke=\"#ABBDC8\" stroke-linecap=\"round\" stroke-opacity=\"0.6\" stroke-width=\"6\"/>\n",
       "<circle cx=\"7.00\" cy=\"128.00\" fill=\"#D9E1DD\" opacity=\"0.4\" r=\"10.00\" stroke=\"#68443C\" stroke-linecap=\"round\" stroke-opacity=\"0.8\" stroke-width=\"6\"/>\n",
       "<rect fill=\"#D8B29A\" height=\"20\" opacity=\"0.4\" stroke=\"#B67B66\" stroke-linecap=\"round\" stroke-opacity=\"0.6\" stroke-width=\"4\" transform=\"rotate(0, 46.0, -5.0)\" width=\"50\" x=\"21\" y=\"-15\"/>\n",
       "<circle cx=\"15.00\" cy=\"128.00\" fill=\"#B67B66\" opacity=\"0.6\" r=\"25.00\" stroke=\"#D8B29A\" stroke-linecap=\"round\" stroke-opacity=\"0.8\" stroke-width=\"4\"/>\n",
       "<rect fill=\"#D9E1DD\" height=\"20\" opacity=\"0.4\" stroke=\"#ABBDC8\" stroke-linecap=\"round\" stroke-opacity=\"0.6\" stroke-width=\"6\" transform=\"rotate(0, 21.0, 46.0)\" width=\"50\" x=\"-4\" y=\"36\"/>\n",
       "<rect fill=\"#ABBDC8\" height=\"20\" opacity=\"0.4\" stroke=\"#D8B29A\" stroke-linecap=\"round\" stroke-opacity=\"0.8\" stroke-width=\"4\" transform=\"rotate(0, 38.0, 55.0)\" width=\"50\" x=\"13\" y=\"45\"/>\n",
       "<polygon fill=\"#D8B29A\" opacity=\"0.4\" points=\"95.00,64.00 135.00,64.00 115.00,98.64\" stroke=\"#ABBDC8\" stroke-linecap=\"round\" stroke-opacity=\"0.8\" stroke-width=\"6\" transform=\"rotate(0, 120.0, 84.0)\"/>\n",
       "<line fill=\"#D8B29A\" opacity=\"0.4\" stroke=\"#ABBDC8\" stroke-linecap=\"round\" stroke-opacity=\"0.8\" stroke-width=\"4\" x1=\"50\" x2=\"97\" y1=\"82\" y2=\"82\"/>\n",
       "</svg>"
      ],
      "text/plain": [
       "<IPython.core.display.SVG object>"
      ]
     },
     "execution_count": 6,
     "metadata": {},
     "output_type": "execute_result"
    }
   ],
   "source": [
    "color_id = 651\n",
    "nr_of_figures = 32\n",
    "# set the colors\n",
    "palette = get_palette(color_id)\n",
    "params ={}\n",
    "params['structure'] = 'RANDOM'\n",
    "params['colorid'] = color_id\n",
    "params['palette'] = palette\n",
    "params['nr_of_figures'] = nr_of_figures\n",
    "figs_to_choice = ( 'rect' , 'polygon', 'circle', 'line',) #'rect', 'circle', 'polygon',\n",
    "#params['figures'] = [random.choice(figs_to_choice) for i in range(nr_of_figures)]\n",
    "params['figures'] = ('rc', [figs_to_choice, ]) \n",
    "\n",
    "# params for creation of circles rects and polygons(triangles) \n",
    "params['x'] = ('ri', [-20, 120])\n",
    "params['y'] = ('ri', [-20, 120])\n",
    "params['height'] = ('rc', ([40, 20,   ], ))\n",
    "params['width'] = ('rc', ([50, 10, ], ))\n",
    "\n",
    "# params for line creation\n",
    "params['x1'] = ('ar', ([l[0] for l in lines], ))\n",
    "#params['y1'] = ('ar', ([l[1] for l in lines], ))\n",
    "params['x2'] = ('ar', ([l[2] for l in lines], ))  #('ri', [0, 100])\n",
    "#params['y2'] = ('ar', ([l[3] for l in lines], ))\n",
    "y1_list = list(range(10, 100, 12)) * int((nr_of_figures / 3))\n",
    "params['y1'] = ('ar', (y1_list, ))\n",
    "y2_list = copy.deepcopy(y1_list)\n",
    "params['y2'] = ('ar', (y2_list, ))\n",
    "\n",
    "# params for svg style \n",
    "params['fill'] = ('rc', [palette[:],] )\n",
    "params['opacity'] = ('rc', [( .6, .4), ]) \n",
    "params['stroke'] = ('rc', [palette[:],] )\n",
    "params['stroke-linecap'] = ('rc', ([\"round\",], ))\n",
    "params['stroke-opacity'] = ('rc', [( .8, .6), ])\n",
    "params['stroke-width'] = ('rc', [(6, 4  ), ])\n",
    "params['transform'] = ('rc', [[ 0, 180  ], ])\n",
    "\n",
    "svg = SVGPicture(params, pic_attribs=pic_attribs) \n",
    "SVG(svg.xml_to_string().replace('21in', '620px'))"
   ]
  },
  {
   "cell_type": "markdown",
   "metadata": {},
   "source": [
    "## Save Picture To File"
   ]
  },
  {
   "cell_type": "code",
   "execution_count": 7,
   "metadata": {
    "collapsed": false
   },
   "outputs": [
    {
     "name": "stdout",
     "output_type": "stream",
     "text": [
      "20160727-2231-10453415\n"
     ]
    }
   ],
   "source": [
    "svg.to_file(zip = False)"
   ]
  }
 ],
 "metadata": {
  "kernelspec": {
   "display_name": "Python 3",
   "language": "python",
   "name": "python3"
  },
  "language_info": {
   "codemirror_mode": {
    "name": "ipython",
    "version": 3
   },
   "file_extension": ".py",
   "mimetype": "text/x-python",
   "name": "python",
   "nbconvert_exporter": "python",
   "pygments_lexer": "ipython3",
   "version": "3.5.2"
  },
  "widgets": {
   "state": {},
   "version": "1.1.2"
  }
 },
 "nbformat": 4,
 "nbformat_minor": 0
}
