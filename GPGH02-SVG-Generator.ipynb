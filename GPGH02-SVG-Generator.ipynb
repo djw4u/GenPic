{
 "cells": [
  {
   "cell_type": "markdown",
   "metadata": {},
   "source": [
    "## Overview of GenPic on GitHub\n",
    "\n",
    "GenPic ist eine Sammlung von IPython Notebooks zur Generierung und Verwaltung von Bildern im SVG Format.\n",
    "\n",
    "1. **GPGH01-Show-Palettes** stellt die Farbpaletten aus der Datei **color-palettes.data** da.\n",
    "\n",
    "2. **GPGH02-Picture-Generator** generiert parametergesteuert Bilder und speichert sie als *svgz* File.\n",
    "\n",
    "### History and Status - 20160810\n",
    "\n",
    "The notebook *GP02-Redesign* is the base of the new development under GitHub:\n",
    "\n",
    "- Functions and objects were taken to a module *gp-basics.py* ... as fare as possible or by dirty luke, code was not refectored as it should habe been done.\n",
    "\n",
    "- *GPGH02-SVG-Generator* is/was the new generator notebook under the *GitHub development*\n",
    "\n",
    "- **Line construction** is not implemented under *GP02-Rdesign* as it is under *GP02-Generator-old*. \n",
    "  Nevertheless line construction is implemented in *GPGH02-SVG-Generator*.\n",
    "  \n",
    "Actually improvements where made in the new files *attr_funcs.py and new_controls.ipynb* in this respository:\n",
    "\n",
    "- Partly Redesign of *params*  to controls structure and adopting this to code\n",
    "\n",
    "- Redesign is still running. Archivements should be integrated into the main stream.\n"
   ]
  },
  {
   "cell_type": "markdown",
   "metadata": {},
   "source": [
    "## Picture Generator"
   ]
  },
  {
   "cell_type": "markdown",
   "metadata": {},
   "source": [
    "GenPic nutzt verbreitete Standardkomponenten und Python Module.\n",
    "\n",
    "+ Daten werden in Dateien gespeichert\n",
    "    + Parameter und Farbpaletten werden in **Json** gespeichert.\n",
    "    + Die Bilddaten werden in **SVG/SVGZ** gespeichert. \n",
    "\n",
    "+ Templates werden mit **Jinja2** erstellt.\n",
    "\n",
    "+ Die XML Bearbeitung basiert auf **lxml**.\n",
    "\n",
    "+ **Numpy** wird zur Array und List Generierung genutzt"
   ]
  },
  {
   "cell_type": "markdown",
   "metadata": {},
   "source": [
    "### Roadmap\n",
    "\n",
    "1) Zunächst Ertellung guter, einfacher und ausbaufähiger Basis-Module:\n",
    "  + zur Lösung folgender Aufgaben:\n",
    "    * Datenspeicherung: Files und alternativ auch Datenbank\n",
    "    * Parameter-Steuerungskonzept und Aufbau\n",
    "    * Figuren und Bildergenerierung\n",
    "    * Farbpalettenverwaltung\n",
    "    * Parameterverwaltung\n",
    "  \n",
    "  + Strukturiert in Funktionen und Objekten\n",
    "  \n",
    "  + klar strukturierte und dokumentierte Json Nutzung für Parameter\n",
    "  \n",
    "  + Nutzung von Generics, Abstraktion ....\n",
    " \n",
    "  + **Alles gut progammiert, dokumentiert und testautomatisiert.**\n",
    "  \n",
    "2) Einfache ipynb's für Workflow:  \n",
    "  + Farbpalette auswählen, bzw. erstellen\n",
    "  + Komfortable und flexible SVG Generierung\n",
    "  + Generierung von HTML Katalogen\n",
    "  + *ggf. Bildermutationen etc. aus existierenden Bildern:*\n",
    "    - z.B. Reihenfolge oder Figuren ändern, Bilder mischen etc.\n",
    "  + Gut progammiert, dokumentiert und testautomatisiert.\n",
    "\n",
    "3) Basis zum Aufbau einer Community schaffen\n",
    "  + Nutzung und Darstellung in GitHub\n",
    "  + Erstellung eines Wicki (siehe d3.js) - auch/insbesondere durch User:\n",
    "    * Anleitungen z.B. für Konvertierung der Bilder in das png Format\n",
    "    * Diskussion zur Nutzung von Parametern und Farbpaletten für Bilder\n",
    "    * Einstellung und Erzeugung von Bildern\n",
    "    * Nutzung eigener *Picture Structures* und *Figures*\n",
    "\n",
    "#### Aktuelle to do's\n",
    "\n",
    "**Offen**:\n",
    "\n",
    "+ Bilder mit Gridmuster können nicht erstellt werden \n",
    "  \n",
    "+ gp_basics.py ist nicht ausreichend dokumentiert\n",
    "\n",
    "**Erledigt**:"
   ]
  },
  {
   "cell_type": "markdown",
   "metadata": {},
   "source": [
    "### Import Modules and Constants"
   ]
  },
  {
   "cell_type": "code",
   "execution_count": 1,
   "metadata": {
    "scrolled": true
   },
   "outputs": [],
   "source": [
    "from gp_basics import *\n",
    "\n",
    "import copy\n",
    "from IPython.display import HTML, SVG"
   ]
  },
  {
   "cell_type": "code",
   "execution_count": 2,
   "metadata": {},
   "outputs": [],
   "source": [
    "from random import randrange, choice\n",
    "\n",
    "def rgb_rand(step=3):\n",
    "    return randrange(0, 255, step)\n",
    "\n",
    "def rgb2hex(r,g,b):\n",
    "    return ('#%02x%02x%02x' % (r, g, b)).upper()\n",
    "\n",
    "def rgb2svg(r, g, b):\n",
    "    return 'rgb({}, {}, {})'.format(r, g, b)"
   ]
  },
  {
   "cell_type": "markdown",
   "metadata": {},
   "source": [
    "###  Line Construction"
   ]
  },
  {
   "cell_type": "code",
   "execution_count": 3,
   "metadata": {},
   "outputs": [],
   "source": [
    "nr_of_origins = 43\n",
    "nr_of_lines = 2300\n",
    "\n",
    "origins_x_area = (0, 100)\n",
    "origins_y_area = (0, 100)\n",
    "\n",
    "target_x_area = (0, 100)\n",
    "target_y_area = (0, 100)\n",
    "\n",
    "# Define starting points for the lines\n",
    "origins =[]\n",
    "targets =[]\n",
    "for i in range(nr_of_origins):\n",
    "    origins.append((randint(origins_x_area[0], origins_x_area[1]),\n",
    "                    randint(origins_y_area[0], origins_y_area[1])))\n",
    "for i in range(nr_of_lines):\n",
    "    targets.append((randint(target_x_area[0], target_x_area[1]),\n",
    "                    randint(target_y_area[0], target_y_area[1])))\n",
    "\n",
    "# Define lines\n",
    "lines =[]\n",
    "for i in range(nr_of_lines):\n",
    "    p1 = choice(origins)\n",
    "    p2 = choice(targets)\n",
    "    lines.append((p1[0], p1[1], p2[0], p2[1]))"
   ]
  },
  {
   "cell_type": "markdown",
   "metadata": {},
   "source": [
    "## Produce Pictures"
   ]
  },
  {
   "cell_type": "code",
   "execution_count": 4,
   "metadata": {},
   "outputs": [],
   "source": [
    "# Define basic picture attributtes for the pictures SVG template  like size, background ...\n",
    "pic_attribs = {'svg_width':'20in', 'svg_height':'12in',\n",
    "        'w_points':'100', 'h_points':'60',\n",
    "        'fill':'#F0BE7C', \n",
    "        'opacity':'.3',\n",
    "        'stroke':'#32A0A5',\n",
    "        'stroke_opacity':'.3', \n",
    "        'stroke_width':'0.1'}"
   ]
  },
  {
   "cell_type": "code",
   "execution_count": 76,
   "metadata": {},
   "outputs": [
    {
     "name": "stdout",
     "output_type": "stream",
     "text": [
      "GRID\n"
     ]
    },
    {
     "data": {
      "image/svg+xml": [
       "<svg height=\"360px\" version=\"1.2\" viewBox=\"0 0 100 60\" width=\"600px\" xmlns=\"http://www.w3.org/2000/svg\" xmlns:xlink=\"http://www.w3.org/1999/xlink/\">\n",
       "\n",
       "  <desc>Picture by J. Wendt</desc>\n",
       "  <!-- START Generator PARAMETERS in Json -->\n",
       "  <desc>{&quot;params&quot;:{&quot;structure&quot;:&quot;GRID&quot;,&quot;nr_of_figures&quot;:72,&quot;rows&quot;:12,&quot;columns&quot;:6,&quot;palette&quot;:[&quot;#0077FD&quot;,&quot;#8F3373&quot;,&quot;#41335C&quot;,&quot;#34AAFD&quot;,&quot;#EA8817&quot;,&quot;#9CBB5C&quot;,&quot;#DDEE45&quot;,&quot;#0044CF&quot;,&quot;#F79917&quot;,&quot;#1A222E&quot;,&quot;#4EDDE6&quot;,&quot;#4E44B8&quot;],&quot;figures&quot;:[&quot;rc&quot;,[[&quot;polygon&quot;,&quot;circle&quot;,&quot;rect&quot;]]],&quot;fill&quot;:[&quot;rc&quot;,[[&quot;#0077FD&quot;,&quot;#8F3373&quot;,&quot;#41335C&quot;,&quot;#34AAFD&quot;,&quot;#EA8817&quot;,&quot;#9CBB5C&quot;,&quot;#DDEE45&quot;,&quot;#0044CF&quot;,&quot;#F79917&quot;,&quot;#1A222E&quot;,&quot;#4EDDE6&quot;,&quot;#4E44B8&quot;]]],&quot;stroke&quot;:[&quot;rc&quot;,[[&quot;#41335C&quot;,&quot;#34AAFD&quot;,&quot;#EA8817&quot;,&quot;#9CBB5C&quot;,&quot;#DDEE45&quot;,&quot;#0044CF&quot;,&quot;#F79917&quot;]]],&quot;stroke-opacity&quot;:[&quot;rc&quot;,[[0.2,0.3,1]]],&quot;stroke-width&quot;:[&quot;ri&quot;,[10,25]]}}</desc>\n",
       "  <!-- END Generator PARAMETERS in Json -->\n",
       "\n",
       "  <!-- Show outline of canvas using 'rect' element -->\n",
       "  <rect fill=\"#9CBB5C\" height=\"60\" id=\"bg-00\" opacity=\".3\" stroke=\"#32A0A5\" stroke-opacity=\".3\" stroke-width=\"0.1\" width=\"100\" x=\"0\" y=\"0\"/>\n",
       "\n",
       "<polygon fill=\"#1A222E\" points=\"0.00,0.00 8.33,0.00 4.17,7.21\" stroke=\"#DDEE45\" stroke-opacity=\"0.3\" stroke-width=\"10\"/>\n",
       "<rect fill=\"#F79917\" height=\"8.33\" stroke=\"#EA8817\" stroke-opacity=\"1\" stroke-width=\"12\" width=\"16.67\" x=\"0.0\" y=\"8.33\"/>\n",
       "<circle cx=\"8.34\" cy=\"25.01\" fill=\"#EA8817\" r=\"8.34\" stroke=\"#0044CF\" stroke-opacity=\"1\" stroke-width=\"16\"/>\n",
       "<rect fill=\"#8F3373\" height=\"8.33\" stroke=\"#F79917\" stroke-opacity=\"0.3\" stroke-width=\"14\" width=\"16.67\" x=\"0.0\" y=\"25.0\"/>\n",
       "<rect fill=\"#F79917\" height=\"8.33\" stroke=\"#34AAFD\" stroke-opacity=\"1\" stroke-width=\"10\" width=\"16.67\" x=\"0.0\" y=\"33.33\"/>\n",
       "<polygon fill=\"#8F3373\" points=\"0.00,41.67 8.33,41.67 4.17,48.88\" stroke=\"#0044CF\" stroke-opacity=\"0.2\" stroke-width=\"21\"/>\n",
       "<rect fill=\"#1A222E\" height=\"8.33\" stroke=\"#41335C\" stroke-opacity=\"0.2\" stroke-width=\"18\" width=\"16.67\" x=\"0.0\" y=\"50.0\"/>\n",
       "<rect fill=\"#34AAFD\" height=\"8.33\" stroke=\"#EA8817\" stroke-opacity=\"0.2\" stroke-width=\"19\" width=\"16.67\" x=\"0.0\" y=\"58.33\"/>\n",
       "<rect fill=\"#4E44B8\" height=\"8.33\" stroke=\"#EA8817\" stroke-opacity=\"0.2\" stroke-width=\"17\" width=\"16.67\" x=\"0.0\" y=\"66.67\"/>\n",
       "<polygon fill=\"#F79917\" points=\"0.00,75.00 8.33,75.00 4.17,82.21\" stroke=\"#EA8817\" stroke-opacity=\"0.3\" stroke-width=\"13\"/>\n",
       "<rect fill=\"#4EDDE6\" height=\"8.33\" stroke=\"#34AAFD\" stroke-opacity=\"0.2\" stroke-width=\"17\" width=\"16.67\" x=\"0.0\" y=\"83.33\"/>\n",
       "<circle cx=\"8.34\" cy=\"100.01\" fill=\"#EA8817\" r=\"8.34\" stroke=\"#34AAFD\" stroke-opacity=\"0.3\" stroke-width=\"18\"/>\n",
       "<circle cx=\"25.01\" cy=\"8.34\" fill=\"#8F3373\" r=\"8.34\" stroke=\"#34AAFD\" stroke-opacity=\"0.2\" stroke-width=\"20\"/>\n",
       "<polygon fill=\"#EA8817\" points=\"16.67,8.33 25.00,8.33 20.84,15.54\" stroke=\"#EA8817\" stroke-opacity=\"0.3\" stroke-width=\"19\"/>\n",
       "<polygon fill=\"#34AAFD\" points=\"16.67,16.67 25.00,16.67 20.84,23.88\" stroke=\"#9CBB5C\" stroke-opacity=\"0.2\" stroke-width=\"13\"/>\n",
       "<polygon fill=\"#F79917\" points=\"16.67,25.00 25.00,25.00 20.84,32.21\" stroke=\"#EA8817\" stroke-opacity=\"1\" stroke-width=\"21\"/>\n",
       "<polygon fill=\"#0077FD\" points=\"16.67,33.33 25.00,33.33 20.84,40.54\" stroke=\"#F79917\" stroke-opacity=\"0.2\" stroke-width=\"15\"/>\n",
       "<rect fill=\"#F79917\" height=\"8.33\" stroke=\"#41335C\" stroke-opacity=\"0.3\" stroke-width=\"11\" width=\"16.67\" x=\"16.67\" y=\"41.67\"/>\n",
       "<rect fill=\"#F79917\" height=\"8.33\" stroke=\"#34AAFD\" stroke-opacity=\"0.3\" stroke-width=\"13\" width=\"16.67\" x=\"16.67\" y=\"50.0\"/>\n",
       "<polygon fill=\"#DDEE45\" points=\"16.67,58.33 25.00,58.33 20.84,65.54\" stroke=\"#34AAFD\" stroke-opacity=\"1\" stroke-width=\"12\"/>\n",
       "<rect fill=\"#EA8817\" height=\"8.33\" stroke=\"#DDEE45\" stroke-opacity=\"1\" stroke-width=\"14\" width=\"16.67\" x=\"16.67\" y=\"66.67\"/>\n",
       "<rect fill=\"#41335C\" height=\"8.33\" stroke=\"#DDEE45\" stroke-opacity=\"0.2\" stroke-width=\"24\" width=\"16.67\" x=\"16.67\" y=\"75.0\"/>\n",
       "<circle cx=\"25.01\" cy=\"91.67\" fill=\"#41335C\" r=\"8.34\" stroke=\"#EA8817\" stroke-opacity=\"1\" stroke-width=\"12\"/>\n",
       "<rect fill=\"#4E44B8\" height=\"8.33\" stroke=\"#EA8817\" stroke-opacity=\"1\" stroke-width=\"12\" width=\"16.67\" x=\"16.67\" y=\"91.67\"/>\n",
       "<circle cx=\"41.67\" cy=\"8.34\" fill=\"#F79917\" r=\"8.34\" stroke=\"#F79917\" stroke-opacity=\"0.2\" stroke-width=\"19\"/>\n",
       "<circle cx=\"41.67\" cy=\"16.67\" fill=\"#4E44B8\" r=\"8.34\" stroke=\"#EA8817\" stroke-opacity=\"0.2\" stroke-width=\"19\"/>\n",
       "<polygon fill=\"#4E44B8\" points=\"33.33,16.67 41.66,16.67 37.49,23.88\" stroke=\"#9CBB5C\" stroke-opacity=\"0.2\" stroke-width=\"25\"/>\n",
       "<rect fill=\"#9CBB5C\" height=\"8.33\" stroke=\"#34AAFD\" stroke-opacity=\"0.3\" stroke-width=\"10\" width=\"16.67\" x=\"33.33\" y=\"25.0\"/>\n",
       "<polygon fill=\"#EA8817\" points=\"33.33,33.33 41.66,33.33 37.49,40.54\" stroke=\"#9CBB5C\" stroke-opacity=\"1\" stroke-width=\"13\"/>\n",
       "<circle cx=\"41.67\" cy=\"50.01\" fill=\"#9CBB5C\" r=\"8.34\" stroke=\"#41335C\" stroke-opacity=\"0.2\" stroke-width=\"24\"/>\n",
       "<rect fill=\"#1A222E\" height=\"8.33\" stroke=\"#34AAFD\" stroke-opacity=\"1\" stroke-width=\"19\" width=\"16.67\" x=\"33.33\" y=\"50.0\"/>\n",
       "<circle cx=\"41.67\" cy=\"66.67\" fill=\"#9CBB5C\" r=\"8.34\" stroke=\"#9CBB5C\" stroke-opacity=\"0.3\" stroke-width=\"16\"/>\n",
       "<rect fill=\"#0044CF\" height=\"8.33\" stroke=\"#EA8817\" stroke-opacity=\"1\" stroke-width=\"17\" width=\"16.67\" x=\"33.33\" y=\"66.67\"/>\n",
       "<rect fill=\"#DDEE45\" height=\"8.33\" stroke=\"#EA8817\" stroke-opacity=\"0.2\" stroke-width=\"22\" width=\"16.67\" x=\"33.33\" y=\"75.0\"/>\n",
       "<rect fill=\"#0044CF\" height=\"8.33\" stroke=\"#EA8817\" stroke-opacity=\"0.3\" stroke-width=\"22\" width=\"16.67\" x=\"33.33\" y=\"83.33\"/>\n",
       "<polygon fill=\"#41335C\" points=\"33.33,91.67 41.66,91.67 37.49,98.88\" stroke=\"#41335C\" stroke-opacity=\"1\" stroke-width=\"16\"/>\n",
       "<polygon fill=\"#41335C\" points=\"50.00,0.00 58.33,0.00 54.16,7.21\" stroke=\"#9CBB5C\" stroke-opacity=\"0.3\" stroke-width=\"11\"/>\n",
       "<rect fill=\"#34AAFD\" height=\"8.33\" stroke=\"#DDEE45\" stroke-opacity=\"0.2\" stroke-width=\"22\" width=\"16.67\" x=\"50.0\" y=\"8.33\"/>\n",
       "<rect fill=\"#34AAFD\" height=\"8.33\" stroke=\"#F79917\" stroke-opacity=\"1\" stroke-width=\"24\" width=\"16.67\" x=\"50.0\" y=\"16.67\"/>\n",
       "<polygon fill=\"#9CBB5C\" points=\"50.00,25.00 58.33,25.00 54.16,32.21\" stroke=\"#0044CF\" stroke-opacity=\"0.2\" stroke-width=\"14\"/>\n",
       "<rect fill=\"#F79917\" height=\"8.33\" stroke=\"#DDEE45\" stroke-opacity=\"0.3\" stroke-width=\"22\" width=\"16.67\" x=\"50.0\" y=\"33.33\"/>\n",
       "<rect fill=\"#8F3373\" height=\"8.33\" stroke=\"#9CBB5C\" stroke-opacity=\"0.2\" stroke-width=\"14\" width=\"16.67\" x=\"50.0\" y=\"41.67\"/>\n",
       "<polygon fill=\"#4EDDE6\" points=\"50.00,50.00 58.33,50.00 54.16,57.21\" stroke=\"#F79917\" stroke-opacity=\"0.2\" stroke-width=\"11\"/>\n",
       "<rect fill=\"#34AAFD\" height=\"8.33\" stroke=\"#EA8817\" stroke-opacity=\"1\" stroke-width=\"24\" width=\"16.67\" x=\"50.0\" y=\"58.33\"/>\n",
       "<polygon fill=\"#F79917\" points=\"50.00,66.67 58.33,66.67 54.16,73.88\" stroke=\"#0044CF\" stroke-opacity=\"0.2\" stroke-width=\"14\"/>\n",
       "<rect fill=\"#1A222E\" height=\"8.33\" stroke=\"#0044CF\" stroke-opacity=\"0.2\" stroke-width=\"15\" width=\"16.67\" x=\"50.0\" y=\"75.0\"/>\n",
       "<rect fill=\"#0077FD\" height=\"8.33\" stroke=\"#0044CF\" stroke-opacity=\"1\" stroke-width=\"15\" width=\"16.67\" x=\"50.0\" y=\"83.33\"/>\n",
       "<rect fill=\"#8F3373\" height=\"8.33\" stroke=\"#DDEE45\" stroke-opacity=\"0.2\" stroke-width=\"20\" width=\"16.67\" x=\"50.0\" y=\"91.67\"/>\n",
       "<circle cx=\"75.01\" cy=\"8.34\" fill=\"#9CBB5C\" r=\"8.34\" stroke=\"#9CBB5C\" stroke-opacity=\"0.2\" stroke-width=\"24\"/>\n",
       "<polygon fill=\"#1A222E\" points=\"66.67,8.33 75.00,8.33 70.84,15.54\" stroke=\"#DDEE45\" stroke-opacity=\"1\" stroke-width=\"16\"/>\n",
       "<circle cx=\"75.01\" cy=\"25.01\" fill=\"#41335C\" r=\"8.34\" stroke=\"#DDEE45\" stroke-opacity=\"1\" stroke-width=\"13\"/>\n",
       "<polygon fill=\"#4EDDE6\" points=\"66.67,25.00 75.00,25.00 70.84,32.21\" stroke=\"#41335C\" stroke-opacity=\"0.2\" stroke-width=\"17\"/>\n",
       "<circle cx=\"75.01\" cy=\"41.67\" fill=\"#9CBB5C\" r=\"8.34\" stroke=\"#0044CF\" stroke-opacity=\"0.2\" stroke-width=\"12\"/>\n",
       "<rect fill=\"#1A222E\" height=\"8.33\" stroke=\"#DDEE45\" stroke-opacity=\"0.2\" stroke-width=\"15\" width=\"16.67\" x=\"66.67\" y=\"41.67\"/>\n",
       "<circle cx=\"75.01\" cy=\"58.34\" fill=\"#34AAFD\" r=\"8.34\" stroke=\"#0044CF\" stroke-opacity=\"1\" stroke-width=\"15\"/>\n",
       "<circle cx=\"75.01\" cy=\"66.67\" fill=\"#8F3373\" r=\"8.34\" stroke=\"#DDEE45\" stroke-opacity=\"0.2\" stroke-width=\"15\"/>\n",
       "<polygon fill=\"#41335C\" points=\"66.67,66.67 75.00,66.67 70.84,73.88\" stroke=\"#F79917\" stroke-opacity=\"0.3\" stroke-width=\"25\"/>\n",
       "<rect fill=\"#DDEE45\" height=\"8.33\" stroke=\"#F79917\" stroke-opacity=\"1\" stroke-width=\"23\" width=\"16.67\" x=\"66.67\" y=\"75.0\"/>\n",
       "<rect fill=\"#4EDDE6\" height=\"8.33\" stroke=\"#EA8817\" stroke-opacity=\"0.3\" stroke-width=\"22\" width=\"16.67\" x=\"66.67\" y=\"83.33\"/>\n",
       "<rect fill=\"#1A222E\" height=\"8.33\" stroke=\"#DDEE45\" stroke-opacity=\"0.2\" stroke-width=\"16\" width=\"16.67\" x=\"66.67\" y=\"91.67\"/>\n",
       "<polygon fill=\"#EA8817\" points=\"83.33,0.00 91.66,0.00 87.50,7.21\" stroke=\"#41335C\" stroke-opacity=\"0.2\" stroke-width=\"21\"/>\n",
       "<polygon fill=\"#1A222E\" points=\"83.33,8.33 91.66,8.33 87.50,15.54\" stroke=\"#9CBB5C\" stroke-opacity=\"0.2\" stroke-width=\"14\"/>\n",
       "<circle cx=\"91.67\" cy=\"25.01\" fill=\"#9CBB5C\" r=\"8.34\" stroke=\"#41335C\" stroke-opacity=\"0.2\" stroke-width=\"16\"/>\n",
       "<rect fill=\"#41335C\" height=\"8.33\" stroke=\"#41335C\" stroke-opacity=\"0.3\" stroke-width=\"22\" width=\"16.67\" x=\"83.33\" y=\"25.0\"/>\n",
       "<rect fill=\"#1A222E\" height=\"8.33\" stroke=\"#EA8817\" stroke-opacity=\"0.3\" stroke-width=\"18\" width=\"16.67\" x=\"83.33\" y=\"33.33\"/>\n",
       "<circle cx=\"91.67\" cy=\"50.01\" fill=\"#9CBB5C\" r=\"8.34\" stroke=\"#EA8817\" stroke-opacity=\"1\" stroke-width=\"10\"/>\n",
       "<circle cx=\"91.67\" cy=\"58.34\" fill=\"#4EDDE6\" r=\"8.34\" stroke=\"#DDEE45\" stroke-opacity=\"1\" stroke-width=\"13\"/>\n",
       "<circle cx=\"91.67\" cy=\"66.67\" fill=\"#F79917\" r=\"8.34\" stroke=\"#34AAFD\" stroke-opacity=\"0.2\" stroke-width=\"25\"/>\n",
       "<circle cx=\"91.67\" cy=\"75.01\" fill=\"#0077FD\" r=\"8.34\" stroke=\"#DDEE45\" stroke-opacity=\"0.2\" stroke-width=\"17\"/>\n",
       "<polygon fill=\"#0044CF\" points=\"83.33,75.00 91.66,75.00 87.50,82.21\" stroke=\"#41335C\" stroke-opacity=\"0.3\" stroke-width=\"23\"/>\n",
       "<polygon fill=\"#4EDDE6\" points=\"83.33,83.33 91.66,83.33 87.50,90.54\" stroke=\"#9CBB5C\" stroke-opacity=\"1\" stroke-width=\"10\"/>\n",
       "<polygon fill=\"#0077FD\" points=\"83.33,91.67 91.66,91.67 87.50,98.88\" stroke=\"#EA8817\" stroke-opacity=\"0.2\" stroke-width=\"15\"/>\n",
       "</svg>"
      ],
      "text/plain": [
       "<IPython.core.display.SVG object>"
      ]
     },
     "execution_count": 76,
     "metadata": {},
     "output_type": "execute_result"
    }
   ],
   "source": [
    "params ={}\n",
    "\n",
    "#generate random colors\n",
    "rgb_list = []\n",
    "for j in range(12):\n",
    "    rgb_list.append(rgb2hex( randrange(0,255,13), \n",
    "                            randrange(0,255,17),\n",
    "                            randrange(0,255,23)))\n",
    "pic_attribs['fill'] = choice(rgb_list)\n",
    "\n",
    "params['structure'] = choice(['RANDOM', 'GRID'])\n",
    "#params['structure'] = 'GRID'\n",
    "# Used only for structure 'RANDOM'\n",
    "params['nr_of_figures'] = 96\n",
    "#Used only for structure 'GRID'\n",
    "params['rows'], params['columns'] = 12, 6\n",
    "\n",
    "if params['structure'] == 'RANDOM': \n",
    "    # params for circles rects and polygons(triangles) \n",
    "    params['x'] = ('ri', [-20, 80])\n",
    "    params['y'] = ('ri', [-20, 120])\n",
    "#    params['height'] = ('rc', ([ 73, .65, 59,   34 ,87], ))\n",
    "#    params['width']  = ('rc', ([ 11.33, .59,   34, 29, 123], ))\n",
    "    params['height'] = ('rr', [ 5, 34, 4] )\n",
    "    params['width']  = ('rr', [ 3, 21, 5] )\n",
    "if params['structure'] == 'GRID':\n",
    "    l , w, h = create_grid(params['rows'],params['columns'])\n",
    "    params['nr_of_figures'] = len(l)\n",
    "    params['x'] = ('ar', ([round(e[0], 2) for e in l],))\n",
    "    params['y'] = ('ar', ([round(e[1], 2) for e in l], ))\n",
    "    params['height'] = ('ar', ([round(h, 2),] * len(l), ))\n",
    "    params['width'] = ('ar', ([round(w, 2),] * len(l), ))\n",
    "\n",
    "params['palette'] = rgb_list\n",
    "# Params for figure creation\n",
    "figs_to_choice = (  'polygon' , 'circle', 'rect' ) #'line'\n",
    "params['figures'] = ('rc', [figs_to_choice, ]) \n",
    "\n",
    "#Zu verbessern djw 20161230\n",
    "# params for lines\n",
    "#params['x1'] = ('ar', ([l[0] for l in lines], ))\n",
    "#params['y1'] = ('ar', ([l[1] for l in lines], ))\n",
    "#params['x2'] = ('ar', ([l[2] for l in lines], ))  #('ri', [0, 100])\n",
    "#params['y2'] = ('ar', ([l[3] for l in lines], ))\n",
    "\n",
    "#y1_list = list(range(21, 100, 23)) * int((params['nr_of_figures']  / 3))\n",
    "#params['y1'] = ('ar', (y1_list, ))\n",
    "#y2_list = copy.deepcopy(y1_list)\n",
    "#params['y2'] = ('ar', (y2_list, ))\n",
    "\n",
    "\n",
    "# params for svg style \n",
    "params['fill'] = ('rc', [rgb_list[:],] )\n",
    "#params['opacity'] = ('rc', [( .1, .5, .7), ]) \n",
    "params['stroke'] = ('rc', [rgb_list[2:-3],] )\n",
    "#params['stroke-linecap'] = ('rc', ([\"round\",], ))\n",
    "params['stroke-opacity'] = ('rc', [(.2, .3, 1), ])\n",
    "params['stroke-width'] = ('ri', [10 ,25 ])\n",
    "#params['transform'] = ('rr', [0, 361, 90] )\n",
    "\n",
    "print(params['structure'])\n",
    "svg = SVGPicture(params, pic_attribs=pic_attribs) \n",
    "SVG(svg.xml_to_string().replace('20in', '600px').replace('12in', '360px'))"
   ]
  },
  {
   "cell_type": "markdown",
   "metadata": {},
   "source": [
    "### Save Picture To File"
   ]
  },
  {
   "cell_type": "code",
   "execution_count": 77,
   "metadata": {},
   "outputs": [
    {
     "name": "stdout",
     "output_type": "stream",
     "text": [
      "20180309-0944-04707615\n"
     ]
    }
   ],
   "source": [
    "svg.to_file(zip = False)"
   ]
  },
  {
   "cell_type": "markdown",
   "metadata": {},
   "source": [
    "#### Show SVG-Files"
   ]
  },
  {
   "cell_type": "code",
   "execution_count": 1,
   "metadata": {
    "scrolled": false
   },
   "outputs": [],
   "source": [
    "!ls svg > svg_files.txt"
   ]
  },
  {
   "cell_type": "code",
   "execution_count": 4,
   "metadata": {},
   "outputs": [],
   "source": [
    "# %load svg_files.txt\n",
    "svg_file_names = fromfile('svg_files.txt').split('\\n')"
   ]
  },
  {
   "cell_type": "code",
   "execution_count": 5,
   "metadata": {},
   "outputs": [
    {
     "name": "stdout",
     "output_type": "stream",
     "text": [
      "svg/pic-20160727-2231-10452314.svg\n"
     ]
    },
    {
     "data": {
      "image/svg+xml": [
       "<svg height=\"600px\" version=\"1.2\" viewBox=\"0 0 100 100\" width=\"600px\" xmlns=\"http://www.w3.org/2000/svg\" xmlns:xlink=\"http://www.w3.org/1999/xlink/\">\n",
       "\n",
       "  <desc>Picture by J. Wendt</desc>\n",
       "  <!-- START Generator PARAMETERS in Json -->\n",
       "  <desc>{&quot;params&quot;:{&quot;nr_of_figures&quot;:32,&quot;height&quot;:[&quot;rc&quot;,[[40,20]]],&quot;width&quot;:[&quot;rc&quot;,[[50,10]]],&quot;stroke&quot;:[&quot;rc&quot;,[[&quot;#ABBDC8&quot;,&quot;#D9E1DD&quot;,&quot;#68443C&quot;,&quot;#B67B66&quot;,&quot;#D8B29A&quot;]]],&quot;stroke-opacity&quot;:[&quot;rc&quot;,[[0.8,0.6]]],&quot;transform&quot;:[&quot;rc&quot;,[[0,180]]],&quot;structure&quot;:&quot;RANDOM&quot;,&quot;y&quot;:[&quot;ri&quot;,[-20,120]],&quot;stroke-linecap&quot;:[&quot;rc&quot;,[[&quot;round&quot;]]],&quot;opacity&quot;:[&quot;rc&quot;,[[0.6,0.4]]],&quot;colorid&quot;:651,&quot;x&quot;:[&quot;ri&quot;,[-20,120]],&quot;figures&quot;:[&quot;rc&quot;,[[&quot;rect&quot;,&quot;polygon&quot;,&quot;circle&quot;,&quot;line&quot;]]],&quot;palette&quot;:[&quot;#ABBDC8&quot;,&quot;#D9E1DD&quot;,&quot;#68443C&quot;,&quot;#B67B66&quot;,&quot;#D8B29A&quot;],&quot;stroke-width&quot;:[&quot;rc&quot;,[[6,4]]],&quot;fill&quot;:[&quot;rc&quot;,[[&quot;#ABBDC8&quot;,&quot;#D9E1DD&quot;,&quot;#68443C&quot;,&quot;#B67B66&quot;,&quot;#D8B29A&quot;]]]}}</desc>\n",
       "  <!-- END Generator PARAMETERS in Json -->\n",
       "  \n",
       "  <!-- Show outline of canvas using 'rect' element -->\n",
       "  <rect fill=\"grey\" height=\"100\" id=\"bg-00\" opacity=\".4\" stroke=\"white\" stroke-opacity=\".3\" stroke-width=\"0.1\" width=\"100\" x=\"0\" y=\"0\"/>\n",
       "\n",
       "<circle cx=\"136.00\" cy=\"10.00\" fill=\"#ABBDC8\" opacity=\"0.4\" r=\"25.00\" stroke=\"#D9E1DD\" stroke-linecap=\"round\" stroke-opacity=\"0.8\" stroke-width=\"4\"/>\n",
       "<line fill=\"#D8B29A\" opacity=\"0.4\" stroke=\"#D9E1DD\" stroke-linecap=\"round\" stroke-opacity=\"0.8\" stroke-width=\"4\" x1=\"48\" x2=\"99\" y1=\"10\" y2=\"10\"/>\n",
       "<circle cx=\"119.00\" cy=\"83.00\" fill=\"#D8B29A\" opacity=\"0.4\" r=\"25.00\" stroke=\"#D9E1DD\" stroke-linecap=\"round\" stroke-opacity=\"0.6\" stroke-width=\"4\"/>\n",
       "<rect fill=\"#B67B66\" height=\"20\" opacity=\"0.6\" stroke=\"#D9E1DD\" stroke-linecap=\"round\" stroke-opacity=\"0.8\" stroke-width=\"4\" transform=\"rotate(0, 51.0, 107.0)\" width=\"50\" x=\"26\" y=\"97\"/>\n",
       "<rect fill=\"#68443C\" height=\"20\" opacity=\"0.6\" stroke=\"#D9E1DD\" stroke-linecap=\"round\" stroke-opacity=\"0.6\" stroke-width=\"4\" transform=\"rotate(0, 101.0, 79.0)\" width=\"10\" x=\"96\" y=\"69\"/>\n",
       "<circle cx=\"51.00\" cy=\"24.00\" fill=\"#B67B66\" opacity=\"0.6\" r=\"25.00\" stroke=\"#D8B29A\" stroke-linecap=\"round\" stroke-opacity=\"0.8\" stroke-width=\"4\"/>\n",
       "<circle cx=\"-4.00\" cy=\"129.00\" fill=\"#D9E1DD\" opacity=\"0.6\" r=\"10.00\" stroke=\"#B67B66\" stroke-linecap=\"round\" stroke-opacity=\"0.6\" stroke-width=\"4\"/>\n",
       "<rect fill=\"#ABBDC8\" height=\"20\" opacity=\"0.4\" stroke=\"#ABBDC8\" stroke-linecap=\"round\" stroke-opacity=\"0.8\" stroke-width=\"4\" transform=\"rotate(180, 117.0, 51.0)\" width=\"50\" x=\"92\" y=\"41\"/>\n",
       "<line fill=\"#68443C\" opacity=\"0.4\" stroke=\"#D9E1DD\" stroke-linecap=\"round\" stroke-opacity=\"0.6\" stroke-width=\"6\" x1=\"29\" x2=\"96\" y1=\"22\" y2=\"22\"/>\n",
       "<polygon fill=\"#D9E1DD\" opacity=\"0.4\" points=\"112.00,20.00 152.00,20.00 132.00,54.64\" stroke=\"#D9E1DD\" stroke-linecap=\"round\" stroke-opacity=\"0.8\" stroke-width=\"6\" transform=\"rotate(0, 137.0, 40.0)\"/>\n",
       "<rect fill=\"#D8B29A\" height=\"40\" opacity=\"0.6\" stroke=\"#ABBDC8\" stroke-linecap=\"round\" stroke-opacity=\"0.6\" stroke-width=\"6\" transform=\"rotate(0, 25.0, 7.0)\" width=\"10\" x=\"20\" y=\"-13\"/>\n",
       "<polygon fill=\"#D9E1DD\" opacity=\"0.4\" points=\"73.00,50.00 113.00,50.00 93.00,84.64\" stroke=\"#D8B29A\" stroke-linecap=\"round\" stroke-opacity=\"0.6\" stroke-width=\"4\" transform=\"rotate(180, 78.0, 70.0)\"/>\n",
       "<polygon fill=\"#68443C\" opacity=\"0.6\" points=\"11.00,47.00 31.00,47.00 21.00,64.32\" stroke=\"#B67B66\" stroke-linecap=\"round\" stroke-opacity=\"0.8\" stroke-width=\"4\" transform=\"rotate(180, 36.0, 57.0)\"/>\n",
       "<polygon fill=\"#D8B29A\" opacity=\"0.6\" points=\"61.00,22.00 81.00,22.00 71.00,39.32\" stroke=\"#D9E1DD\" stroke-linecap=\"round\" stroke-opacity=\"0.6\" stroke-width=\"4\" transform=\"rotate(0, 86.0, 32.0)\"/>\n",
       "<line fill=\"#D9E1DD\" opacity=\"0.4\" stroke=\"#ABBDC8\" stroke-linecap=\"round\" stroke-opacity=\"0.6\" stroke-width=\"6\" x1=\"2\" x2=\"99\" y1=\"34\" y2=\"34\"/>\n",
       "<line fill=\"#B67B66\" opacity=\"0.4\" stroke=\"#B67B66\" stroke-linecap=\"round\" stroke-opacity=\"0.6\" stroke-width=\"6\" x1=\"24\" x2=\"100\" y1=\"46\" y2=\"46\"/>\n",
       "<circle cx=\"36.00\" cy=\"27.00\" fill=\"#ABBDC8\" opacity=\"0.4\" r=\"20.00\" stroke=\"#68443C\" stroke-linecap=\"round\" stroke-opacity=\"0.6\" stroke-width=\"6\"/>\n",
       "<polygon fill=\"#B67B66\" opacity=\"0.4\" points=\"-7.00,101.00 13.00,101.00 3.00,118.32\" stroke=\"#68443C\" stroke-linecap=\"round\" stroke-opacity=\"0.6\" stroke-width=\"6\" transform=\"rotate(180, 18.0, 111.0)\"/>\n",
       "<rect fill=\"#D8B29A\" height=\"20\" opacity=\"0.4\" stroke=\"#D9E1DD\" stroke-linecap=\"round\" stroke-opacity=\"0.6\" stroke-width=\"6\" transform=\"rotate(0, 35.0, 123.0)\" width=\"50\" x=\"10\" y=\"113\"/>\n",
       "<polygon fill=\"#D9E1DD\" opacity=\"0.4\" points=\"25.00,-3.00 45.00,-3.00 35.00,14.32\" stroke=\"#B67B66\" stroke-linecap=\"round\" stroke-opacity=\"0.6\" stroke-width=\"6\" transform=\"rotate(0, 50.0, 7.0)\"/>\n",
       "<rect fill=\"#D8B29A\" height=\"20\" opacity=\"0.4\" stroke=\"#D8B29A\" stroke-linecap=\"round\" stroke-opacity=\"0.8\" stroke-width=\"6\" transform=\"rotate(0, 15.0, 18.0)\" width=\"50\" x=\"-10\" y=\"8\"/>\n",
       "<polygon fill=\"#D9E1DD\" opacity=\"0.6\" points=\"87.00,108.00 127.00,108.00 107.00,142.64\" stroke=\"#68443C\" stroke-linecap=\"round\" stroke-opacity=\"0.8\" stroke-width=\"4\" transform=\"rotate(180, 92.0, 128.0)\"/>\n",
       "<line fill=\"#D8B29A\" opacity=\"0.4\" stroke=\"#68443C\" stroke-linecap=\"round\" stroke-opacity=\"0.8\" stroke-width=\"4\" x1=\"18\" x2=\"95\" y1=\"58\" y2=\"58\"/>\n",
       "<line fill=\"#D9E1DD\" opacity=\"0.6\" stroke=\"#D8B29A\" stroke-linecap=\"round\" stroke-opacity=\"0.6\" stroke-width=\"4\" x1=\"2\" x2=\"100\" y1=\"70\" y2=\"70\"/>\n",
       "<circle cx=\"79.00\" cy=\"91.00\" fill=\"#68443C\" opacity=\"0.6\" r=\"25.00\" stroke=\"#ABBDC8\" stroke-linecap=\"round\" stroke-opacity=\"0.6\" stroke-width=\"6\"/>\n",
       "<circle cx=\"7.00\" cy=\"128.00\" fill=\"#D9E1DD\" opacity=\"0.4\" r=\"10.00\" stroke=\"#68443C\" stroke-linecap=\"round\" stroke-opacity=\"0.8\" stroke-width=\"6\"/>\n",
       "<rect fill=\"#D8B29A\" height=\"20\" opacity=\"0.4\" stroke=\"#B67B66\" stroke-linecap=\"round\" stroke-opacity=\"0.6\" stroke-width=\"4\" transform=\"rotate(0, 46.0, -5.0)\" width=\"50\" x=\"21\" y=\"-15\"/>\n",
       "<circle cx=\"15.00\" cy=\"128.00\" fill=\"#B67B66\" opacity=\"0.6\" r=\"25.00\" stroke=\"#D8B29A\" stroke-linecap=\"round\" stroke-opacity=\"0.8\" stroke-width=\"4\"/>\n",
       "<rect fill=\"#D9E1DD\" height=\"20\" opacity=\"0.4\" stroke=\"#ABBDC8\" stroke-linecap=\"round\" stroke-opacity=\"0.6\" stroke-width=\"6\" transform=\"rotate(0, 21.0, 46.0)\" width=\"50\" x=\"-4\" y=\"36\"/>\n",
       "<rect fill=\"#ABBDC8\" height=\"20\" opacity=\"0.4\" stroke=\"#D8B29A\" stroke-linecap=\"round\" stroke-opacity=\"0.8\" stroke-width=\"4\" transform=\"rotate(0, 38.0, 55.0)\" width=\"50\" x=\"13\" y=\"45\"/>\n",
       "<polygon fill=\"#D8B29A\" opacity=\"0.4\" points=\"95.00,64.00 135.00,64.00 115.00,98.64\" stroke=\"#ABBDC8\" stroke-linecap=\"round\" stroke-opacity=\"0.8\" stroke-width=\"6\" transform=\"rotate(0, 120.0, 84.0)\"/>\n",
       "<line fill=\"#D8B29A\" opacity=\"0.4\" stroke=\"#ABBDC8\" stroke-linecap=\"round\" stroke-opacity=\"0.8\" stroke-width=\"4\" x1=\"50\" x2=\"97\" y1=\"82\" y2=\"82\"/>\n",
       "</svg>"
      ],
      "text/plain": [
       "<IPython.core.display.SVG object>"
      ]
     },
     "execution_count": 5,
     "metadata": {},
     "output_type": "execute_result"
    }
   ],
   "source": [
    "f_name = 'svg/' + svg_file_names[9]\n",
    "print(f_name)\n",
    "\n",
    "if not f_name[-4:] == '.svg':\n",
    "    svg_content = unzip_file(f_name).decode(\"utf-8\")\n",
    "else:\n",
    "    svg_content = fromfile(f_name)\n",
    "    \n",
    "SVG(svg_content.replace('21in', '600px'))"
   ]
  },
  {
   "cell_type": "markdown",
   "metadata": {},
   "source": [
    "#### New order of elements"
   ]
  },
  {
   "cell_type": "code",
   "execution_count": 155,
   "metadata": {
    "scrolled": true
   },
   "outputs": [
    {
     "data": {
      "image/svg+xml": [
       "<svg height=\"400px\" version=\"1.2\" viewBox=\"0 0 100 66\" width=\"600px\" xmlns=\"http://www.w3.org/2000/svg\" xmlns:xlink=\"http://www.w3.org/1999/xlink/\">\n",
       "\n",
       "  <desc>Picture by J. Wendt</desc>\n",
       "  <!-- START Generator PARAMETERS in Json -->\n",
       "  <desc>{&quot;params&quot;:{&quot;stroke-opacity&quot;:[&quot;rc&quot;,[[0.2,0.3,1]]],&quot;y&quot;:[&quot;ri&quot;,[-20,120]],&quot;nr_of_figures&quot;:96,&quot;stroke&quot;:[&quot;rc&quot;,[[&quot;#5B3D00&quot;,&quot;#DDE717&quot;,&quot;#DDD6CF&quot;,&quot;#27812E&quot;,&quot;#8FD6FD&quot;,&quot;#B61B8A&quot;,&quot;#343D17&quot;,&quot;#82D62E&quot;]]],&quot;x&quot;:[&quot;ri&quot;,[-20,80]],&quot;height&quot;:[&quot;rr&quot;,[5,34,4]],&quot;transform&quot;:[&quot;rr&quot;,[0,361,90]],&quot;figures&quot;:[&quot;rc&quot;,[[&quot;polygon&quot;,&quot;circle&quot;,&quot;rect&quot;]]],&quot;palette&quot;:[&quot;#5B3D00&quot;,&quot;#DDE717&quot;,&quot;#DDD6CF&quot;,&quot;#27812E&quot;,&quot;#8FD6FD&quot;,&quot;#B61B8A&quot;,&quot;#343D17&quot;,&quot;#82D62E&quot;],&quot;rows&quot;:12,&quot;structure&quot;:&quot;RANDOM&quot;,&quot;width&quot;:[&quot;rr&quot;,[3,21,5]],&quot;columns&quot;:6,&quot;stroke-width&quot;:[&quot;ri&quot;,[10,25]],&quot;fill&quot;:[&quot;rc&quot;,[[&quot;#5B3D00&quot;,&quot;#DDE717&quot;,&quot;#DDD6CF&quot;,&quot;#27812E&quot;,&quot;#8FD6FD&quot;,&quot;#B61B8A&quot;,&quot;#343D17&quot;,&quot;#82D62E&quot;]]]}}</desc>\n",
       "  <!-- END Generator PARAMETERS in Json -->\n",
       "\n",
       "  <!-- Show outline of canvas using 'rect' element -->\n",
       "  <rect fill=\"#DDD6CF\" height=\"66\" id=\"bg-00\" opacity=\".3\" stroke=\"#32A0A5\" stroke-opacity=\".3\" stroke-width=\"0.1\" width=\"100\" x=\"0\" y=\"0\"/>\n",
       "<polygon fill=\"#DDD6CF\" points=\"-9.00,70.00 12.00,70.00 1.50,88.19\" stroke=\"#DDE717\" stroke-opacity=\"1\" stroke-width=\"16\" transform=\"rotate(270, -5.0, 80.5)\"/>\n",
       "<polygon fill=\"#82D62E\" points=\"23.00,43.00 48.00,43.00 35.50,64.65\" stroke=\"#DDD6CF\" stroke-opacity=\"0.3\" stroke-width=\"22\" transform=\"rotate(270, 29.5, 55.5)\"/>\n",
       "<rect fill=\"#DDD6CF\" height=\"9\" stroke=\"#27812E\" stroke-opacity=\"1\" stroke-width=\"13\" transform=\"rotate(270, 38.0, 90.5)\" width=\"8\" x=\"34\" y=\"86\"/>\n",
       "<circle cx=\"24.50\" cy=\"19.50\" fill=\"#DDD6CF\" r=\"10.50\" stroke=\"#DDE717\" stroke-opacity=\"0.2\" stroke-width=\"15\"/>\n",
       "<polygon fill=\"#B61B8A\" points=\"75.00,-16.00 80.00,-16.00 77.50,-11.67\" stroke=\"#343D17\" stroke-opacity=\"1\" stroke-width=\"17\" transform=\"rotate(180, 84.0, -13.5)\"/>\n",
       "<rect fill=\"#27812E\" height=\"5\" stroke=\"#B61B8A\" stroke-opacity=\"1\" stroke-width=\"23\" transform=\"rotate(0, -7.0, 48.5)\" width=\"18\" x=\"-16\" y=\"46\"/>\n",
       "<polygon fill=\"#B61B8A\" points=\"20.00,90.00 29.00,90.00 24.50,97.79\" stroke=\"#5B3D00\" stroke-opacity=\"0.3\" stroke-width=\"13\" transform=\"rotate(90, 26.5, 94.5)\"/>\n",
       "<polygon fill=\"#DDE717\" points=\"43.00,6.00 68.00,6.00 55.50,27.65\" stroke=\"#8FD6FD\" stroke-opacity=\"0.3\" stroke-width=\"21\" transform=\"rotate(0, 47.0, 18.5)\"/>\n",
       "<circle cx=\"11.50\" cy=\"36.50\" fill=\"#5B3D00\" r=\"12.50\" stroke=\"#DDD6CF\" stroke-opacity=\"0.2\" stroke-width=\"17\"/>\n",
       "<circle cx=\"39.50\" cy=\"1.50\" fill=\"#DDE717\" r=\"12.50\" stroke=\"#DDD6CF\" stroke-opacity=\"1\" stroke-width=\"24\"/>\n",
       "<polygon fill=\"#343D17\" points=\"38.00,64.00 59.00,64.00 48.50,82.19\" stroke=\"#5B3D00\" stroke-opacity=\"0.2\" stroke-width=\"24\" transform=\"rotate(90, 39.5, 74.5)\"/>\n",
       "<circle cx=\"64.50\" cy=\"27.50\" fill=\"#DDD6CF\" r=\"6.50\" stroke=\"#27812E\" stroke-opacity=\"0.3\" stroke-width=\"24\"/>\n",
       "<circle cx=\"68.50\" cy=\"83.50\" fill=\"#B61B8A\" r=\"10.50\" stroke=\"#B61B8A\" stroke-opacity=\"1\" stroke-width=\"15\"/>\n",
       "<circle cx=\"69.50\" cy=\"-0.50\" fill=\"#B61B8A\" r=\"6.50\" stroke=\"#B61B8A\" stroke-opacity=\"0.3\" stroke-width=\"16\"/>\n",
       "<circle cx=\"28.50\" cy=\"16.50\" fill=\"#DDD6CF\" r=\"4.50\" stroke=\"#27812E\" stroke-opacity=\"0.2\" stroke-width=\"16\"/>\n",
       "<rect fill=\"#27812E\" height=\"25\" stroke=\"#DDD6CF\" stroke-opacity=\"0.3\" stroke-width=\"11\" transform=\"rotate(270, 27.0, -1.5)\" width=\"18\" x=\"18\" y=\"-14\"/>\n",
       "<polygon fill=\"#82D62E\" points=\"63.00,119.00 88.00,119.00 75.50,140.65\" stroke=\"#82D62E\" stroke-opacity=\"0.3\" stroke-width=\"17\" transform=\"rotate(0, 64.5, 131.5)\"/>\n",
       "<rect fill=\"#82D62E\" height=\"5\" stroke=\"#82D62E\" stroke-opacity=\"0.2\" stroke-width=\"12\" transform=\"rotate(180, 29.5, 51.5)\" width=\"13\" x=\"23\" y=\"49\"/>\n",
       "<rect fill=\"#343D17\" height=\"13\" stroke=\"#343D17\" stroke-opacity=\"0.3\" stroke-width=\"17\" transform=\"rotate(180, 36.0, 75.5)\" width=\"18\" x=\"27\" y=\"69\"/>\n",
       "<rect fill=\"#DDD6CF\" height=\"29\" stroke=\"#343D17\" stroke-opacity=\"1\" stroke-width=\"17\" transform=\"rotate(0, 38.0, 11.5)\" width=\"8\" x=\"34\" y=\"-3\"/>\n",
       "<circle cx=\"66.50\" cy=\"62.50\" fill=\"#DDE717\" r=\"4.50\" stroke=\"#DDE717\" stroke-opacity=\"1\" stroke-width=\"12\"/>\n",
       "<circle cx=\"73.50\" cy=\"-11.50\" fill=\"#343D17\" r=\"6.50\" stroke=\"#DDE717\" stroke-opacity=\"0.3\" stroke-width=\"13\"/>\n",
       "<circle cx=\"76.50\" cy=\"63.50\" fill=\"#B61B8A\" r=\"8.50\" stroke=\"#27812E\" stroke-opacity=\"1\" stroke-width=\"22\"/>\n",
       "<rect fill=\"#8FD6FD\" height=\"33\" stroke=\"#DDD6CF\" stroke-opacity=\"0.2\" stroke-width=\"25\" transform=\"rotate(180, 19.0, 106.5)\" width=\"8\" x=\"15\" y=\"90\"/>\n",
       "<rect fill=\"#343D17\" height=\"5\" stroke=\"#DDD6CF\" stroke-opacity=\"1\" stroke-width=\"11\" transform=\"rotate(90, -8.0, -5.5)\" width=\"18\" x=\"-17\" y=\"-8\"/>\n",
       "<polygon fill=\"#8FD6FD\" points=\"39.00,70.00 52.00,70.00 45.50,81.26\" stroke=\"#343D17\" stroke-opacity=\"1\" stroke-width=\"13\" transform=\"rotate(90, 48.0, 76.5)\"/>\n",
       "<rect fill=\"#343D17\" height=\"29\" stroke=\"#8FD6FD\" stroke-opacity=\"1\" stroke-width=\"22\" transform=\"rotate(0, 6.5, 23.5)\" width=\"13\" x=\"0\" y=\"9\"/>\n",
       "<circle cx=\"80.50\" cy=\"16.50\" fill=\"#8FD6FD\" r=\"10.50\" stroke=\"#343D17\" stroke-opacity=\"0.3\" stroke-width=\"13\"/>\n",
       "<polygon fill=\"#82D62E\" points=\"-10.00,37.00 7.00,37.00 -1.50,51.72\" stroke=\"#8FD6FD\" stroke-opacity=\"0.2\" stroke-width=\"22\" transform=\"rotate(90, -8.5, 45.5)\"/>\n",
       "<circle cx=\"41.50\" cy=\"15.50\" fill=\"#B61B8A\" r=\"16.50\" stroke=\"#8FD6FD\" stroke-opacity=\"1\" stroke-width=\"17\"/>\n",
       "<rect fill=\"#343D17\" height=\"9\" stroke=\"#8FD6FD\" stroke-opacity=\"0.3\" stroke-width=\"18\" transform=\"rotate(360, 56.0, 64.5)\" width=\"18\" x=\"47\" y=\"60\"/>\n",
       "<polygon fill=\"#27812E\" points=\"58.00,60.00 91.00,60.00 74.50,88.58\" stroke=\"#82D62E\" stroke-opacity=\"0.3\" stroke-width=\"17\" transform=\"rotate(180, 62.0, 76.5)\"/>\n",
       "<circle cx=\"79.50\" cy=\"86.50\" fill=\"#343D17\" r=\"4.50\" stroke=\"#5B3D00\" stroke-opacity=\"0.2\" stroke-width=\"11\"/>\n",
       "<circle cx=\"40.50\" cy=\"107.50\" fill=\"#DDD6CF\" r=\"2.50\" stroke=\"#27812E\" stroke-opacity=\"0.2\" stroke-width=\"12\"/>\n",
       "<rect fill=\"#DDE717\" height=\"25\" stroke=\"#8FD6FD\" stroke-opacity=\"0.3\" stroke-width=\"23\" transform=\"rotate(270, 11.5, 63.5)\" width=\"3\" x=\"10\" y=\"51\"/>\n",
       "<polygon fill=\"#5B3D00\" points=\"-20.00,57.00 -7.00,57.00 -13.50,68.26\" stroke=\"#82D62E\" stroke-opacity=\"1\" stroke-width=\"15\" transform=\"rotate(360, -11.0, 63.5)\"/>\n",
       "<circle cx=\"4.50\" cy=\"90.50\" fill=\"#27812E\" r=\"10.50\" stroke=\"#343D17\" stroke-opacity=\"0.3\" stroke-width=\"10\"/>\n",
       "<circle cx=\"51.50\" cy=\"42.50\" fill=\"#DDE717\" r=\"4.50\" stroke=\"#27812E\" stroke-opacity=\"0.2\" stroke-width=\"18\"/>\n",
       "<circle cx=\"87.50\" cy=\"49.50\" fill=\"#5B3D00\" r=\"10.50\" stroke=\"#27812E\" stroke-opacity=\"0.2\" stroke-width=\"14\"/>\n",
       "<circle cx=\"86.50\" cy=\"3.50\" fill=\"#82D62E\" r=\"14.50\" stroke=\"#DDE717\" stroke-opacity=\"0.2\" stroke-width=\"22\"/>\n",
       "<rect fill=\"#343D17\" height=\"21\" stroke=\"#DDD6CF\" stroke-opacity=\"0.2\" stroke-width=\"23\" transform=\"rotate(360, 7.0, 42.5)\" width=\"18\" x=\"-2\" y=\"32\"/>\n",
       "<circle cx=\"55.50\" cy=\"25.50\" fill=\"#8FD6FD\" r=\"12.50\" stroke=\"#DDE717\" stroke-opacity=\"1\" stroke-width=\"25\"/>\n",
       "<polygon fill=\"#DDD6CF\" points=\"-14.00,91.00 11.00,91.00 -1.50,112.65\" stroke=\"#8FD6FD\" stroke-opacity=\"0.2\" stroke-width=\"24\" transform=\"rotate(90, -7.5, 103.5)\"/>\n",
       "<rect fill=\"#DDE717\" height=\"13\" stroke=\"#5B3D00\" stroke-opacity=\"0.3\" stroke-width=\"15\" transform=\"rotate(180, 44.5, -12.5)\" width=\"3\" x=\"43\" y=\"-19\"/>\n",
       "<circle cx=\"13.50\" cy=\"78.50\" fill=\"#8FD6FD\" r=\"6.50\" stroke=\"#82D62E\" stroke-opacity=\"0.3\" stroke-width=\"18\"/>\n",
       "<rect fill=\"#82D62E\" height=\"5\" stroke=\"#B61B8A\" stroke-opacity=\"0.3\" stroke-width=\"15\" transform=\"rotate(0, 36.5, -4.5)\" width=\"3\" x=\"35\" y=\"-7\"/>\n",
       "<rect fill=\"#27812E\" height=\"29\" stroke=\"#DDE717\" stroke-opacity=\"0.3\" stroke-width=\"10\" transform=\"rotate(180, 62.5, 10.5)\" width=\"13\" x=\"56\" y=\"-4\"/>\n",
       "<rect fill=\"#B61B8A\" height=\"17\" stroke=\"#82D62E\" stroke-opacity=\"1\" stroke-width=\"25\" transform=\"rotate(0, 22.5, 30.5)\" width=\"13\" x=\"16\" y=\"22\"/>\n",
       "<circle cx=\"44.50\" cy=\"53.50\" fill=\"#B61B8A\" r=\"10.50\" stroke=\"#DDD6CF\" stroke-opacity=\"0.3\" stroke-width=\"20\"/>\n",
       "<rect fill=\"#5B3D00\" height=\"13\" stroke=\"#27812E\" stroke-opacity=\"0.2\" stroke-width=\"23\" transform=\"rotate(360, 10.0, -13.5)\" width=\"8\" x=\"6\" y=\"-20\"/>\n",
       "<polygon fill=\"#5B3D00\" points=\"79.00,69.00 108.00,69.00 93.50,94.11\" stroke=\"#82D62E\" stroke-opacity=\"0.2\" stroke-width=\"17\" transform=\"rotate(270, 88.0, 83.5)\"/>\n",
       "<circle cx=\"48.50\" cy=\"28.50\" fill=\"#27812E\" r=\"6.50\" stroke=\"#343D17\" stroke-opacity=\"0.2\" stroke-width=\"21\"/>\n",
       "<rect fill=\"#343D17\" height=\"29\" stroke=\"#5B3D00\" stroke-opacity=\"1\" stroke-width=\"23\" transform=\"rotate(360, -17.5, 113.5)\" width=\"3\" x=\"-19\" y=\"99\"/>\n",
       "<rect fill=\"#8FD6FD\" height=\"5\" stroke=\"#343D17\" stroke-opacity=\"0.2\" stroke-width=\"14\" transform=\"rotate(270, 75.5, 28.5)\" width=\"13\" x=\"69\" y=\"26\"/>\n",
       "<polygon fill=\"#DDE717\" points=\"-9.00,70.00 12.00,70.00 1.50,88.19\" stroke=\"#8FD6FD\" stroke-opacity=\"0.3\" stroke-width=\"20\" transform=\"rotate(90, -2.5, 80.5)\"/>\n",
       "<rect fill=\"#5B3D00\" height=\"29\" stroke=\"#82D62E\" stroke-opacity=\"0.3\" stroke-width=\"25\" transform=\"rotate(360, 64.0, 127.5)\" width=\"18\" x=\"55\" y=\"113\"/>\n",
       "<rect fill=\"#DDE717\" height=\"17\" stroke=\"#DDD6CF\" stroke-opacity=\"0.3\" stroke-width=\"18\" transform=\"rotate(180, 41.0, 83.5)\" width=\"18\" x=\"32\" y=\"75\"/>\n",
       "<rect fill=\"#27812E\" height=\"21\" stroke=\"#DDD6CF\" stroke-opacity=\"0.2\" stroke-width=\"23\" transform=\"rotate(180, -5.5, 32.5)\" width=\"3\" x=\"-7\" y=\"22\"/>\n",
       "<circle cx=\"39.50\" cy=\"38.50\" fill=\"#5B3D00\" r=\"12.50\" stroke=\"#8FD6FD\" stroke-opacity=\"1\" stroke-width=\"24\"/>\n",
       "<circle cx=\"40.50\" cy=\"116.50\" fill=\"#DDE717\" r=\"14.50\" stroke=\"#DDE717\" stroke-opacity=\"0.2\" stroke-width=\"13\"/>\n",
       "<circle cx=\"39.50\" cy=\"67.50\" fill=\"#27812E\" r=\"10.50\" stroke=\"#8FD6FD\" stroke-opacity=\"0.2\" stroke-width=\"12\"/>\n",
       "<polygon fill=\"#DDE717\" points=\"65.00,25.00 98.00,25.00 81.50,53.58\" stroke=\"#8FD6FD\" stroke-opacity=\"0.3\" stroke-width=\"17\" transform=\"rotate(270, 69.0, 41.5)\"/>\n",
       "<polygon fill=\"#27812E\" points=\"78.00,-20.00 107.00,-20.00 92.50,5.11\" stroke=\"#343D17\" stroke-opacity=\"0.3\" stroke-width=\"11\" transform=\"rotate(0, 82.0, -5.5)\"/>\n",
       "<rect fill=\"#5B3D00\" height=\"9\" stroke=\"#8FD6FD\" stroke-opacity=\"0.2\" stroke-width=\"11\" transform=\"rotate(90, 79.0, 88.5)\" width=\"18\" x=\"70\" y=\"84\"/>\n",
       "<circle cx=\"1.50\" cy=\"105.50\" fill=\"#343D17\" r=\"16.50\" stroke=\"#8FD6FD\" stroke-opacity=\"1\" stroke-width=\"15\"/>\n",
       "<polygon fill=\"#27812E\" points=\"79.00,114.00 112.00,114.00 95.50,142.58\" stroke=\"#DDE717\" stroke-opacity=\"1\" stroke-width=\"18\" transform=\"rotate(90, 83.0, 130.5)\"/>\n",
       "<rect fill=\"#343D17\" height=\"13\" stroke=\"#DDD6CF\" stroke-opacity=\"0.3\" stroke-width=\"18\" transform=\"rotate(270, -15.0, -4.5)\" width=\"8\" x=\"-19\" y=\"-11\"/>\n",
       "<rect fill=\"#DDD6CF\" height=\"9\" stroke=\"#5B3D00\" stroke-opacity=\"0.2\" stroke-width=\"17\" transform=\"rotate(180, 83.5, 77.5)\" width=\"13\" x=\"77\" y=\"73\"/>\n",
       "<circle cx=\"-11.50\" cy=\"101.50\" fill=\"#DDD6CF\" r=\"8.50\" stroke=\"#27812E\" stroke-opacity=\"0.3\" stroke-width=\"24\"/>\n",
       "<circle cx=\"4.00\" cy=\"114.00\" fill=\"#82D62E\" r=\"9.00\" stroke=\"#27812E\" stroke-opacity=\"0.2\" stroke-width=\"25\"/>\n",
       "<polygon fill=\"#DDD6CF\" points=\"-7.00,14.00 18.00,14.00 5.50,35.65\" stroke=\"#8FD6FD\" stroke-opacity=\"1\" stroke-width=\"23\" transform=\"rotate(90, -3.0, 26.5)\"/>\n",
       "<circle cx=\"50.50\" cy=\"126.50\" fill=\"#B61B8A\" r=\"14.50\" stroke=\"#8FD6FD\" stroke-opacity=\"0.2\" stroke-width=\"24\"/>\n",
       "<rect fill=\"#B61B8A\" height=\"13\" stroke=\"#5B3D00\" stroke-opacity=\"1\" stroke-width=\"18\" transform=\"rotate(270, 78.5, 17.5)\" width=\"13\" x=\"72\" y=\"11\"/>\n",
       "<circle cx=\"13.50\" cy=\"-0.50\" fill=\"#27812E\" r=\"8.50\" stroke=\"#DDD6CF\" stroke-opacity=\"1\" stroke-width=\"23\"/>\n",
       "<circle cx=\"44.50\" cy=\"28.50\" fill=\"#5B3D00\" r=\"8.50\" stroke=\"#B61B8A\" stroke-opacity=\"0.3\" stroke-width=\"14\"/>\n",
       "<circle cx=\"-4.00\" cy=\"46.00\" fill=\"#343D17\" r=\"4.00\" stroke=\"#DDE717\" stroke-opacity=\"1\" stroke-width=\"17\"/>\n",
       "<circle cx=\"51.50\" cy=\"31.50\" fill=\"#82D62E\" r=\"6.50\" stroke=\"#343D17\" stroke-opacity=\"1\" stroke-width=\"13\"/>\n",
       "<circle cx=\"79.00\" cy=\"110.00\" fill=\"#27812E\" r=\"4.00\" stroke=\"#DDE717\" stroke-opacity=\"0.3\" stroke-width=\"14\"/>\n",
       "<polygon fill=\"#B61B8A\" points=\"-8.00,39.00 25.00,39.00 8.50,67.58\" stroke=\"#5B3D00\" stroke-opacity=\"0.3\" stroke-width=\"17\" transform=\"rotate(270, -4.0, 55.5)\"/>\n",
       "<rect fill=\"#27812E\" height=\"17\" stroke=\"#DDD6CF\" stroke-opacity=\"0.2\" stroke-width=\"22\" transform=\"rotate(360, 89.0, 20.5)\" width=\"18\" x=\"80\" y=\"12\"/>\n",
       "<polygon fill=\"#8FD6FD\" points=\"36.00,-8.00 61.00,-8.00 48.50,13.65\" stroke=\"#8FD6FD\" stroke-opacity=\"0.3\" stroke-width=\"19\" transform=\"rotate(360, 45.0, 4.5)\"/>\n",
       "<rect fill=\"#B61B8A\" height=\"17\" stroke=\"#82D62E\" stroke-opacity=\"0.2\" stroke-width=\"25\" transform=\"rotate(180, -16.5, 52.5)\" width=\"3\" x=\"-18\" y=\"44\"/>\n",
       "<polygon fill=\"#DDE717\" points=\"58.00,73.00 63.00,73.00 60.50,77.33\" stroke=\"#8FD6FD\" stroke-opacity=\"0.3\" stroke-width=\"24\" transform=\"rotate(360, 59.5, 75.5)\"/>\n",
       "<polygon fill=\"#DDE717\" points=\"71.00,59.00 80.00,59.00 75.50,66.79\" stroke=\"#DDD6CF\" stroke-opacity=\"1\" stroke-width=\"25\" transform=\"rotate(0, 75.0, 63.5)\"/>\n",
       "<circle cx=\"58.50\" cy=\"122.50\" fill=\"#343D17\" r=\"8.50\" stroke=\"#27812E\" stroke-opacity=\"0.2\" stroke-width=\"25\"/>\n",
       "<rect fill=\"#DDD6CF\" height=\"29\" stroke=\"#DDE717\" stroke-opacity=\"0.2\" stroke-width=\"20\" transform=\"rotate(180, 62.5, 38.5)\" width=\"3\" x=\"61\" y=\"24\"/>\n",
       "<rect fill=\"#5B3D00\" height=\"21\" stroke=\"#8FD6FD\" stroke-opacity=\"0.3\" stroke-width=\"19\" transform=\"rotate(360, 67.5, 35.5)\" width=\"13\" x=\"61\" y=\"25\"/>\n",
       "<circle cx=\"93.50\" cy=\"26.50\" fill=\"#DDE717\" r=\"14.50\" stroke=\"#343D17\" stroke-opacity=\"0.3\" stroke-width=\"22\"/>\n",
       "<polygon fill=\"#27812E\" points=\"-2.00,18.00 15.00,18.00 6.50,32.72\" stroke=\"#343D17\" stroke-opacity=\"0.2\" stroke-width=\"14\" transform=\"rotate(360, 2.0, 26.5)\"/>\n",
       "<rect fill=\"#27812E\" height=\"17\" stroke=\"#B61B8A\" stroke-opacity=\"1\" stroke-width=\"13\" transform=\"rotate(360, 9.5, 98.5)\" width=\"3\" x=\"8\" y=\"90\"/>\n",
       "<rect fill=\"#DDD6CF\" height=\"5\" stroke=\"#B61B8A\" stroke-opacity=\"0.3\" stroke-width=\"14\" transform=\"rotate(180, 34.5, 11.5)\" width=\"13\" x=\"28\" y=\"9\"/>\n",
       "<rect fill=\"#DDE717\" height=\"21\" stroke=\"#B61B8A\" stroke-opacity=\"1\" stroke-width=\"17\" transform=\"rotate(270, 54.0, 0.5)\" width=\"8\" x=\"50\" y=\"-10\"/>\n",
       "<rect fill=\"#27812E\" height=\"21\" stroke=\"#5B3D00\" stroke-opacity=\"1\" stroke-width=\"20\" transform=\"rotate(0, 46.0, 49.5)\" width=\"18\" x=\"37\" y=\"39\"/>\n",
       "<rect fill=\"#DDE717\" height=\"5\" stroke=\"#B61B8A\" stroke-opacity=\"1\" stroke-width=\"17\" transform=\"rotate(0, 47.5, 21.5)\" width=\"3\" x=\"46\" y=\"19\"/>\n",
       "</svg>"
      ],
      "text/plain": [
       "<IPython.core.display.SVG object>"
      ]
     },
     "execution_count": 155,
     "metadata": {},
     "output_type": "execute_result"
    }
   ],
   "source": [
    "from random import shuffle\n",
    "\n",
    "lines = svg.xml_to_string().split('\\n')\n",
    "\n",
    "start_line = 0\n",
    "counter = 1\n",
    "for l in lines:\n",
    "    counter += 1\n",
    "    if l.find('Show outline') > 0:\n",
    "        start_line = counter + 3\n",
    "#    if start_line == counter:\n",
    "#        print(counter, '\\t' , l)\n",
    "\n",
    "new_order = lines[start_line:-1]\n",
    "shuffle(new_order)\n",
    "new_svg = (lines[0:start_line - 3] + new_order + lines[-1:])\n",
    "SVG('\\n'.join(new_svg).replace('21in', '600px').replace('14in', '400px'))"
   ]
  },
  {
   "cell_type": "markdown",
   "metadata": {},
   "source": [
    "### RGB Colors by random"
   ]
  },
  {
   "cell_type": "code",
   "execution_count": 6,
   "metadata": {},
   "outputs": [],
   "source": [
    "html5_header =\"\"\"<!DOCTYPE html>\n",
    "<html><head>;\n",
    "<style>\n",
    "table, th, td {border: none; }\n",
    "</style>\n",
    "</head> <body> <table >\"\"\"\n",
    "\n",
    "html5_td = '<td style=\"background-color:{};height:60px; width:60px\">'\n",
    "\n",
    "html5_tail = \"\"\"</table> </body> </html>\"\"\""
   ]
  },
  {
   "cell_type": "code",
   "execution_count": 16,
   "metadata": {},
   "outputs": [
    {
     "data": {
      "text/html": [
       "<!DOCTYPE html>\n",
       "<html><head>;\n",
       "<style>\n",
       "table, th, td {border: none; }\n",
       "</style>\n",
       "</head> <body> <table ><tr>\n",
       "<td style=\"background-color:#F0BEBA;height:60px; width:60px\">#F0BEBA</td>\n",
       "<td style=\"background-color:#1E827C;height:60px; width:60px\">#1E827C</td>\n",
       "<td style=\"background-color:#780A5D;height:60px; width:60px\">#780A5D</td>\n",
       "<td style=\"background-color:#D20A00;height:60px; width:60px\">#D20A00</td>\n",
       "<td style=\"background-color:#5A467C;height:60px; width:60px\">#5A467C</td>\n",
       "</tr>\n",
       "<tr>\n",
       "<td style=\"background-color:#000AD9;height:60px; width:60px\">#000AD9</td>\n",
       "<td style=\"background-color:#3CBEF8;height:60px; width:60px\">#3CBEF8</td>\n",
       "<td style=\"background-color:#B46400;height:60px; width:60px\">#B46400</td>\n",
       "<td style=\"background-color:#00A0D9;height:60px; width:60px\">#00A0D9</td>\n",
       "<td style=\"background-color:#960A00;height:60px; width:60px\">#960A00</td>\n",
       "</tr>\n",
       "<tr>\n",
       "<td style=\"background-color:#F0647C;height:60px; width:60px\">#F0647C</td>\n",
       "<td style=\"background-color:#D2281F;height:60px; width:60px\">#D2281F</td>\n",
       "<td style=\"background-color:#96DCF8;height:60px; width:60px\">#96DCF8</td>\n",
       "<td style=\"background-color:#960ABA;height:60px; width:60px\">#960ABA</td>\n",
       "<td style=\"background-color:#F0DC7C;height:60px; width:60px\">#F0DC7C</td>\n",
       "</tr></table> </body> </html>"
      ],
      "text/plain": [
       "<IPython.core.display.HTML object>"
      ]
     },
     "execution_count": 16,
     "metadata": {},
     "output_type": "execute_result"
    }
   ],
   "source": [
    "circles = []\n",
    "rgb_list = []\n",
    "for i in range(3):\n",
    "    circles.append('<tr>')\n",
    "    for j in range(5):\n",
    "        rgb_list.append(rgb2hex( randrange(0,255,30),\n",
    "                                randrange(10,255,30),randrange(0,255,31)))\n",
    "        s = html5_td.format(rgb_list[-1]) + rgb_list[-1] + '</td>'\n",
    "        #s = '<td>' + circle.format(rgb_list[-1]) + '</td>'\n",
    "        circles.append(s)\n",
    "    circles.append('</tr>')\n",
    "html_text = html5_header + '\\n'.join(circles) + html5_tail\n",
    "\n",
    "HTML(html_text)"
   ]
  },
  {
   "cell_type": "markdown",
   "metadata": {},
   "source": [
    "### Experimente mit d3.js\n",
    "\n",
    "Hier fehlt:\n",
    "\n",
    "- Eine kleine Dokumentation und Erklärung\n",
    "- Die Darstellung der Ergebnisse in dem Jupyter Notebook - Jupyter beherrscht Javascript coding (%%Javascript etc) => ggf. ist Jupyter auch für mich das optimale Werkzeug neue Sprachen zu lernen\n",
    "- Die Trennung in ein eigenes Notebook ;-)"
   ]
  },
  {
   "cell_type": "code",
   "execution_count": 17,
   "metadata": {},
   "outputs": [],
   "source": [
    "\n",
    "svg_styles = ('fill', 'opacity', 'stroke', 'stroke-width',  'stroke-opacity')\n",
    "svg_attrs = ('x', 'y', 'width', 'height', 'x1', 'x2', 'y1', 'y2', 'cx', 'cy', 'r')\n",
    "\n",
    "def d3_append_elem(parent, child):\n",
    "    return '{}.append(\"{}\")'.format(parent, child)\n",
    "\n",
    "\n",
    "def d3_attr_line(name, value):\n",
    "    if name in style_names:\n",
    "        kind = 'style'\n",
    "    else:\n",
    "        kind =  'attr'\n",
    "    return '\\t.{}(\"{}\", \"{}\")'.format(kind, name, value)\n",
    "\n",
    "#for i, n in enumerate(style_names + attr_names):\n",
    "#    print (d3_attr_line(n, i))"
   ]
  },
  {
   "cell_type": "code",
   "execution_count": 26,
   "metadata": {},
   "outputs": [],
   "source": [
    "import random\n",
    "\n",
    "# functions to create attributte values are callable by dict keys \n",
    "def fifo_func(values):\n",
    "    return values.pop(0)\n",
    "\n",
    "RM_FUNCTION = {'ri': random.randint,\n",
    "               'rc': random.choice,\n",
    "               'ar': fifo_func}\n",
    "\n",
    "def set_attributes(params):\n",
    "    \"\"\"random/algorithm based SVG attributes creation\"\"\"\n",
    "    attribs = {}\n",
    "    for k, v in params.items():\n",
    "        if k in svg_styles or k in svg_attrs:\n",
    "            attribs[k] = RM_FUNCTION[v[0]](*v[1])\n",
    "    return attribs\n",
    "    \n",
    "def attribs_to_string(attribs):\n",
    "    return [d3_attr_line(k, v) for k, v in attribs.items()]\n",
    "\n"
   ]
  },
  {
   "cell_type": "code",
   "execution_count": 27,
   "metadata": {},
   "outputs": [
    {
     "ename": "IndexError",
     "evalue": "pop from empty list",
     "output_type": "error",
     "traceback": [
      "\u001b[0;31m---------------------------------------------------------------------------\u001b[0m",
      "\u001b[0;31mIndexError\u001b[0m                                Traceback (most recent call last)",
      "\u001b[0;32m<ipython-input-27-db57136b7c1e>\u001b[0m in \u001b[0;36m<module>\u001b[0;34m()\u001b[0m\n\u001b[1;32m      3\u001b[0m \u001b[0;32mwhile\u001b[0m \u001b[0mn\u001b[0m \u001b[0;34m>\u001b[0m \u001b[0;36m0\u001b[0m\u001b[0;34m:\u001b[0m\u001b[0;34m\u001b[0m\u001b[0m\n\u001b[1;32m      4\u001b[0m     \u001b[0mlines\u001b[0m\u001b[0;34m.\u001b[0m\u001b[0mappend\u001b[0m\u001b[0;34m(\u001b[0m\u001b[0md3_append_elem\u001b[0m\u001b[0;34m(\u001b[0m\u001b[0;34m'svg'\u001b[0m\u001b[0;34m,\u001b[0m \u001b[0;34m'circle'\u001b[0m\u001b[0;34m)\u001b[0m\u001b[0;34m)\u001b[0m\u001b[0;34m\u001b[0m\u001b[0m\n\u001b[0;32m----> 5\u001b[0;31m     \u001b[0mlines\u001b[0m \u001b[0;34m+=\u001b[0m \u001b[0mattribs_to_string\u001b[0m\u001b[0;34m(\u001b[0m\u001b[0mset_attributes\u001b[0m\u001b[0;34m(\u001b[0m\u001b[0mparams\u001b[0m\u001b[0;34m)\u001b[0m\u001b[0;34m)\u001b[0m\u001b[0;34m\u001b[0m\u001b[0m\n\u001b[0m\u001b[1;32m      6\u001b[0m     \u001b[0mn\u001b[0m \u001b[0;34m-=\u001b[0m \u001b[0;36m1\u001b[0m\u001b[0;34m\u001b[0m\u001b[0m\n\u001b[1;32m      7\u001b[0m \u001b[0mtxt\u001b[0m \u001b[0;34m=\u001b[0m \u001b[0;34m'\\n'\u001b[0m\u001b[0;34m.\u001b[0m\u001b[0mjoin\u001b[0m\u001b[0;34m(\u001b[0m\u001b[0mlines\u001b[0m\u001b[0;34m)\u001b[0m\u001b[0;34m\u001b[0m\u001b[0m\n",
      "\u001b[0;32m<ipython-input-26-b3114a420fd9>\u001b[0m in \u001b[0;36mset_attributes\u001b[0;34m(params)\u001b[0m\n\u001b[1;32m     14\u001b[0m     \u001b[0;32mfor\u001b[0m \u001b[0mk\u001b[0m\u001b[0;34m,\u001b[0m \u001b[0mv\u001b[0m \u001b[0;32min\u001b[0m \u001b[0mparams\u001b[0m\u001b[0;34m.\u001b[0m\u001b[0mitems\u001b[0m\u001b[0;34m(\u001b[0m\u001b[0;34m)\u001b[0m\u001b[0;34m:\u001b[0m\u001b[0;34m\u001b[0m\u001b[0m\n\u001b[1;32m     15\u001b[0m         \u001b[0;32mif\u001b[0m \u001b[0mk\u001b[0m \u001b[0;32min\u001b[0m \u001b[0msvg_styles\u001b[0m \u001b[0;32mor\u001b[0m \u001b[0mk\u001b[0m \u001b[0;32min\u001b[0m \u001b[0msvg_attrs\u001b[0m\u001b[0;34m:\u001b[0m\u001b[0;34m\u001b[0m\u001b[0m\n\u001b[0;32m---> 16\u001b[0;31m             \u001b[0mattribs\u001b[0m\u001b[0;34m[\u001b[0m\u001b[0mk\u001b[0m\u001b[0;34m]\u001b[0m \u001b[0;34m=\u001b[0m \u001b[0mRM_FUNCTION\u001b[0m\u001b[0;34m[\u001b[0m\u001b[0mv\u001b[0m\u001b[0;34m[\u001b[0m\u001b[0;36m0\u001b[0m\u001b[0;34m]\u001b[0m\u001b[0;34m]\u001b[0m\u001b[0;34m(\u001b[0m\u001b[0;34m*\u001b[0m\u001b[0mv\u001b[0m\u001b[0;34m[\u001b[0m\u001b[0;36m1\u001b[0m\u001b[0;34m]\u001b[0m\u001b[0;34m)\u001b[0m\u001b[0;34m\u001b[0m\u001b[0m\n\u001b[0m\u001b[1;32m     17\u001b[0m     \u001b[0;32mreturn\u001b[0m \u001b[0mattribs\u001b[0m\u001b[0;34m\u001b[0m\u001b[0m\n\u001b[1;32m     18\u001b[0m \u001b[0;34m\u001b[0m\u001b[0m\n",
      "\u001b[0;32m<ipython-input-26-b3114a420fd9>\u001b[0m in \u001b[0;36mfifo_func\u001b[0;34m(values)\u001b[0m\n\u001b[1;32m      3\u001b[0m \u001b[0;31m# functions to create attributte values are callable by dict keys\u001b[0m\u001b[0;34m\u001b[0m\u001b[0;34m\u001b[0m\u001b[0m\n\u001b[1;32m      4\u001b[0m \u001b[0;32mdef\u001b[0m \u001b[0mfifo_func\u001b[0m\u001b[0;34m(\u001b[0m\u001b[0mvalues\u001b[0m\u001b[0;34m)\u001b[0m\u001b[0;34m:\u001b[0m\u001b[0;34m\u001b[0m\u001b[0m\n\u001b[0;32m----> 5\u001b[0;31m     \u001b[0;32mreturn\u001b[0m \u001b[0mvalues\u001b[0m\u001b[0;34m.\u001b[0m\u001b[0mpop\u001b[0m\u001b[0;34m(\u001b[0m\u001b[0;36m0\u001b[0m\u001b[0;34m)\u001b[0m\u001b[0;34m\u001b[0m\u001b[0m\n\u001b[0m\u001b[1;32m      6\u001b[0m \u001b[0;34m\u001b[0m\u001b[0m\n\u001b[1;32m      7\u001b[0m RM_FUNCTION = {'ri': random.randint,\n",
      "\u001b[0;31mIndexError\u001b[0m: pop from empty list"
     ]
    }
   ],
   "source": [
    "n = 7\n",
    "lines = []\n",
    "while n > 0:\n",
    "    lines.append(d3_append_elem('svg', 'circle'))\n",
    "    lines += attribs_to_string(set_attributes(params))\n",
    "    n -= 1\n",
    "txt = '\\n'.join(lines)\n",
    "print(txt)"
   ]
  }
 ],
 "metadata": {
  "anaconda-cloud": {},
  "kernelspec": {
   "display_name": "Python 3",
   "language": "python",
   "name": "python3"
  },
  "language_info": {
   "codemirror_mode": {
    "name": "ipython",
    "version": 3
   },
   "file_extension": ".py",
   "mimetype": "text/x-python",
   "name": "python",
   "nbconvert_exporter": "python",
   "pygments_lexer": "ipython3",
   "version": "3.6.4"
  }
 },
 "nbformat": 4,
 "nbformat_minor": 1
}
