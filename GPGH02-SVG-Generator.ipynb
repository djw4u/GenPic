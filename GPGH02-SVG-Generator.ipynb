{
 "cells": [
  {
   "cell_type": "markdown",
   "metadata": {},
   "source": [
    "## Overview of GenPic on GitHub\n",
    "\n",
    "GenPic ist eine Sammlung von IPython Notebooks zur Generierung und Verwaltung von Bildern im SVG Format.\n",
    "\n",
    "1. **GPGH01-Show-Palettes** stellt die Farbpaletten aus der Datei **color-palettes.data** da.\n",
    "\n",
    "2. **GPGH02-Picture-Generator** generiert parametergesteuert Bilder und speichert sie als *svgz* File.\n",
    "\n",
    "### History and Status - 20160810\n",
    "\n",
    "The notebook *GP02-Redesign* is the base of the new development under GitHub:\n",
    "\n",
    "- Functions and objects were taken to a module *gp-basics.py* ... as fare as possible or by dirty luke, code was not refectored as it should habe been done.\n",
    "\n",
    "- *GPGH02-SVG-Generator* is/was the new generator notebook under the *GitHub development*\n",
    "\n",
    "- **Line construction** is not implemented under *GP02-Rdesign* as it is under *GP02-Generator-old*. \n",
    "  Nevertheless line construction is implemented in *GPGH02-SVG-Generator*.\n",
    "  \n",
    "Actually improvements where made in the new files *attr_funcs.py and new_controls.ipynb* in this respository:\n",
    "\n",
    "- Partly Redesign of *params*  to controls structure and adopting this to code\n",
    "\n",
    "- Redesign is still running. Archivments should be integrated into the main stream.\n"
   ]
  },
  {
   "cell_type": "markdown",
   "metadata": {},
   "source": [
    "## Picture Generator"
   ]
  },
  {
   "cell_type": "markdown",
   "metadata": {},
   "source": [
    "GenPic nutzt verbreitete Standardkomponenten und Python Module.\n",
    "\n",
    "+ Daten werden in Dateien gespeichert\n",
    "    + Parameter und Farbpaletten werden in **Json** gespeichert.\n",
    "    + Die Bilddaten werden in **SVG/SVGZ** gespeichert. \n",
    "\n",
    "+ Templates werden mit **Jinja2** erstellt.\n",
    "\n",
    "+ Die XML Bearbeitung basiert auf **lxml**.\n",
    "\n",
    "+ **Numpy** wird zur Array und List Generierung genutzt"
   ]
  },
  {
   "cell_type": "markdown",
   "metadata": {},
   "source": [
    "### Roadmap\n",
    "\n",
    "1) Zunächst Ertellung guter, einfacher und ausbaufähiger Basis-Module:\n",
    "  + zur Lösung folgender Aufgaben:\n",
    "    * Datenspeicherung: Files und ggf. alternativ auch Datenbank\n",
    "    * Parameter-Steuerungskonzept und Aufbau\n",
    "    * Figuren und Bildergenerierung\n",
    "    * Farbpalettenverwaltung\n",
    "    * Parameterverwaltung\n",
    "  \n",
    "  + Strukturiert in Funktionen und Objekten\n",
    "  \n",
    "  + klar strukturierte und dokumentierte Json Nutzung für Parameter\n",
    "  \n",
    "  + Nutzung von Generics, Abstraktion ....\n",
    " \n",
    "  + **Alles gut progammiert, dokumentiert und testautomatisiert.**\n",
    "  \n",
    "2) Einfache ipynb's für Workflow:  \n",
    "  + Farbpalette auswählen, bzw. erstellen\n",
    "  + Komfortable und flexible SVG Generierung\n",
    "  + Generierung von HTML Katalogen\n",
    "  + *ggf. Bildermutationen etc. aus existierenden Bildern:*\n",
    "    - z.B. Reihenfolge oder Figuren ändern, Bilder mischen etc.\n",
    "  + Gut progammiert, dokumentiert und testautomatisiert.\n",
    "\n",
    "3) Basis zum Aufbau einer Community schaffen\n",
    "  + Nutzung und Darstellung in GitHub\n",
    "  + Erstellung eines Wicki (siehe d3.js) - auch/insbesondere durch User:\n",
    "    * Anleitungen z.B. für Konvertierung der Bilder in das png Format\n",
    "    * Diskussion zur Nutzung von Parametern und Farbpaletten für Bilder\n",
    "    * Einstellung und Erzeugung von Bildern\n",
    "    * Nutzung eigener *Picture Structures* und *Figures*\n",
    "\n",
    "#### Aktuelle to do's\n",
    "\n",
    "**Offen**:\n",
    "\n",
    "+ Bilder mit Gridmuster können nicht erstellt werden \n",
    "  \n",
    "+ gp_basics.py ist nicht ausreichend dokumentiert\n",
    "\n",
    "**Erledigt**:"
   ]
  },
  {
   "cell_type": "markdown",
   "metadata": {},
   "source": [
    "### Import Modules and Constants"
   ]
  },
  {
   "cell_type": "code",
   "execution_count": 1,
   "metadata": {
    "collapsed": false,
    "scrolled": true
   },
   "outputs": [],
   "source": [
    "from gp_basics import *"
   ]
  },
  {
   "cell_type": "markdown",
   "metadata": {},
   "source": [
    "###  Line Construction"
   ]
  },
  {
   "cell_type": "code",
   "execution_count": 54,
   "metadata": {
    "collapsed": false
   },
   "outputs": [],
   "source": [
    "nr_of_origins = 12\n",
    "nr_of_lines = 18\n",
    "\n",
    "origins_x_area = (0, 50)\n",
    "origins_y_area = (100, 100)\n",
    "\n",
    "target_x_area = (95, 100)\n",
    "target_y_area = (0, 0)\n",
    "\n",
    "# Define starting points for the lines\n",
    "origins =[]\n",
    "targets =[]\n",
    "for i in range(nr_of_origins):\n",
    "    origins.append((randint(origins_x_area[0], origins_x_area[1]),\n",
    "                    randint(origins_y_area[0], origins_y_area[1])))\n",
    "for i in range(nr_of_lines):\n",
    "    targets.append((randint(target_x_area[0], target_x_area[1]),\n",
    "                    randint(target_y_area[0], target_y_area[1])))\n",
    "\n",
    "# Define lines\n",
    "lines =[]\n",
    "for i in range(nr_of_lines):\n",
    "    p1 = choice(origins)\n",
    "    p2 = choice(targets)\n",
    "    lines.append((p1[0], p1[1], p2[0], p2[1]))"
   ]
  },
  {
   "cell_type": "markdown",
   "metadata": {},
   "source": [
    "## Produce Pictures"
   ]
  },
  {
   "cell_type": "code",
   "execution_count": 3,
   "metadata": {
    "collapsed": false
   },
   "outputs": [],
   "source": [
    "import copy\n",
    "from IPython.display import HTML, SVG"
   ]
  },
  {
   "cell_type": "code",
   "execution_count": 114,
   "metadata": {
    "collapsed": true
   },
   "outputs": [],
   "source": [
    "# Define basic picture attributtes for the pictures SVG template  like size, background ...\n",
    "pic_attribs = {'svg_width':'21in', 'svg_height':'21in',\n",
    "        'w_points':'100', 'h_points':'100',\n",
    "        'fill':'sand', \n",
    "        'opacity':'.8',\n",
    "        'stroke':'white',\n",
    "        'stroke_opacity':'.3', \n",
    "        'stroke_width':'0.1'}"
   ]
  },
  {
   "cell_type": "code",
   "execution_count": 123,
   "metadata": {
    "collapsed": false
   },
   "outputs": [
    {
     "data": {
      "image/svg+xml": [
       "<svg height=\"620px\" version=\"1.2\" viewBox=\"0 0 100 100\" width=\"620px\" xmlns=\"http://www.w3.org/2000/svg\" xmlns:xlink=\"http://www.w3.org/1999/xlink/\">\n",
       "\n",
       "  <desc>Picture by J. Wendt</desc>\n",
       "  <!-- START Generator PARAMETERS in Json -->\n",
       "  <desc>{&quot;params&quot;:{&quot;structure&quot;:&quot;RANDOM&quot;,&quot;figures&quot;:[&quot;rc&quot;,[[&quot;rect&quot;,&quot;polygon&quot;,&quot;circle&quot;,&quot;rect&quot;,&quot;polygon&quot;,&quot;circle&quot;,&quot;rect&quot;,&quot;rect&quot;,&quot;line&quot;]]],&quot;palette&quot;:[&quot;rgb(0, 30, 140)&quot;,&quot;rgb(125, 20, 95)&quot;,&quot;rgb(125, 90, 70)&quot;,&quot;rgb(50, 150, 55)&quot;,&quot;rgb(50, 30, 100)&quot;,&quot;rgb(150, 60, 45)&quot;,&quot;rgb(25, 110, 115)&quot;,&quot;rgb(150, 90, 110)&quot;,&quot;rgb(100, 10, 45)&quot;,&quot;rgb(150, 80, 75)&quot;,&quot;rgb(125, 140, 65)&quot;,&quot;rgb(50, 90, 35)&quot;,&quot;rgb(125, 10, 75)&quot;,&quot;rgb(150, 120, 70)&quot;,&quot;rgb(75, 90, 80)&quot;,&quot;rgb(25, 70, 140)&quot;,&quot;rgb(0, 60, 125)&quot;,&quot;rgb(125, 150, 120)&quot;,&quot;rgb(100, 50, 145)&quot;,&quot;rgb(25, 60, 10)&quot;,&quot;rgb(150, 150, 30)&quot;,&quot;rgb(125, 160, 115)&quot;,&quot;rgb(50, 80, 35)&quot;,&quot;rgb(125, 80, 125)&quot;,&quot;rgb(0, 50, 120)&quot;,&quot;rgb(100, 80, 120)&quot;,&quot;rgb(125, 10, 65)&quot;,&quot;rgb(100, 140, 80)&quot;,&quot;rgb(50, 30, 40)&quot;,&quot;rgb(100, 150, 135)&quot;,&quot;rgb(75, 150, 130)&quot;,&quot;rgb(150, 50, 55)&quot;,&quot;rgb(25, 160, 65)&quot;,&quot;rgb(150, 70, 40)&quot;,&quot;rgb(100, 40, 135)&quot;,&quot;rgb(75, 140, 145)&quot;],&quot;fill&quot;:[&quot;rc&quot;,[[&quot;rgb(0, 30, 140)&quot;,&quot;rgb(125, 20, 95)&quot;,&quot;rgb(125, 90, 70)&quot;,&quot;rgb(50, 150, 55)&quot;,&quot;rgb(50, 30, 100)&quot;,&quot;rgb(150, 60, 45)&quot;,&quot;rgb(25, 110, 115)&quot;,&quot;rgb(150, 90, 110)&quot;,&quot;rgb(100, 10, 45)&quot;,&quot;rgb(150, 80, 75)&quot;,&quot;rgb(125, 140, 65)&quot;,&quot;rgb(50, 90, 35)&quot;,&quot;rgb(125, 10, 75)&quot;,&quot;rgb(150, 120, 70)&quot;,&quot;rgb(75, 90, 80)&quot;,&quot;rgb(25, 70, 140)&quot;,&quot;rgb(0, 60, 125)&quot;,&quot;rgb(125, 150, 120)&quot;,&quot;rgb(100, 50, 145)&quot;,&quot;rgb(25, 60, 10)&quot;,&quot;rgb(150, 150, 30)&quot;,&quot;rgb(125, 160, 115)&quot;,&quot;rgb(50, 80, 35)&quot;,&quot;rgb(125, 80, 125)&quot;,&quot;rgb(0, 50, 120)&quot;,&quot;rgb(100, 80, 120)&quot;,&quot;rgb(125, 10, 65)&quot;,&quot;rgb(100, 140, 80)&quot;,&quot;rgb(50, 30, 40)&quot;,&quot;rgb(100, 150, 135)&quot;,&quot;rgb(75, 150, 130)&quot;,&quot;rgb(150, 50, 55)&quot;,&quot;rgb(25, 160, 65)&quot;,&quot;rgb(150, 70, 40)&quot;,&quot;rgb(100, 40, 135)&quot;,&quot;rgb(75, 140, 145)&quot;]]],&quot;stroke-linecap&quot;:[&quot;rc&quot;,[[&quot;round&quot;]]],&quot;width&quot;:[&quot;rc&quot;,[[50,10]]],&quot;stroke-opacity&quot;:[&quot;rc&quot;,[[0.8,0.6]]],&quot;transform&quot;:[&quot;rc&quot;,[[0,180]]],&quot;stroke&quot;:[&quot;rc&quot;,[[&quot;rgb(0, 30, 140)&quot;,&quot;rgb(125, 20, 95)&quot;,&quot;rgb(125, 90, 70)&quot;,&quot;rgb(50, 150, 55)&quot;,&quot;rgb(50, 30, 100)&quot;,&quot;rgb(150, 60, 45)&quot;,&quot;rgb(25, 110, 115)&quot;,&quot;rgb(150, 90, 110)&quot;,&quot;rgb(100, 10, 45)&quot;,&quot;rgb(150, 80, 75)&quot;,&quot;rgb(125, 140, 65)&quot;,&quot;rgb(50, 90, 35)&quot;,&quot;rgb(125, 10, 75)&quot;,&quot;rgb(150, 120, 70)&quot;,&quot;rgb(75, 90, 80)&quot;,&quot;rgb(25, 70, 140)&quot;,&quot;rgb(0, 60, 125)&quot;,&quot;rgb(125, 150, 120)&quot;,&quot;rgb(100, 50, 145)&quot;,&quot;rgb(25, 60, 10)&quot;,&quot;rgb(150, 150, 30)&quot;,&quot;rgb(125, 160, 115)&quot;,&quot;rgb(50, 80, 35)&quot;,&quot;rgb(125, 80, 125)&quot;,&quot;rgb(0, 50, 120)&quot;,&quot;rgb(100, 80, 120)&quot;,&quot;rgb(125, 10, 65)&quot;,&quot;rgb(100, 140, 80)&quot;,&quot;rgb(50, 30, 40)&quot;,&quot;rgb(100, 150, 135)&quot;,&quot;rgb(75, 150, 130)&quot;,&quot;rgb(150, 50, 55)&quot;,&quot;rgb(25, 160, 65)&quot;,&quot;rgb(150, 70, 40)&quot;,&quot;rgb(100, 40, 135)&quot;,&quot;rgb(75, 140, 145)&quot;]]],&quot;height&quot;:[&quot;rc&quot;,[[40,20]]],&quot;y&quot;:[&quot;ri&quot;,[-20,120]],&quot;colorid&quot;:651,&quot;stroke-width&quot;:[&quot;rc&quot;,[[6,4]]],&quot;x&quot;:[&quot;ri&quot;,[-20,120]],&quot;nr_of_figures&quot;:56,&quot;opacity&quot;:[&quot;rc&quot;,[[0.6,0.8]]]}}</desc>\n",
       "  <!-- END Generator PARAMETERS in Json -->\n",
       "\n",
       "  <!-- Show outline of canvas using 'rect' element -->\n",
       "  <rect fill=\"sand\" height=\"100\" id=\"bg-00\" opacity=\".8\" stroke=\"white\" stroke-opacity=\".3\" stroke-width=\"0.1\" width=\"100\" x=\"0\" y=\"0\"/>\n",
       "\n",
       "<rect fill=\"rgb(50, 30, 40)\" height=\"40\" opacity=\"0.8\" stroke=\"rgb(150, 150, 30)\" stroke-linecap=\"round\" stroke-opacity=\"0.8\" stroke-width=\"6\" transform=\"rotate(0, 11.0, 133.0)\" width=\"10\" x=\"6\" y=\"113\"/>\n",
       "<rect fill=\"rgb(125, 90, 70)\" height=\"40\" opacity=\"0.6\" stroke=\"rgb(150, 90, 110)\" stroke-linecap=\"round\" stroke-opacity=\"0.8\" stroke-width=\"4\" transform=\"rotate(0, 12.0, 134.0)\" width=\"10\" x=\"7\" y=\"114\"/>\n",
       "<polygon fill=\"rgb(0, 30, 140)\" opacity=\"0.8\" points=\"12.00,77.00 32.00,77.00 22.00,94.32\" stroke=\"rgb(150, 60, 45)\" stroke-linecap=\"round\" stroke-opacity=\"0.8\" stroke-width=\"4\" transform=\"rotate(0, 17.0, 87.0)\"/>\n",
       "<line fill=\"rgb(100, 40, 135)\" opacity=\"0.6\" stroke=\"rgb(125, 140, 65)\" stroke-linecap=\"round\" stroke-opacity=\"0.6\" stroke-width=\"4\" x1=\"2\" x2=\"96\" y1=\"10\" y2=\"10\"/>\n",
       "<polygon fill=\"rgb(150, 50, 55)\" opacity=\"0.8\" points=\"27.00,95.00 67.00,95.00 47.00,129.64\" stroke=\"rgb(100, 80, 120)\" stroke-linecap=\"round\" stroke-opacity=\"0.6\" stroke-width=\"6\" transform=\"rotate(180, 32.0, 115.0)\"/>\n",
       "<line fill=\"rgb(50, 80, 35)\" opacity=\"0.6\" stroke=\"rgb(75, 150, 130)\" stroke-linecap=\"round\" stroke-opacity=\"0.8\" stroke-width=\"4\" x1=\"19\" x2=\"97\" y1=\"22\" y2=\"22\"/>\n",
       "<rect fill=\"rgb(25, 110, 115)\" height=\"40\" opacity=\"0.8\" stroke=\"rgb(150, 120, 70)\" stroke-linecap=\"round\" stroke-opacity=\"0.8\" stroke-width=\"6\" transform=\"rotate(180, 18.0, 32.0)\" width=\"10\" x=\"13\" y=\"12\"/>\n",
       "<rect fill=\"rgb(50, 80, 35)\" height=\"40\" opacity=\"0.6\" stroke=\"rgb(125, 160, 115)\" stroke-linecap=\"round\" stroke-opacity=\"0.8\" stroke-width=\"6\" transform=\"rotate(180, 6.0, 3.0)\" width=\"50\" x=\"-19\" y=\"-17\"/>\n",
       "<line fill=\"rgb(125, 90, 70)\" opacity=\"0.8\" stroke=\"rgb(125, 140, 65)\" stroke-linecap=\"round\" stroke-opacity=\"0.8\" stroke-width=\"6\" x1=\"46\" x2=\"96\" y1=\"34\" y2=\"34\"/>\n",
       "<rect fill=\"rgb(75, 140, 145)\" height=\"20\" opacity=\"0.8\" stroke=\"rgb(100, 50, 145)\" stroke-linecap=\"round\" stroke-opacity=\"0.8\" stroke-width=\"4\" transform=\"rotate(0, 112.0, 19.0)\" width=\"10\" x=\"107\" y=\"9\"/>\n",
       "<polygon fill=\"rgb(100, 80, 120)\" opacity=\"0.6\" points=\"64.00,119.00 104.00,119.00 84.00,153.64\" stroke=\"rgb(125, 90, 70)\" stroke-linecap=\"round\" stroke-opacity=\"0.8\" stroke-width=\"4\" transform=\"rotate(0, 69.0, 139.0)\"/>\n",
       "<rect fill=\"rgb(100, 10, 45)\" height=\"40\" opacity=\"0.8\" stroke=\"rgb(75, 90, 80)\" stroke-linecap=\"round\" stroke-opacity=\"0.6\" stroke-width=\"4\" transform=\"rotate(0, 133.0, 78.0)\" width=\"50\" x=\"108\" y=\"58\"/>\n",
       "<polygon fill=\"rgb(25, 70, 140)\" opacity=\"0.8\" points=\"96.00,36.00 116.00,36.00 106.00,53.32\" stroke=\"rgb(100, 10, 45)\" stroke-linecap=\"round\" stroke-opacity=\"0.6\" stroke-width=\"4\" transform=\"rotate(0, 121.0, 46.0)\"/>\n",
       "<rect fill=\"rgb(50, 80, 35)\" height=\"40\" opacity=\"0.6\" stroke=\"rgb(125, 140, 65)\" stroke-linecap=\"round\" stroke-opacity=\"0.8\" stroke-width=\"6\" transform=\"rotate(0, 22.0, 100.0)\" width=\"50\" x=\"-3\" y=\"80\"/>\n",
       "<rect fill=\"rgb(125, 20, 95)\" height=\"20\" opacity=\"0.6\" stroke=\"rgb(100, 150, 135)\" stroke-linecap=\"round\" stroke-opacity=\"0.8\" stroke-width=\"6\" transform=\"rotate(0, 41.0, 83.0)\" width=\"10\" x=\"36\" y=\"73\"/>\n",
       "<circle cx=\"118.00\" cy=\"54.00\" fill=\"rgb(0, 60, 125)\" opacity=\"0.6\" r=\"10.00\" stroke=\"rgb(100, 50, 145)\" stroke-linecap=\"round\" stroke-opacity=\"0.8\" stroke-width=\"6\"/>\n",
       "<line fill=\"rgb(125, 160, 115)\" opacity=\"0.6\" stroke=\"rgb(100, 10, 45)\" stroke-linecap=\"round\" stroke-opacity=\"0.8\" stroke-width=\"6\" x1=\"2\" x2=\"95\" y1=\"46\" y2=\"46\"/>\n",
       "<rect fill=\"rgb(150, 120, 70)\" height=\"20\" opacity=\"0.6\" stroke=\"rgb(150, 150, 30)\" stroke-linecap=\"round\" stroke-opacity=\"0.6\" stroke-width=\"4\" transform=\"rotate(0, 7.0, 60.0)\" width=\"10\" x=\"2\" y=\"50\"/>\n",
       "<rect fill=\"rgb(150, 80, 75)\" height=\"40\" opacity=\"0.6\" stroke=\"rgb(0, 50, 120)\" stroke-linecap=\"round\" stroke-opacity=\"0.6\" stroke-width=\"6\" transform=\"rotate(0, 46.0, 20.0)\" width=\"10\" x=\"41\" y=\"0\"/>\n",
       "<rect fill=\"rgb(25, 60, 10)\" height=\"20\" opacity=\"0.8\" stroke=\"rgb(125, 10, 65)\" stroke-linecap=\"round\" stroke-opacity=\"0.8\" stroke-width=\"6\" transform=\"rotate(180, 80.0, 38.0)\" width=\"50\" x=\"55\" y=\"28\"/>\n",
       "<line fill=\"rgb(50, 90, 35)\" opacity=\"0.8\" stroke=\"rgb(150, 60, 45)\" stroke-linecap=\"round\" stroke-opacity=\"0.8\" stroke-width=\"6\" x1=\"28\" x2=\"96\" y1=\"58\" y2=\"58\"/>\n",
       "<circle cx=\"56.00\" cy=\"48.00\" fill=\"rgb(125, 10, 75)\" opacity=\"0.8\" r=\"25.00\" stroke=\"rgb(100, 50, 145)\" stroke-linecap=\"round\" stroke-opacity=\"0.8\" stroke-width=\"4\"/>\n",
       "<polygon fill=\"rgb(125, 150, 120)\" opacity=\"0.6\" points=\"6.00,61.00 46.00,61.00 26.00,95.64\" stroke=\"rgb(150, 60, 45)\" stroke-linecap=\"round\" stroke-opacity=\"0.6\" stroke-width=\"4\" transform=\"rotate(180, 31.0, 81.0)\"/>\n",
       "<polygon fill=\"rgb(125, 10, 75)\" opacity=\"0.6\" points=\"51.00,29.00 91.00,29.00 71.00,63.64\" stroke=\"rgb(100, 140, 80)\" stroke-linecap=\"round\" stroke-opacity=\"0.8\" stroke-width=\"6\" transform=\"rotate(180, 56.0, 49.0)\"/>\n",
       "<polygon fill=\"rgb(75, 150, 130)\" opacity=\"0.6\" points=\"-11.00,47.00 9.00,47.00 -1.00,64.32\" stroke=\"rgb(25, 110, 115)\" stroke-linecap=\"round\" stroke-opacity=\"0.6\" stroke-width=\"4\" transform=\"rotate(0, -6.0, 57.0)\"/>\n",
       "<line fill=\"rgb(125, 160, 115)\" opacity=\"0.8\" stroke=\"rgb(125, 10, 75)\" stroke-linecap=\"round\" stroke-opacity=\"0.6\" stroke-width=\"6\" x1=\"46\" x2=\"95\" y1=\"70\" y2=\"70\"/>\n",
       "<polygon fill=\"rgb(125, 10, 65)\" opacity=\"0.8\" points=\"68.00,90.00 88.00,90.00 78.00,107.32\" stroke=\"rgb(25, 110, 115)\" stroke-linecap=\"round\" stroke-opacity=\"0.8\" stroke-width=\"4\" transform=\"rotate(0, 73.0, 100.0)\"/>\n",
       "<rect fill=\"rgb(150, 90, 110)\" height=\"20\" opacity=\"0.8\" stroke=\"rgb(0, 30, 140)\" stroke-linecap=\"round\" stroke-opacity=\"0.6\" stroke-width=\"4\" transform=\"rotate(180, 12.0, 120.0)\" width=\"50\" x=\"-13\" y=\"110\"/>\n",
       "<rect fill=\"rgb(50, 30, 100)\" height=\"20\" opacity=\"0.6\" stroke=\"rgb(150, 80, 75)\" stroke-linecap=\"round\" stroke-opacity=\"0.6\" stroke-width=\"6\" transform=\"rotate(0, 81.0, -5.0)\" width=\"10\" x=\"76\" y=\"-15\"/>\n",
       "<rect fill=\"rgb(150, 150, 30)\" height=\"40\" opacity=\"0.6\" stroke=\"rgb(25, 110, 115)\" stroke-linecap=\"round\" stroke-opacity=\"0.8\" stroke-width=\"6\" transform=\"rotate(0, 56.0, 46.0)\" width=\"10\" x=\"51\" y=\"26\"/>\n",
       "<rect fill=\"rgb(100, 50, 145)\" height=\"20\" opacity=\"0.6\" stroke=\"rgb(25, 60, 10)\" stroke-linecap=\"round\" stroke-opacity=\"0.8\" stroke-width=\"4\" transform=\"rotate(0, 57.0, 71.0)\" width=\"50\" x=\"32\" y=\"61\"/>\n",
       "<rect fill=\"rgb(25, 60, 10)\" height=\"40\" opacity=\"0.6\" stroke=\"rgb(50, 30, 100)\" stroke-linecap=\"round\" stroke-opacity=\"0.8\" stroke-width=\"6\" transform=\"rotate(0, 75.0, 12.0)\" width=\"50\" x=\"50\" y=\"-8\"/>\n",
       "<circle cx=\"108.00\" cy=\"93.00\" fill=\"rgb(75, 140, 145)\" opacity=\"0.6\" r=\"20.00\" stroke=\"rgb(25, 70, 140)\" stroke-linecap=\"round\" stroke-opacity=\"0.8\" stroke-width=\"6\"/>\n",
       "<line fill=\"rgb(125, 150, 120)\" opacity=\"0.8\" stroke=\"rgb(75, 140, 145)\" stroke-linecap=\"round\" stroke-opacity=\"0.6\" stroke-width=\"4\" x1=\"43\" x2=\"96\" y1=\"82\" y2=\"82\"/>\n",
       "<rect fill=\"rgb(75, 150, 130)\" height=\"40\" opacity=\"0.8\" stroke=\"rgb(50, 150, 55)\" stroke-linecap=\"round\" stroke-opacity=\"0.8\" stroke-width=\"4\" transform=\"rotate(0, 69.0, 31.0)\" width=\"10\" x=\"64\" y=\"11\"/>\n",
       "<rect fill=\"rgb(50, 30, 100)\" height=\"20\" opacity=\"0.6\" stroke=\"rgb(125, 150, 120)\" stroke-linecap=\"round\" stroke-opacity=\"0.6\" stroke-width=\"4\" transform=\"rotate(0, 16.0, 95.0)\" width=\"50\" x=\"-9\" y=\"85\"/>\n",
       "<line fill=\"rgb(150, 60, 45)\" opacity=\"0.6\" stroke=\"rgb(75, 150, 130)\" stroke-linecap=\"round\" stroke-opacity=\"0.6\" stroke-width=\"6\" x1=\"13\" x2=\"95\" y1=\"94\" y2=\"94\"/>\n",
       "<circle cx=\"33.00\" cy=\"111.00\" fill=\"rgb(0, 50, 120)\" opacity=\"0.8\" r=\"10.00\" stroke=\"rgb(125, 10, 75)\" stroke-linecap=\"round\" stroke-opacity=\"0.8\" stroke-width=\"4\"/>\n",
       "<rect fill=\"rgb(50, 90, 35)\" height=\"20\" opacity=\"0.8\" stroke=\"rgb(150, 50, 55)\" stroke-linecap=\"round\" stroke-opacity=\"0.6\" stroke-width=\"6\" transform=\"rotate(0, 102.0, 60.0)\" width=\"50\" x=\"77\" y=\"50\"/>\n",
       "<rect fill=\"rgb(150, 150, 30)\" height=\"20\" opacity=\"0.8\" stroke=\"rgb(150, 70, 40)\" stroke-linecap=\"round\" stroke-opacity=\"0.6\" stroke-width=\"6\" transform=\"rotate(180, 57.0, 4.0)\" width=\"50\" x=\"32\" y=\"-6\"/>\n",
       "<rect fill=\"rgb(75, 150, 130)\" height=\"40\" opacity=\"0.6\" stroke=\"rgb(75, 150, 130)\" stroke-linecap=\"round\" stroke-opacity=\"0.8\" stroke-width=\"6\" transform=\"rotate(0, 82.0, 7.0)\" width=\"50\" x=\"57\" y=\"-13\"/>\n",
       "<polygon fill=\"rgb(100, 80, 120)\" opacity=\"0.8\" points=\"116.00,26.00 136.00,26.00 126.00,43.32\" stroke=\"rgb(125, 160, 115)\" stroke-linecap=\"round\" stroke-opacity=\"0.8\" stroke-width=\"4\" transform=\"rotate(180, 141.0, 36.0)\"/>\n",
       "<polygon fill=\"rgb(150, 120, 70)\" opacity=\"0.8\" points=\"96.00,31.00 116.00,31.00 106.00,48.32\" stroke=\"rgb(0, 60, 125)\" stroke-linecap=\"round\" stroke-opacity=\"0.8\" stroke-width=\"4\" transform=\"rotate(0, 121.0, 41.0)\"/>\n",
       "<circle cx=\"81.00\" cy=\"22.00\" fill=\"rgb(125, 150, 120)\" opacity=\"0.6\" r=\"25.00\" stroke=\"rgb(150, 70, 40)\" stroke-linecap=\"round\" stroke-opacity=\"0.8\" stroke-width=\"6\"/>\n",
       "<line fill=\"rgb(50, 30, 100)\" opacity=\"0.6\" stroke=\"rgb(125, 10, 75)\" stroke-linecap=\"round\" stroke-opacity=\"0.8\" stroke-width=\"4\" x1=\"19\" x2=\"95\" y1=\"10\" y2=\"10\"/>\n",
       "<line fill=\"rgb(100, 80, 120)\" opacity=\"0.6\" stroke=\"rgb(100, 150, 135)\" stroke-linecap=\"round\" stroke-opacity=\"0.8\" stroke-width=\"6\" x1=\"46\" x2=\"95\" y1=\"22\" y2=\"22\"/>\n",
       "<rect fill=\"rgb(125, 150, 120)\" height=\"40\" opacity=\"0.6\" stroke=\"rgb(100, 80, 120)\" stroke-linecap=\"round\" stroke-opacity=\"0.6\" stroke-width=\"4\" transform=\"rotate(0, 110.0, 14.0)\" width=\"50\" x=\"85\" y=\"-6\"/>\n",
       "<line fill=\"rgb(50, 30, 100)\" opacity=\"0.6\" stroke=\"rgb(150, 120, 70)\" stroke-linecap=\"round\" stroke-opacity=\"0.6\" stroke-width=\"4\" x1=\"31\" x2=\"96\" y1=\"34\" y2=\"34\"/>\n",
       "<line fill=\"rgb(50, 80, 35)\" opacity=\"0.8\" stroke=\"rgb(150, 50, 55)\" stroke-linecap=\"round\" stroke-opacity=\"0.6\" stroke-width=\"4\" x1=\"46\" x2=\"95\" y1=\"46\" y2=\"46\"/>\n",
       "<rect fill=\"rgb(150, 90, 110)\" height=\"20\" opacity=\"0.6\" stroke=\"rgb(0, 50, 120)\" stroke-linecap=\"round\" stroke-opacity=\"0.6\" stroke-width=\"4\" transform=\"rotate(180, 53.0, 4.0)\" width=\"10\" x=\"48\" y=\"-6\"/>\n",
       "<line fill=\"rgb(50, 80, 35)\" opacity=\"0.6\" stroke=\"rgb(150, 90, 110)\" stroke-linecap=\"round\" stroke-opacity=\"0.6\" stroke-width=\"4\" x1=\"2\" x2=\"95\" y1=\"58\" y2=\"58\"/>\n",
       "<rect fill=\"rgb(0, 30, 140)\" height=\"20\" opacity=\"0.8\" stroke=\"rgb(25, 160, 65)\" stroke-linecap=\"round\" stroke-opacity=\"0.6\" stroke-width=\"6\" transform=\"rotate(180, 1.0, -2.0)\" width=\"10\" x=\"-4\" y=\"-12\"/>\n",
       "<circle cx=\"7.00\" cy=\"133.00\" fill=\"rgb(100, 40, 135)\" opacity=\"0.8\" r=\"25.00\" stroke=\"rgb(150, 150, 30)\" stroke-linecap=\"round\" stroke-opacity=\"0.8\" stroke-width=\"4\"/>\n",
       "<circle cx=\"110.00\" cy=\"44.00\" fill=\"rgb(125, 80, 125)\" opacity=\"0.6\" r=\"25.00\" stroke=\"rgb(150, 70, 40)\" stroke-linecap=\"round\" stroke-opacity=\"0.8\" stroke-width=\"6\"/>\n",
       "<polygon fill=\"rgb(50, 30, 100)\" opacity=\"0.6\" points=\"22.00,96.00 42.00,96.00 32.00,113.32\" stroke=\"rgb(150, 120, 70)\" stroke-linecap=\"round\" stroke-opacity=\"0.8\" stroke-width=\"6\" transform=\"rotate(0, 47.0, 106.0)\"/>\n",
       "<rect fill=\"rgb(25, 110, 115)\" height=\"40\" opacity=\"0.6\" stroke=\"rgb(100, 10, 45)\" stroke-linecap=\"round\" stroke-opacity=\"0.8\" stroke-width=\"6\" transform=\"rotate(0, 2.0, 128.0)\" width=\"10\" x=\"-3\" y=\"108\"/>\n",
       "</svg>"
      ],
      "text/plain": [
       "<IPython.core.display.SVG object>"
      ]
     },
     "execution_count": 123,
     "metadata": {},
     "output_type": "execute_result"
    }
   ],
   "source": [
    "color_id = 651\n",
    "nr_of_figures = 56\n",
    "# set the colors\n",
    "palette = get_palette(color_id)\n",
    "params ={}\n",
    "params['structure'] = 'RANDOM'\n",
    "params['colorid'] = color_id\n",
    "params['palette'] = rgb_list\n",
    "params['nr_of_figures'] = nr_of_figures\n",
    "figs_to_choice = ( 'rect' , 'polygon', 'circle',  'rect' , 'polygon', 'circle','rect' ,'rect' ,\n",
    "                  'line',) #'rect', 'circle', 'polygon',\n",
    "#params['figures'] = [random.choice(figs_to_choice) for i in range(nr_of_figures)]\n",
    "params['figures'] = ('rc', [figs_to_choice, ]) \n",
    "\n",
    "# params for creation of circles rects and polygons(triangles) \n",
    "params['x'] = ('ri', [-20, 120])\n",
    "params['y'] = ('ri', [-20, 120])\n",
    "params['height'] = ('rc', ([40, 20,   ], ))\n",
    "params['width'] = ('rc', ([50, 10, ], ))\n",
    "\n",
    "# params for line creation\n",
    "params['x1'] = ('ar', ([l[0] for l in lines], ))\n",
    "#params['y1'] = ('ar', ([l[1] for l in lines], ))\n",
    "params['x2'] = ('ar', ([l[2] for l in lines], ))  #('ri', [0, 100])\n",
    "#params['y2'] = ('ar', ([l[3] for l in lines], ))\n",
    "y1_list = list(range(10, 100, 12)) * int((nr_of_figures / 3))\n",
    "params['y1'] = ('ar', (y1_list, ))\n",
    "y2_list = copy.deepcopy(y1_list)\n",
    "params['y2'] = ('ar', (y2_list, ))\n",
    "\n",
    "# params for svg style \n",
    "params['fill'] = ('rc', [rgb_list[:],] )\n",
    "params['opacity'] = ('rc', [( .6, .8), ]) \n",
    "params['stroke'] = ('rc', [rgb_list[:],] )\n",
    "params['stroke-linecap'] = ('rc', ([\"round\",], ))\n",
    "params['stroke-opacity'] = ('rc', [( .8, .6), ])\n",
    "params['stroke-width'] = ('rc', [(6, 4  ), ])\n",
    "params['transform'] = ('rc', [[ 0, 180  ], ])\n",
    "\n",
    "svg = SVGPicture(params, pic_attribs=pic_attribs) \n",
    "SVG(svg.xml_to_string().replace('21in', '620px'))"
   ]
  },
  {
   "cell_type": "markdown",
   "metadata": {},
   "source": [
    "### RGB Colors by random"
   ]
  },
  {
   "cell_type": "code",
   "execution_count": 6,
   "metadata": {
    "collapsed": true
   },
   "outputs": [],
   "source": [
    "from random import randrange\n",
    "\n",
    "def rgb_rand(step=3):\n",
    "    return randrange(0, 255, step)\n",
    "\n",
    "def rgb2svg(r, g, b):\n",
    "    return 'rgb({}, {}, {})'.format(r, g, b)"
   ]
  },
  {
   "cell_type": "code",
   "execution_count": 79,
   "metadata": {
    "collapsed": false
   },
   "outputs": [
    {
     "data": {
      "text/html": [
       "<html><head>\n",
       "<h5>A random generated Colorpalette</b></h5>\n",
       "<style type=\"text/css\">\n",
       "    .circle { width:2%; padding:20px 20px;\n",
       "    margin:0 auto; border:0px solid #a1a1a1;\n",
       "    border-radius:20px; }\n",
       "</style>\n",
       "</head> <body><table border=\"1\">\n",
       "<tr>\n",
       "<td>\t<div class=\"circle\" style=\"background-color:rgb(0, 30, 140);\"></div></td>\n",
       "<td>\t<div class=\"circle\" style=\"background-color:rgb(125, 20, 95);\"></div></td>\n",
       "<td>\t<div class=\"circle\" style=\"background-color:rgb(125, 90, 70);\"></div></td>\n",
       "<td>\t<div class=\"circle\" style=\"background-color:rgb(50, 150, 55);\"></div></td>\n",
       "<td>\t<div class=\"circle\" style=\"background-color:rgb(50, 30, 100);\"></div></td>\n",
       "<td>\t<div class=\"circle\" style=\"background-color:rgb(150, 60, 45);\"></div></td>\n",
       "</tr>\n",
       "<tr>\n",
       "<td>\t<div class=\"circle\" style=\"background-color:rgb(25, 110, 115);\"></div></td>\n",
       "<td>\t<div class=\"circle\" style=\"background-color:rgb(150, 90, 110);\"></div></td>\n",
       "<td>\t<div class=\"circle\" style=\"background-color:rgb(100, 10, 45);\"></div></td>\n",
       "<td>\t<div class=\"circle\" style=\"background-color:rgb(150, 80, 75);\"></div></td>\n",
       "<td>\t<div class=\"circle\" style=\"background-color:rgb(125, 140, 65);\"></div></td>\n",
       "<td>\t<div class=\"circle\" style=\"background-color:rgb(50, 90, 35);\"></div></td>\n",
       "</tr>\n",
       "<tr>\n",
       "<td>\t<div class=\"circle\" style=\"background-color:rgb(125, 10, 75);\"></div></td>\n",
       "<td>\t<div class=\"circle\" style=\"background-color:rgb(150, 120, 70);\"></div></td>\n",
       "<td>\t<div class=\"circle\" style=\"background-color:rgb(75, 90, 80);\"></div></td>\n",
       "<td>\t<div class=\"circle\" style=\"background-color:rgb(25, 70, 140);\"></div></td>\n",
       "<td>\t<div class=\"circle\" style=\"background-color:rgb(0, 60, 125);\"></div></td>\n",
       "<td>\t<div class=\"circle\" style=\"background-color:rgb(125, 150, 120);\"></div></td>\n",
       "</tr>\n",
       "<tr>\n",
       "<td>\t<div class=\"circle\" style=\"background-color:rgb(100, 50, 145);\"></div></td>\n",
       "<td>\t<div class=\"circle\" style=\"background-color:rgb(25, 60, 10);\"></div></td>\n",
       "<td>\t<div class=\"circle\" style=\"background-color:rgb(150, 150, 30);\"></div></td>\n",
       "<td>\t<div class=\"circle\" style=\"background-color:rgb(125, 160, 115);\"></div></td>\n",
       "<td>\t<div class=\"circle\" style=\"background-color:rgb(50, 80, 35);\"></div></td>\n",
       "<td>\t<div class=\"circle\" style=\"background-color:rgb(125, 80, 125);\"></div></td>\n",
       "</tr>\n",
       "<tr>\n",
       "<td>\t<div class=\"circle\" style=\"background-color:rgb(0, 50, 120);\"></div></td>\n",
       "<td>\t<div class=\"circle\" style=\"background-color:rgb(100, 80, 120);\"></div></td>\n",
       "<td>\t<div class=\"circle\" style=\"background-color:rgb(125, 10, 65);\"></div></td>\n",
       "<td>\t<div class=\"circle\" style=\"background-color:rgb(100, 140, 80);\"></div></td>\n",
       "<td>\t<div class=\"circle\" style=\"background-color:rgb(50, 30, 40);\"></div></td>\n",
       "<td>\t<div class=\"circle\" style=\"background-color:rgb(100, 150, 135);\"></div></td>\n",
       "</tr>\n",
       "<tr>\n",
       "<td>\t<div class=\"circle\" style=\"background-color:rgb(75, 150, 130);\"></div></td>\n",
       "<td>\t<div class=\"circle\" style=\"background-color:rgb(150, 50, 55);\"></div></td>\n",
       "<td>\t<div class=\"circle\" style=\"background-color:rgb(25, 160, 65);\"></div></td>\n",
       "<td>\t<div class=\"circle\" style=\"background-color:rgb(150, 70, 40);\"></div></td>\n",
       "<td>\t<div class=\"circle\" style=\"background-color:rgb(100, 40, 135);\"></div></td>\n",
       "<td>\t<div class=\"circle\" style=\"background-color:rgb(75, 140, 145);\"></div></td>\n",
       "</tr>\n",
       " </table></body> </html>"
      ],
      "text/plain": [
       "<IPython.core.display.HTML object>"
      ]
     },
     "execution_count": 79,
     "metadata": {},
     "output_type": "execute_result"
    }
   ],
   "source": [
    "circles = []\n",
    "rgb_list = []\n",
    "for i in range(6):\n",
    "    circles.append('<tr>')\n",
    "    for j in range(6):\n",
    "        rgb_list.append(rgb2svg(randrange(0,175,25),\n",
    "                                randrange(10,170,10),randrange(10,150,5)))\n",
    "        s = '<td>' + circle.format(rgb_list[-1]) + '</td>'\n",
    "        circles.append(s)\n",
    "    circles.append('</tr>')\n",
    "html_text = header + '\\n'.join(circles) + tail\n",
    "\n",
    "HTML(html_text)"
   ]
  },
  {
   "cell_type": "code",
   "execution_count": 8,
   "metadata": {
    "collapsed": true
   },
   "outputs": [],
   "source": [
    "header = \"\"\"<html><head>\n",
    "<h5>A random generated Colorpalette</b></h5>\n",
    "<style type=\"text/css\">\n",
    "    .circle { width:2%; padding:20px 20px;\n",
    "    margin:0 auto; border:0px solid #a1a1a1;\n",
    "    border-radius:20px; }\n",
    "</style>\n",
    "</head> <body><table border=\"1\">\\n\"\"\" \n",
    "    \n",
    "tail = \"\\n </table></body> </html>\"\n",
    "    \n",
    "circle = '\\t<div class=\"circle\" style=\"background-color:{};\"></div>'"
   ]
  },
  {
   "cell_type": "markdown",
   "metadata": {},
   "source": [
    "## Save Picture To File"
   ]
  },
  {
   "cell_type": "code",
   "execution_count": 124,
   "metadata": {
    "collapsed": false
   },
   "outputs": [
    {
     "name": "stdout",
     "output_type": "stream",
     "text": [
      "20160811-0032-25245412\n"
     ]
    }
   ],
   "source": [
    "svg.to_file(zip = False)"
   ]
  },
  {
   "cell_type": "code",
   "execution_count": null,
   "metadata": {
    "collapsed": false
   },
   "outputs": [],
   "source": [
    "svg_list = svg.xml_to_string().split('\\n')"
   ]
  },
  {
   "cell_type": "code",
   "execution_count": null,
   "metadata": {
    "collapsed": false
   },
   "outputs": [],
   "source": [
    "for l in svg_list:\n",
    "    if l[1:5] == 'line': print(l)"
   ]
  },
  {
   "cell_type": "code",
   "execution_count": null,
   "metadata": {
    "collapsed": false
   },
   "outputs": [],
   "source": [
    "print(svg_list[10:25])"
   ]
  },
  {
   "cell_type": "code",
   "execution_count": null,
   "metadata": {
    "collapsed": true
   },
   "outputs": [],
   "source": [
    "print(json.dumps(params, indent = 2))"
   ]
  }
 ],
 "metadata": {
  "anaconda-cloud": {},
  "kernelspec": {
   "display_name": "Python [Root]",
   "language": "python",
   "name": "Python [Root]"
  },
  "language_info": {
   "codemirror_mode": {
    "name": "ipython",
    "version": 3
   },
   "file_extension": ".py",
   "mimetype": "text/x-python",
   "name": "python",
   "nbconvert_exporter": "python",
   "pygments_lexer": "ipython3",
   "version": "3.5.2"
  },
  "widgets": {
   "state": {},
   "version": "1.1.2"
  }
 },
 "nbformat": 4,
 "nbformat_minor": 0
}
