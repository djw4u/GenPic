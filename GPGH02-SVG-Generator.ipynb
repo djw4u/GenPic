{
 "cells": [
  {
   "cell_type": "markdown",
   "metadata": {},
   "source": [
    "## Overview of GenPic on GitHub\n",
    "\n",
    "GenPic ist eine Sammlung von IPython Notebooks zur Generierung und Verwaltung von Bildern im SVG Format.\n",
    "\n",
    "1. **GPGH01-Show-Palettes** stellt die Farbpaletten aus der Datei **color-palettes.data** da.\n",
    "\n",
    "2. **GPGH02-Picture-Generator** generiert parametergesteuert Bilder und speichert sie als *svgz* File.\n",
    "\n",
    "### History and Status - 20160810\n",
    "\n",
    "The notebook *GP02-Redesign* is the base of the new development under GitHub:\n",
    "\n",
    "- Functions and objects were taken to a module *gp-basics.py* ... as fare as possible or by dirty luke, code was not refectored as it should habe been done.\n",
    "\n",
    "- *GPGH02-SVG-Generator* is/was the new generator notebook under the *GitHub development*\n",
    "\n",
    "- **Line construction** is not implemented under *GP02-Rdesign* as it is under *GP02-Generator-old*. \n",
    "  Nevertheless line construction is implemented in *GPGH02-SVG-Generator*.\n",
    "  \n",
    "Actually improvements where made in the new files *attr_funcs.py and new_controls.ipynb* in this respository:\n",
    "\n",
    "- Partly Redesign of *params*  to controls structure and adopting this to code\n",
    "\n",
    "- Redesign is still running. Archivements should be integrated into the main stream.\n"
   ]
  },
  {
   "cell_type": "markdown",
   "metadata": {},
   "source": [
    "## Picture Generator"
   ]
  },
  {
   "cell_type": "markdown",
   "metadata": {},
   "source": [
    "GenPic nutzt verbreitete Standardkomponenten und Python Module.\n",
    "\n",
    "+ Daten werden in Dateien gespeichert\n",
    "    + Parameter und Farbpaletten werden in **Json** gespeichert.\n",
    "    + Die Bilddaten werden in **SVG/SVGZ** gespeichert. \n",
    "\n",
    "+ Templates werden mit **Jinja2** erstellt.\n",
    "\n",
    "+ Die XML Bearbeitung basiert auf **lxml**.\n",
    "\n",
    "+ **Numpy** wird zur Array und List Generierung genutzt"
   ]
  },
  {
   "cell_type": "markdown",
   "metadata": {},
   "source": [
    "### Roadmap\n",
    "\n",
    "1) Zunächst Ertellung guter, einfacher und ausbaufähiger Basis-Module:\n",
    "  + zur Lösung folgender Aufgaben:\n",
    "    * Datenspeicherung: Files und alternativ auch Datenbank\n",
    "    * Parameter-Steuerungskonzept und Aufbau\n",
    "    * Figuren und Bildergenerierung\n",
    "    * Farbpalettenverwaltung\n",
    "    * Parameterverwaltung\n",
    "  \n",
    "  + Strukturiert in Funktionen und Objekten\n",
    "  \n",
    "  + klar strukturierte und dokumentierte Json Nutzung für Parameter\n",
    "  \n",
    "  + Nutzung von Generics, Abstraktion ....\n",
    " \n",
    "  + **Alles gut progammiert, dokumentiert und testautomatisiert.**\n",
    "  \n",
    "2) Einfache ipynb's für Workflow:  \n",
    "  + Farbpalette auswählen, bzw. erstellen\n",
    "  + Komfortable und flexible SVG Generierung\n",
    "  + Generierung von HTML Katalogen\n",
    "  + *ggf. Bildermutationen etc. aus existierenden Bildern:*\n",
    "    - z.B. Reihenfolge oder Figuren ändern, Bilder mischen etc.\n",
    "  + Gut progammiert, dokumentiert und testautomatisiert.\n",
    "\n",
    "3) Basis zum Aufbau einer Community schaffen\n",
    "  + Nutzung und Darstellung in GitHub\n",
    "  + Erstellung eines Wicki (siehe d3.js) - auch/insbesondere durch User:\n",
    "    * Anleitungen z.B. für Konvertierung der Bilder in das png Format\n",
    "    * Diskussion zur Nutzung von Parametern und Farbpaletten für Bilder\n",
    "    * Einstellung und Erzeugung von Bildern\n",
    "    * Nutzung eigener *Picture Structures* und *Figures*\n",
    "\n",
    "#### Aktuelle to do's\n",
    "\n",
    "**Offen**:\n",
    "\n",
    "+ Bilder mit Gridmuster können nicht erstellt werden \n",
    "  \n",
    "+ gp_basics.py ist nicht ausreichend dokumentiert\n",
    "\n",
    "**Erledigt**:"
   ]
  },
  {
   "cell_type": "markdown",
   "metadata": {},
   "source": [
    "### Import Modules and Constants"
   ]
  },
  {
   "cell_type": "code",
   "execution_count": 1,
   "metadata": {
    "collapsed": false,
    "scrolled": true
   },
   "outputs": [],
   "source": [
    "from gp_basics import *\n",
    "\n",
    "import copy\n",
    "from IPython.display import HTML, SVG"
   ]
  },
  {
   "cell_type": "code",
   "execution_count": 126,
   "metadata": {
    "collapsed": false
   },
   "outputs": [],
   "source": [
    "from random import randrange, choice\n",
    "\n",
    "def rgb_rand(step=3):\n",
    "    return randrange(0, 255, step)\n",
    "\n",
    "def rgb2hex(r,g,b):\n",
    "    return ('#%02x%02x%02x' % (r, g, b)).upper()\n",
    "\n",
    "def rgb2svg(r, g, b):\n",
    "    return 'rgb({}, {}, {})'.format(r, g, b)"
   ]
  },
  {
   "cell_type": "markdown",
   "metadata": {},
   "source": [
    "###  Line Construction"
   ]
  },
  {
   "cell_type": "code",
   "execution_count": 2,
   "metadata": {
    "collapsed": false
   },
   "outputs": [],
   "source": [
    "nr_of_origins = 43\n",
    "nr_of_lines = 2300\n",
    "\n",
    "origins_x_area = (0, 100)\n",
    "origins_y_area = (0, 100)\n",
    "\n",
    "target_x_area = (0, 100)\n",
    "target_y_area = (0, 100)\n",
    "\n",
    "# Define starting points for the lines\n",
    "origins =[]\n",
    "targets =[]\n",
    "for i in range(nr_of_origins):\n",
    "    origins.append((randint(origins_x_area[0], origins_x_area[1]),\n",
    "                    randint(origins_y_area[0], origins_y_area[1])))\n",
    "for i in range(nr_of_lines):\n",
    "    targets.append((randint(target_x_area[0], target_x_area[1]),\n",
    "                    randint(target_y_area[0], target_y_area[1])))\n",
    "\n",
    "# Define lines\n",
    "lines =[]\n",
    "for i in range(nr_of_lines):\n",
    "    p1 = choice(origins)\n",
    "    p2 = choice(targets)\n",
    "    lines.append((p1[0], p1[1], p2[0], p2[1]))"
   ]
  },
  {
   "cell_type": "markdown",
   "metadata": {},
   "source": [
    "## Produce Pictures"
   ]
  },
  {
   "cell_type": "code",
   "execution_count": 3,
   "metadata": {
    "collapsed": true
   },
   "outputs": [],
   "source": [
    "# Define basic picture attributtes for the pictures SVG template  like size, background ...\n",
    "pic_attribs = {'svg_width':'21in', 'svg_height':'21in',\n",
    "        'w_points':'100', 'h_points':'100',\n",
    "        'fill':'#32A0A5', \n",
    "        'opacity':'.3',\n",
    "        'stroke':'#32A0A5',\n",
    "        'stroke_opacity':'.3', \n",
    "        'stroke_width':'0.1'}"
   ]
  },
  {
   "cell_type": "code",
   "execution_count": 486,
   "metadata": {
    "collapsed": false
   },
   "outputs": [
    {
     "name": "stdout",
     "output_type": "stream",
     "text": [
      "GRID\n"
     ]
    },
    {
     "data": {
      "image/svg+xml": [
       "<svg height=\"600px\" version=\"1.2\" viewBox=\"0 0 100 100\" width=\"600px\" xmlns=\"http://www.w3.org/2000/svg\" xmlns:xlink=\"http://www.w3.org/1999/xlink/\">\n",
       "\n",
       "  <desc>Picture by J. Wendt</desc>\n",
       "  <!-- START Generator PARAMETERS in Json -->\n",
       "  <desc>{&quot;params&quot;:{&quot;fill&quot;:[&quot;rc&quot;,[[&quot;#0D5F17&quot;,&quot;#8F8100&quot;,&quot;#340AA1&quot;,&quot;#9CD65C&quot;,&quot;#C3B4B8&quot;,&quot;#8270CF&quot;,&quot;#A9C5E6&quot;,&quot;#D0A32E&quot;,&quot;#0DD645&quot;,&quot;#75F82E&quot;,&quot;#C3922E&quot;,&quot;#821BCF&quot;,&quot;#8F5F17&quot;,&quot;#8F8173&quot;,&quot;#9C1BB8&quot;,&quot;#4EA38A&quot;]]],&quot;stroke-opacity&quot;:[&quot;rc&quot;,[[0.2,0.3,1]]],&quot;columns&quot;:12,&quot;structure&quot;:&quot;GRID&quot;,&quot;figures&quot;:[&quot;rc&quot;,[[&quot;polygon&quot;,&quot;circle&quot;,&quot;rect&quot;]]],&quot;nr_of_figures&quot;:144,&quot;rows&quot;:12,&quot;palette&quot;:[&quot;#0D5F17&quot;,&quot;#8F8100&quot;,&quot;#340AA1&quot;,&quot;#9CD65C&quot;,&quot;#C3B4B8&quot;,&quot;#8270CF&quot;,&quot;#A9C5E6&quot;,&quot;#D0A32E&quot;,&quot;#0DD645&quot;,&quot;#75F82E&quot;,&quot;#C3922E&quot;,&quot;#821BCF&quot;,&quot;#8F5F17&quot;,&quot;#8F8173&quot;,&quot;#9C1BB8&quot;,&quot;#4EA38A&quot;],&quot;transform&quot;:[&quot;rr&quot;,[0,361,90]]}}</desc>\n",
       "  <!-- END Generator PARAMETERS in Json -->\n",
       "\n",
       "  <!-- Show outline of canvas using 'rect' element -->\n",
       "  <rect fill=\"#C3922E\" height=\"100\" id=\"bg-00\" opacity=\".3\" stroke=\"#32A0A5\" stroke-opacity=\".3\" stroke-width=\"0.1\" width=\"100\" x=\"0\" y=\"0\"/>\n",
       "\n",
       "<polygon fill=\"#9C1BB8\" points=\"0.00,0.00 8.33,0.00 4.17,7.21\" stroke-opacity=\"0.3\" transform=\"rotate(90, 4.165, 4.165)\"/>\n",
       "<circle cx=\"4.17\" cy=\"12.50\" fill=\"#9C1BB8\" r=\"4.17\" stroke-opacity=\"0.3\"/>\n",
       "<rect fill=\"#8F8173\" height=\"8.33\" stroke-opacity=\"1\" transform=\"rotate(180, 4.165, 20.835)\" width=\"8.33\" x=\"0.0\" y=\"16.67\"/>\n",
       "<circle cx=\"4.17\" cy=\"29.17\" fill=\"#9C1BB8\" r=\"4.17\" stroke-opacity=\"0.2\"/>\n",
       "<circle cx=\"4.17\" cy=\"37.50\" fill=\"#0DD645\" r=\"4.17\" stroke-opacity=\"1\"/>\n",
       "<circle cx=\"4.17\" cy=\"45.84\" fill=\"#C3B4B8\" r=\"4.17\" stroke-opacity=\"1\"/>\n",
       "<circle cx=\"4.17\" cy=\"54.17\" fill=\"#821BCF\" r=\"4.17\" stroke-opacity=\"0.3\"/>\n",
       "<polygon fill=\"#8F8100\" points=\"0.00,58.33 8.33,58.33 4.17,65.54\" stroke-opacity=\"1\" transform=\"rotate(360, 4.165, 62.495)\"/>\n",
       "<rect fill=\"#8F5F17\" height=\"8.33\" stroke-opacity=\"1\" transform=\"rotate(360, 4.165, 70.835)\" width=\"8.33\" x=\"0.0\" y=\"66.67\"/>\n",
       "<polygon fill=\"#0DD645\" points=\"0.00,75.00 8.33,75.00 4.17,82.21\" stroke-opacity=\"0.3\" transform=\"rotate(180, 4.165, 79.165)\"/>\n",
       "<polygon fill=\"#340AA1\" points=\"0.00,83.33 8.33,83.33 4.17,90.54\" stroke-opacity=\"0.3\" transform=\"rotate(0, 4.165, 87.495)\"/>\n",
       "<circle cx=\"4.17\" cy=\"95.84\" fill=\"#8270CF\" r=\"4.17\" stroke-opacity=\"1\"/>\n",
       "<rect fill=\"#821BCF\" height=\"8.33\" stroke-opacity=\"1\" transform=\"rotate(360, 12.495, 4.165)\" width=\"8.33\" x=\"8.33\" y=\"0.0\"/>\n",
       "<rect fill=\"#D0A32E\" height=\"8.33\" stroke-opacity=\"0.2\" transform=\"rotate(90, 12.495, 12.495)\" width=\"8.33\" x=\"8.33\" y=\"8.33\"/>\n",
       "<polygon fill=\"#75F82E\" points=\"8.33,16.67 16.66,16.67 12.50,23.88\" stroke-opacity=\"0.2\" transform=\"rotate(0, 12.495, 20.835)\"/>\n",
       "<polygon fill=\"#8F8100\" points=\"8.33,25.00 16.66,25.00 12.50,32.21\" stroke-opacity=\"0.2\" transform=\"rotate(0, 12.495, 29.165)\"/>\n",
       "<polygon fill=\"#A9C5E6\" points=\"8.33,33.33 16.66,33.33 12.50,40.54\" stroke-opacity=\"1\" transform=\"rotate(180, 12.495, 37.495)\"/>\n",
       "<rect fill=\"#821BCF\" height=\"8.33\" stroke-opacity=\"0.2\" transform=\"rotate(0, 12.495, 45.835)\" width=\"8.33\" x=\"8.33\" y=\"41.67\"/>\n",
       "<rect fill=\"#0DD645\" height=\"8.33\" stroke-opacity=\"0.2\" transform=\"rotate(270, 12.495, 54.165)\" width=\"8.33\" x=\"8.33\" y=\"50.0\"/>\n",
       "<polygon fill=\"#821BCF\" points=\"8.33,58.33 16.66,58.33 12.50,65.54\" stroke-opacity=\"0.2\" transform=\"rotate(180, 12.495, 62.495)\"/>\n",
       "<rect fill=\"#C3922E\" height=\"8.33\" stroke-opacity=\"0.2\" transform=\"rotate(270, 12.495, 70.835)\" width=\"8.33\" x=\"8.33\" y=\"66.67\"/>\n",
       "<circle cx=\"12.50\" cy=\"79.17\" fill=\"#D0A32E\" r=\"4.17\" stroke-opacity=\"0.3\"/>\n",
       "<polygon fill=\"#A9C5E6\" points=\"8.33,83.33 16.66,83.33 12.50,90.54\" stroke-opacity=\"0.2\" transform=\"rotate(0, 12.495, 87.495)\"/>\n",
       "<rect fill=\"#9C1BB8\" height=\"8.33\" stroke-opacity=\"0.3\" transform=\"rotate(180, 12.495, 95.835)\" width=\"8.33\" x=\"8.33\" y=\"91.67\"/>\n",
       "<rect fill=\"#9CD65C\" height=\"8.33\" stroke-opacity=\"0.2\" transform=\"rotate(360, 20.835, 4.165)\" width=\"8.33\" x=\"16.67\" y=\"0.0\"/>\n",
       "<polygon fill=\"#C3922E\" points=\"16.67,8.33 25.00,8.33 20.84,15.54\" stroke-opacity=\"0.3\" transform=\"rotate(180, 20.835, 12.495)\"/>\n",
       "<rect fill=\"#340AA1\" height=\"8.33\" stroke-opacity=\"0.2\" transform=\"rotate(0, 20.835, 20.835)\" width=\"8.33\" x=\"16.67\" y=\"16.67\"/>\n",
       "<polygon fill=\"#8270CF\" points=\"16.67,25.00 25.00,25.00 20.84,32.21\" stroke-opacity=\"0.2\" transform=\"rotate(360, 20.835, 29.165)\"/>\n",
       "<circle cx=\"20.84\" cy=\"37.50\" fill=\"#0D5F17\" r=\"4.17\" stroke-opacity=\"1\"/>\n",
       "<circle cx=\"20.84\" cy=\"45.84\" fill=\"#340AA1\" r=\"4.17\" stroke-opacity=\"0.3\"/>\n",
       "<polygon fill=\"#D0A32E\" points=\"16.67,50.00 25.00,50.00 20.84,57.21\" stroke-opacity=\"1\" transform=\"rotate(0, 20.835, 54.165)\"/>\n",
       "<rect fill=\"#8F5F17\" height=\"8.33\" stroke-opacity=\"0.2\" transform=\"rotate(270, 20.835, 62.495)\" width=\"8.33\" x=\"16.67\" y=\"58.33\"/>\n",
       "<polygon fill=\"#9CD65C\" points=\"16.67,66.67 25.00,66.67 20.84,73.88\" stroke-opacity=\"0.2\" transform=\"rotate(90, 20.835, 70.835)\"/>\n",
       "<polygon fill=\"#8F8100\" points=\"16.67,75.00 25.00,75.00 20.84,82.21\" stroke-opacity=\"1\" transform=\"rotate(90, 20.835, 79.165)\"/>\n",
       "<rect fill=\"#8270CF\" height=\"8.33\" stroke-opacity=\"1\" transform=\"rotate(270, 20.835, 87.495)\" width=\"8.33\" x=\"16.67\" y=\"83.33\"/>\n",
       "<rect fill=\"#8F8173\" height=\"8.33\" stroke-opacity=\"1\" transform=\"rotate(360, 20.835, 95.835)\" width=\"8.33\" x=\"16.67\" y=\"91.67\"/>\n",
       "<rect fill=\"#D0A32E\" height=\"8.33\" stroke-opacity=\"0.3\" transform=\"rotate(360, 29.165, 4.165)\" width=\"8.33\" x=\"25.0\" y=\"0.0\"/>\n",
       "<rect fill=\"#75F82E\" height=\"8.33\" stroke-opacity=\"0.3\" transform=\"rotate(90, 29.165, 12.495)\" width=\"8.33\" x=\"25.0\" y=\"8.33\"/>\n",
       "<rect fill=\"#A9C5E6\" height=\"8.33\" stroke-opacity=\"1\" transform=\"rotate(180, 29.165, 20.835)\" width=\"8.33\" x=\"25.0\" y=\"16.67\"/>\n",
       "<circle cx=\"29.17\" cy=\"29.17\" fill=\"#9CD65C\" r=\"4.17\" stroke-opacity=\"0.3\"/>\n",
       "<circle cx=\"29.17\" cy=\"37.50\" fill=\"#75F82E\" r=\"4.17\" stroke-opacity=\"1\"/>\n",
       "<rect fill=\"#0DD645\" height=\"8.33\" stroke-opacity=\"1\" transform=\"rotate(180, 29.165, 45.835)\" width=\"8.33\" x=\"25.0\" y=\"41.67\"/>\n",
       "<rect fill=\"#C3922E\" height=\"8.33\" stroke-opacity=\"1\" transform=\"rotate(360, 29.165, 54.165)\" width=\"8.33\" x=\"25.0\" y=\"50.0\"/>\n",
       "<circle cx=\"29.17\" cy=\"62.50\" fill=\"#75F82E\" r=\"4.17\" stroke-opacity=\"0.3\"/>\n",
       "<circle cx=\"29.17\" cy=\"70.84\" fill=\"#D0A32E\" r=\"4.17\" stroke-opacity=\"1\"/>\n",
       "<rect fill=\"#C3922E\" height=\"8.33\" stroke-opacity=\"1\" transform=\"rotate(0, 29.165, 79.165)\" width=\"8.33\" x=\"25.0\" y=\"75.0\"/>\n",
       "<circle cx=\"29.17\" cy=\"87.50\" fill=\"#8F5F17\" r=\"4.17\" stroke-opacity=\"0.3\"/>\n",
       "<circle cx=\"29.17\" cy=\"95.84\" fill=\"#0DD645\" r=\"4.17\" stroke-opacity=\"0.2\"/>\n",
       "<polygon fill=\"#D0A32E\" points=\"33.33,0.00 41.66,0.00 37.49,7.21\" stroke-opacity=\"0.2\" transform=\"rotate(270, 37.495, 4.165)\"/>\n",
       "<rect fill=\"#9C1BB8\" height=\"8.33\" stroke-opacity=\"0.3\" transform=\"rotate(180, 37.495, 12.495)\" width=\"8.33\" x=\"33.33\" y=\"8.33\"/>\n",
       "<circle cx=\"37.50\" cy=\"20.84\" fill=\"#8F8100\" r=\"4.17\" stroke-opacity=\"1\"/>\n",
       "<circle cx=\"37.50\" cy=\"29.17\" fill=\"#8F8100\" r=\"4.17\" stroke-opacity=\"1\"/>\n",
       "<circle cx=\"37.50\" cy=\"37.50\" fill=\"#9C1BB8\" r=\"4.17\" stroke-opacity=\"1\"/>\n",
       "<polygon fill=\"#C3B4B8\" points=\"33.33,41.67 41.66,41.67 37.49,48.88\" stroke-opacity=\"0.2\" transform=\"rotate(270, 37.495, 45.835)\"/>\n",
       "<polygon fill=\"#8F8173\" points=\"33.33,50.00 41.66,50.00 37.49,57.21\" stroke-opacity=\"0.3\" transform=\"rotate(90, 37.495, 54.165)\"/>\n",
       "<polygon fill=\"#821BCF\" points=\"33.33,58.33 41.66,58.33 37.49,65.54\" stroke-opacity=\"0.3\" transform=\"rotate(90, 37.495, 62.495)\"/>\n",
       "<polygon fill=\"#9C1BB8\" points=\"33.33,66.67 41.66,66.67 37.49,73.88\" stroke-opacity=\"0.3\" transform=\"rotate(90, 37.495, 70.835)\"/>\n",
       "<polygon fill=\"#C3B4B8\" points=\"33.33,75.00 41.66,75.00 37.49,82.21\" stroke-opacity=\"0.2\" transform=\"rotate(0, 37.495, 79.165)\"/>\n",
       "<polygon fill=\"#75F82E\" points=\"33.33,83.33 41.66,83.33 37.49,90.54\" stroke-opacity=\"0.3\" transform=\"rotate(360, 37.495, 87.495)\"/>\n",
       "<polygon fill=\"#0DD645\" points=\"33.33,91.67 41.66,91.67 37.49,98.88\" stroke-opacity=\"1\" transform=\"rotate(360, 37.495, 95.835)\"/>\n",
       "<polygon fill=\"#4EA38A\" points=\"41.67,0.00 50.00,0.00 45.84,7.21\" stroke-opacity=\"0.2\" transform=\"rotate(360, 45.835, 4.165)\"/>\n",
       "<circle cx=\"45.84\" cy=\"12.50\" fill=\"#C3922E\" r=\"4.17\" stroke-opacity=\"0.3\"/>\n",
       "<rect fill=\"#9C1BB8\" height=\"8.33\" stroke-opacity=\"0.3\" transform=\"rotate(180, 45.835, 20.835)\" width=\"8.33\" x=\"41.67\" y=\"16.67\"/>\n",
       "<polygon fill=\"#821BCF\" points=\"41.67,25.00 50.00,25.00 45.84,32.21\" stroke-opacity=\"0.3\" transform=\"rotate(270, 45.835, 29.165)\"/>\n",
       "<polygon fill=\"#4EA38A\" points=\"41.67,33.33 50.00,33.33 45.84,40.54\" stroke-opacity=\"0.2\" transform=\"rotate(360, 45.835, 37.495)\"/>\n",
       "<polygon fill=\"#0DD645\" points=\"41.67,41.67 50.00,41.67 45.84,48.88\" stroke-opacity=\"1\" transform=\"rotate(90, 45.835, 45.835)\"/>\n",
       "<polygon fill=\"#821BCF\" points=\"41.67,50.00 50.00,50.00 45.84,57.21\" stroke-opacity=\"0.2\" transform=\"rotate(360, 45.835, 54.165)\"/>\n",
       "<polygon fill=\"#8270CF\" points=\"41.67,58.33 50.00,58.33 45.84,65.54\" stroke-opacity=\"1\" transform=\"rotate(180, 45.835, 62.495)\"/>\n",
       "<circle cx=\"45.84\" cy=\"70.84\" fill=\"#C3922E\" r=\"4.17\" stroke-opacity=\"0.3\"/>\n",
       "<rect fill=\"#D0A32E\" height=\"8.33\" stroke-opacity=\"0.2\" transform=\"rotate(270, 45.835, 79.165)\" width=\"8.33\" x=\"41.67\" y=\"75.0\"/>\n",
       "<rect fill=\"#8270CF\" height=\"8.33\" stroke-opacity=\"0.3\" transform=\"rotate(90, 45.835, 87.495)\" width=\"8.33\" x=\"41.67\" y=\"83.33\"/>\n",
       "<polygon fill=\"#75F82E\" points=\"41.67,91.67 50.00,91.67 45.84,98.88\" stroke-opacity=\"0.3\" transform=\"rotate(360, 45.835, 95.835)\"/>\n",
       "<circle cx=\"54.17\" cy=\"4.17\" fill=\"#C3B4B8\" r=\"4.17\" stroke-opacity=\"0.3\"/>\n",
       "<circle cx=\"54.17\" cy=\"12.50\" fill=\"#8F8173\" r=\"4.17\" stroke-opacity=\"0.2\"/>\n",
       "<rect fill=\"#8F8173\" height=\"8.33\" stroke-opacity=\"1\" transform=\"rotate(360, 54.165, 20.835)\" width=\"8.33\" x=\"50.0\" y=\"16.67\"/>\n",
       "<rect fill=\"#8270CF\" height=\"8.33\" stroke-opacity=\"0.3\" transform=\"rotate(0, 54.165, 29.165)\" width=\"8.33\" x=\"50.0\" y=\"25.0\"/>\n",
       "<polygon fill=\"#8F8100\" points=\"50.00,33.33 58.33,33.33 54.16,40.54\" stroke-opacity=\"0.2\" transform=\"rotate(90, 54.165, 37.495)\"/>\n",
       "<circle cx=\"54.17\" cy=\"45.84\" fill=\"#4EA38A\" r=\"4.17\" stroke-opacity=\"0.3\"/>\n",
       "<circle cx=\"54.17\" cy=\"54.17\" fill=\"#C3922E\" r=\"4.17\" stroke-opacity=\"1\"/>\n",
       "<rect fill=\"#9C1BB8\" height=\"8.33\" stroke-opacity=\"0.3\" transform=\"rotate(360, 54.165, 62.495)\" width=\"8.33\" x=\"50.0\" y=\"58.33\"/>\n",
       "<circle cx=\"54.17\" cy=\"70.84\" fill=\"#0D5F17\" r=\"4.17\" stroke-opacity=\"0.2\"/>\n",
       "<polygon fill=\"#8F8173\" points=\"50.00,75.00 58.33,75.00 54.16,82.21\" stroke-opacity=\"0.3\" transform=\"rotate(0, 54.165, 79.165)\"/>\n",
       "<rect fill=\"#9CD65C\" height=\"8.33\" stroke-opacity=\"1\" transform=\"rotate(360, 54.165, 87.495)\" width=\"8.33\" x=\"50.0\" y=\"83.33\"/>\n",
       "<circle cx=\"54.17\" cy=\"95.84\" fill=\"#8270CF\" r=\"4.17\" stroke-opacity=\"1\"/>\n",
       "<rect fill=\"#821BCF\" height=\"8.33\" stroke-opacity=\"0.3\" transform=\"rotate(180, 62.495, 4.165)\" width=\"8.33\" x=\"58.33\" y=\"0.0\"/>\n",
       "<rect fill=\"#8F8173\" height=\"8.33\" stroke-opacity=\"0.2\" transform=\"rotate(0, 62.495, 12.495)\" width=\"8.33\" x=\"58.33\" y=\"8.33\"/>\n",
       "<circle cx=\"62.50\" cy=\"20.84\" fill=\"#C3B4B8\" r=\"4.17\" stroke-opacity=\"0.2\"/>\n",
       "<polygon fill=\"#8F8173\" points=\"58.33,25.00 66.66,25.00 62.49,32.21\" stroke-opacity=\"0.2\" transform=\"rotate(360, 62.495, 29.165)\"/>\n",
       "<rect fill=\"#8F8100\" height=\"8.33\" stroke-opacity=\"0.3\" transform=\"rotate(180, 62.495, 37.495)\" width=\"8.33\" x=\"58.33\" y=\"33.33\"/>\n",
       "<polygon fill=\"#9CD65C\" points=\"58.33,41.67 66.66,41.67 62.49,48.88\" stroke-opacity=\"1\" transform=\"rotate(90, 62.495, 45.835)\"/>\n",
       "<rect fill=\"#9CD65C\" height=\"8.33\" stroke-opacity=\"1\" transform=\"rotate(90, 62.495, 54.165)\" width=\"8.33\" x=\"58.33\" y=\"50.0\"/>\n",
       "<polygon fill=\"#75F82E\" points=\"58.33,58.33 66.66,58.33 62.49,65.54\" stroke-opacity=\"0.3\" transform=\"rotate(90, 62.495, 62.495)\"/>\n",
       "<polygon fill=\"#C3B4B8\" points=\"58.33,66.67 66.66,66.67 62.49,73.88\" stroke-opacity=\"1\" transform=\"rotate(0, 62.495, 70.835)\"/>\n",
       "<polygon fill=\"#9CD65C\" points=\"58.33,75.00 66.66,75.00 62.49,82.21\" stroke-opacity=\"1\" transform=\"rotate(360, 62.495, 79.165)\"/>\n",
       "<polygon fill=\"#8F8100\" points=\"58.33,83.33 66.66,83.33 62.49,90.54\" stroke-opacity=\"0.3\" transform=\"rotate(0, 62.495, 87.495)\"/>\n",
       "<rect fill=\"#D0A32E\" height=\"8.33\" stroke-opacity=\"0.2\" transform=\"rotate(90, 62.495, 95.835)\" width=\"8.33\" x=\"58.33\" y=\"91.67\"/>\n",
       "<circle cx=\"70.84\" cy=\"4.17\" fill=\"#8F8173\" r=\"4.17\" stroke-opacity=\"1\"/>\n",
       "<polygon fill=\"#340AA1\" points=\"66.67,8.33 75.00,8.33 70.84,15.54\" stroke-opacity=\"0.2\" transform=\"rotate(360, 70.835, 12.495)\"/>\n",
       "<polygon fill=\"#9CD65C\" points=\"66.67,16.67 75.00,16.67 70.84,23.88\" stroke-opacity=\"0.3\" transform=\"rotate(270, 70.835, 20.835)\"/>\n",
       "<circle cx=\"70.84\" cy=\"29.17\" fill=\"#821BCF\" r=\"4.17\" stroke-opacity=\"1\"/>\n",
       "<polygon fill=\"#8F8100\" points=\"66.67,33.33 75.00,33.33 70.84,40.54\" stroke-opacity=\"0.3\" transform=\"rotate(0, 70.835, 37.495)\"/>\n",
       "<polygon fill=\"#8F5F17\" points=\"66.67,41.67 75.00,41.67 70.84,48.88\" stroke-opacity=\"0.3\" transform=\"rotate(270, 70.835, 45.835)\"/>\n",
       "<polygon fill=\"#75F82E\" points=\"66.67,50.00 75.00,50.00 70.84,57.21\" stroke-opacity=\"0.2\" transform=\"rotate(360, 70.835, 54.165)\"/>\n",
       "<polygon fill=\"#821BCF\" points=\"66.67,58.33 75.00,58.33 70.84,65.54\" stroke-opacity=\"0.2\" transform=\"rotate(270, 70.835, 62.495)\"/>\n",
       "<polygon fill=\"#9CD65C\" points=\"66.67,66.67 75.00,66.67 70.84,73.88\" stroke-opacity=\"1\" transform=\"rotate(90, 70.835, 70.835)\"/>\n",
       "<rect fill=\"#821BCF\" height=\"8.33\" stroke-opacity=\"0.2\" transform=\"rotate(90, 70.835, 79.165)\" width=\"8.33\" x=\"66.67\" y=\"75.0\"/>\n",
       "<rect fill=\"#0DD645\" height=\"8.33\" stroke-opacity=\"0.2\" transform=\"rotate(0, 70.835, 87.495)\" width=\"8.33\" x=\"66.67\" y=\"83.33\"/>\n",
       "<polygon fill=\"#0D5F17\" points=\"66.67,91.67 75.00,91.67 70.84,98.88\" stroke-opacity=\"0.2\" transform=\"rotate(270, 70.835, 95.835)\"/>\n",
       "<polygon fill=\"#9C1BB8\" points=\"75.00,0.00 83.33,0.00 79.17,7.21\" stroke-opacity=\"1\" transform=\"rotate(270, 79.165, 4.165)\"/>\n",
       "<polygon fill=\"#340AA1\" points=\"75.00,8.33 83.33,8.33 79.17,15.54\" stroke-opacity=\"0.3\" transform=\"rotate(180, 79.165, 12.495)\"/>\n",
       "<circle cx=\"79.17\" cy=\"20.84\" fill=\"#0DD645\" r=\"4.17\" stroke-opacity=\"0.2\"/>\n",
       "<rect fill=\"#9C1BB8\" height=\"8.33\" stroke-opacity=\"0.2\" transform=\"rotate(90, 79.165, 29.165)\" width=\"8.33\" x=\"75.0\" y=\"25.0\"/>\n",
       "<polygon fill=\"#4EA38A\" points=\"75.00,33.33 83.33,33.33 79.17,40.54\" stroke-opacity=\"0.3\" transform=\"rotate(270, 79.165, 37.495)\"/>\n",
       "<circle cx=\"79.17\" cy=\"45.84\" fill=\"#9C1BB8\" r=\"4.17\" stroke-opacity=\"0.3\"/>\n",
       "<polygon fill=\"#9CD65C\" points=\"75.00,50.00 83.33,50.00 79.17,57.21\" stroke-opacity=\"0.2\" transform=\"rotate(90, 79.165, 54.165)\"/>\n",
       "<rect fill=\"#0D5F17\" height=\"8.33\" stroke-opacity=\"1\" transform=\"rotate(0, 79.165, 62.495)\" width=\"8.33\" x=\"75.0\" y=\"58.33\"/>\n",
       "<rect fill=\"#0D5F17\" height=\"8.33\" stroke-opacity=\"1\" transform=\"rotate(90, 79.165, 70.835)\" width=\"8.33\" x=\"75.0\" y=\"66.67\"/>\n",
       "<polygon fill=\"#8F5F17\" points=\"75.00,75.00 83.33,75.00 79.17,82.21\" stroke-opacity=\"1\" transform=\"rotate(360, 79.165, 79.165)\"/>\n",
       "<circle cx=\"79.17\" cy=\"87.50\" fill=\"#9CD65C\" r=\"4.17\" stroke-opacity=\"0.3\"/>\n",
       "<polygon fill=\"#9CD65C\" points=\"75.00,91.67 83.33,91.67 79.17,98.88\" stroke-opacity=\"0.2\" transform=\"rotate(0, 79.165, 95.835)\"/>\n",
       "<polygon fill=\"#8F8173\" points=\"83.33,0.00 91.66,0.00 87.50,7.21\" stroke-opacity=\"1\" transform=\"rotate(90, 87.495, 4.165)\"/>\n",
       "<circle cx=\"87.50\" cy=\"12.50\" fill=\"#0D5F17\" r=\"4.17\" stroke-opacity=\"0.3\"/>\n",
       "<rect fill=\"#0DD645\" height=\"8.33\" stroke-opacity=\"0.3\" transform=\"rotate(90, 87.495, 20.835)\" width=\"8.33\" x=\"83.33\" y=\"16.67\"/>\n",
       "<circle cx=\"87.50\" cy=\"29.17\" fill=\"#8F5F17\" r=\"4.17\" stroke-opacity=\"1\"/>\n",
       "<rect fill=\"#C3922E\" height=\"8.33\" stroke-opacity=\"0.2\" transform=\"rotate(180, 87.495, 37.495)\" width=\"8.33\" x=\"83.33\" y=\"33.33\"/>\n",
       "<rect fill=\"#0DD645\" height=\"8.33\" stroke-opacity=\"0.3\" transform=\"rotate(360, 87.495, 45.835)\" width=\"8.33\" x=\"83.33\" y=\"41.67\"/>\n",
       "<circle cx=\"87.50\" cy=\"54.17\" fill=\"#8F8100\" r=\"4.17\" stroke-opacity=\"1\"/>\n",
       "<rect fill=\"#75F82E\" height=\"8.33\" stroke-opacity=\"0.2\" transform=\"rotate(180, 87.495, 62.495)\" width=\"8.33\" x=\"83.33\" y=\"58.33\"/>\n",
       "<polygon fill=\"#75F82E\" points=\"83.33,66.67 91.66,66.67 87.50,73.88\" stroke-opacity=\"0.2\" transform=\"rotate(90, 87.495, 70.835)\"/>\n",
       "<circle cx=\"87.50\" cy=\"79.17\" fill=\"#A9C5E6\" r=\"4.17\" stroke-opacity=\"0.3\"/>\n",
       "<polygon fill=\"#8F8173\" points=\"83.33,83.33 91.66,83.33 87.50,90.54\" stroke-opacity=\"0.3\" transform=\"rotate(0, 87.495, 87.495)\"/>\n",
       "<circle cx=\"87.50\" cy=\"95.84\" fill=\"#8270CF\" r=\"4.17\" stroke-opacity=\"1\"/>\n",
       "<polygon fill=\"#821BCF\" points=\"91.67,0.00 100.00,0.00 95.84,7.21\" stroke-opacity=\"0.2\" transform=\"rotate(360, 95.835, 4.165)\"/>\n",
       "<polygon fill=\"#821BCF\" points=\"91.67,8.33 100.00,8.33 95.84,15.54\" stroke-opacity=\"1\" transform=\"rotate(180, 95.835, 12.495)\"/>\n",
       "<rect fill=\"#A9C5E6\" height=\"8.33\" stroke-opacity=\"1\" transform=\"rotate(270, 95.835, 20.835)\" width=\"8.33\" x=\"91.67\" y=\"16.67\"/>\n",
       "<rect fill=\"#0DD645\" height=\"8.33\" stroke-opacity=\"0.2\" transform=\"rotate(270, 95.835, 29.165)\" width=\"8.33\" x=\"91.67\" y=\"25.0\"/>\n",
       "<rect fill=\"#4EA38A\" height=\"8.33\" stroke-opacity=\"0.3\" transform=\"rotate(270, 95.835, 37.495)\" width=\"8.33\" x=\"91.67\" y=\"33.33\"/>\n",
       "<polygon fill=\"#C3922E\" points=\"91.67,41.67 100.00,41.67 95.84,48.88\" stroke-opacity=\"1\" transform=\"rotate(270, 95.835, 45.835)\"/>\n",
       "<rect fill=\"#A9C5E6\" height=\"8.33\" stroke-opacity=\"1\" transform=\"rotate(90, 95.835, 54.165)\" width=\"8.33\" x=\"91.67\" y=\"50.0\"/>\n",
       "<circle cx=\"95.84\" cy=\"62.50\" fill=\"#9C1BB8\" r=\"4.17\" stroke-opacity=\"1\"/>\n",
       "<rect fill=\"#8F8100\" height=\"8.33\" stroke-opacity=\"0.3\" transform=\"rotate(0, 95.835, 70.835)\" width=\"8.33\" x=\"91.67\" y=\"66.67\"/>\n",
       "<rect fill=\"#9C1BB8\" height=\"8.33\" stroke-opacity=\"0.3\" transform=\"rotate(180, 95.835, 79.165)\" width=\"8.33\" x=\"91.67\" y=\"75.0\"/>\n",
       "<circle cx=\"95.84\" cy=\"87.50\" fill=\"#8F8173\" r=\"4.17\" stroke-opacity=\"0.3\"/>\n",
       "<polygon fill=\"#821BCF\" points=\"91.67,91.67 100.00,91.67 95.84,98.88\" stroke-opacity=\"0.2\" transform=\"rotate(0, 95.835, 95.835)\"/>\n",
       "</svg>"
      ],
      "text/plain": [
       "<IPython.core.display.SVG object>"
      ]
     },
     "execution_count": 486,
     "metadata": {},
     "output_type": "execute_result"
    }
   ],
   "source": [
    "params ={}\n",
    "\n",
    "#generate random colors\n",
    "rgb_list = []\n",
    "for j in range(16):\n",
    "    rgb_list.append(rgb2hex( randrange(0,255,13), randrange(10,255,17),randrange(0,255,23)))\n",
    "pic_attribs['fill'] = choice(rgb_list)\n",
    "\n",
    "params['structure'] = choice(['RANDOM', 'GRID'])\n",
    "# Used only for structure 'RANDOM'\n",
    "params['nr_of_figures'] = 159\n",
    "#Used only for structure 'GRID'\n",
    "params['rows'], params['columns'] = 12, 12\n",
    "\n",
    "if params['structure'] == 'RANDOM': \n",
    "    # params for circles rects and polygons(triangles) \n",
    "    params['x'] = ('ri', [-20, 120])\n",
    "    params['y'] = ('ri', [-20, 120])\n",
    "#    params['height'] = ('rc', ([ 73, .65, 59,   34 ,87], ))\n",
    "#    params['width']  = ('rc', ([ 11.33, .59,   34, 29, 123], ))\n",
    "    params['height'] = ('rr', [ 5, 34, 4] )\n",
    "    params['width']  = ('rr', [ 3, 21, 5] )\n",
    "if params['structure'] == 'GRID':\n",
    "    l , w, h = create_grid(params['rows'],params['columns'])\n",
    "    params['nr_of_figures'] = len(l)\n",
    "    params['x'] = ('ar', ([round(e[0], 2) for e in l],))\n",
    "    params['y'] = ('ar', ([round(e[1], 2) for e in l], ))\n",
    "    params['height'] = ('ar', ([round(h, 2),] * len(l), ))\n",
    "    params['width'] = ('ar', ([round(w, 2),] * len(l), ))\n",
    "\n",
    "params['palette'] = rgb_list\n",
    "# Params for figure creation\n",
    "#params['figures'] = [random.choice(figs_to_choice) for i in range(nr_of_figures)]\n",
    "figs_to_choice = (  'polygon' , 'circle', 'rect' ) #'line'\n",
    "params['figures'] = ('rc', [figs_to_choice, ]) \n",
    "\n",
    "#Zu verbessern djw 20161230\n",
    "# params for lines\n",
    "params['x1'] = ('ar', ([l[0] for l in lines], ))\n",
    "#params['y1'] = ('ar', ([l[1] for l in lines], ))\n",
    "params['x2'] = ('ar', ([l[2] for l in lines], ))  #('ri', [0, 100])\n",
    "#params['y2'] = ('ar', ([l[3] for l in lines], ))\n",
    "y1_list = list(range(21, 100, 23)) * int((params['nr_of_figures']  / 3))\n",
    "params['y1'] = ('ar', (y1_list, ))\n",
    "y2_list = copy.deepcopy(y1_list)\n",
    "params['y2'] = ('ar', (y2_list, ))\n",
    "\n",
    "# params for svg style \n",
    "params['fill'] = ('rc', [rgb_list[:],] )\n",
    "#params['opacity'] = ('rc', [( .1, .5, .7), ]) \n",
    "#params['stroke'] = ('rc', [rgb_list[:],] )\n",
    "#params['stroke-linecap'] = ('rc', ([\"round\",], ))\n",
    "params['stroke-opacity'] = ('rc', [(.2, .3, 1), ])\n",
    "#params['stroke-width'] = ('ri', [0,25 ])\n",
    "params['transform'] = ('rr', [0, 361, 90] )\n",
    "\n",
    "print(params['structure'])\n",
    "svg = SVGPicture(params, pic_attribs=pic_attribs) \n",
    "SVG(svg.xml_to_string().replace('21in', '600px'))"
   ]
  },
  {
   "cell_type": "markdown",
   "metadata": {},
   "source": [
    "### Save Picture To File"
   ]
  },
  {
   "cell_type": "code",
   "execution_count": 72,
   "metadata": {
    "collapsed": false
   },
   "outputs": [
    {
     "name": "stdout",
     "output_type": "stream",
     "text": [
      "20170114-1541-11157494\n"
     ]
    }
   ],
   "source": [
    "svg.to_file(zip = True)"
   ]
  },
  {
   "cell_type": "markdown",
   "metadata": {},
   "source": [
    "#### Handle SVG-Files"
   ]
  },
  {
   "cell_type": "code",
   "execution_count": 35,
   "metadata": {
    "collapsed": false,
    "scrolled": false
   },
   "outputs": [],
   "source": [
    "!ls svg > svg_files.txt"
   ]
  },
  {
   "cell_type": "code",
   "execution_count": 6,
   "metadata": {
    "collapsed": false
   },
   "outputs": [],
   "source": [
    "# %load svg_files.txt\n",
    "svg_file_names = fromfile('svg_files.txt').split('\\n')"
   ]
  },
  {
   "cell_type": "code",
   "execution_count": 10,
   "metadata": {
    "collapsed": true
   },
   "outputs": [
    {
     "name": "stdout",
     "output_type": "stream",
     "text": [
      "svg/pic-20160811-0003-29530507.svg\n"
     ]
    },
    {
     "data": {
      "image/svg+xml": [
       "<svg height=\"600px\" version=\"1.2\" viewBox=\"0 0 100 100\" width=\"600px\" xmlns=\"http://www.w3.org/2000/svg\" xmlns:xlink=\"http://www.w3.org/1999/xlink/\">\n",
       "\n",
       "  <desc>Picture by J. Wendt</desc>\n",
       "  <!-- START Generator PARAMETERS in Json -->\n",
       "  <desc>{&quot;params&quot;:{&quot;structure&quot;:&quot;RANDOM&quot;,&quot;figures&quot;:[&quot;rc&quot;,[[&quot;rect&quot;,&quot;polygon&quot;,&quot;circle&quot;,&quot;line&quot;]]],&quot;palette&quot;:[&quot;rgb(50, 15, 55)&quot;,&quot;rgb(100, 65, 105)&quot;,&quot;rgb(100, 105, 15)&quot;,&quot;rgb(150, 130, 130)&quot;,&quot;rgb(100, 150, 45)&quot;,&quot;rgb(125, 150, 90)&quot;,&quot;rgb(125, 80, 25)&quot;,&quot;rgb(125, 155, 80)&quot;,&quot;rgb(150, 40, 90)&quot;,&quot;rgb(125, 35, 140)&quot;,&quot;rgb(0, 105, 85)&quot;,&quot;rgb(100, 155, 95)&quot;,&quot;rgb(75, 120, 80)&quot;,&quot;rgb(125, 160, 50)&quot;,&quot;rgb(125, 135, 60)&quot;,&quot;rgb(25, 155, 65)&quot;,&quot;rgb(25, 50, 90)&quot;,&quot;rgb(150, 20, 105)&quot;,&quot;rgb(125, 145, 105)&quot;,&quot;rgb(125, 95, 15)&quot;,&quot;rgb(25, 155, 40)&quot;,&quot;rgb(75, 10, 20)&quot;,&quot;rgb(0, 165, 100)&quot;,&quot;rgb(25, 15, 135)&quot;,&quot;rgb(125, 70, 145)&quot;,&quot;rgb(25, 30, 105)&quot;,&quot;rgb(0, 130, 110)&quot;,&quot;rgb(25, 105, 85)&quot;,&quot;rgb(25, 15, 80)&quot;,&quot;rgb(75, 40, 75)&quot;,&quot;rgb(125, 75, 80)&quot;,&quot;rgb(75, 30, 75)&quot;,&quot;rgb(100, 55, 125)&quot;,&quot;rgb(100, 145, 70)&quot;,&quot;rgb(0, 105, 90)&quot;,&quot;rgb(0, 165, 85)&quot;,&quot;rgb(100, 75, 130)&quot;,&quot;rgb(0, 155, 10)&quot;,&quot;rgb(25, 135, 130)&quot;,&quot;rgb(50, 145, 90)&quot;,&quot;rgb(125, 75, 100)&quot;,&quot;rgb(150, 75, 110)&quot;,&quot;rgb(50, 25, 85)&quot;,&quot;rgb(25, 120, 35)&quot;,&quot;rgb(100, 95, 70)&quot;,&quot;rgb(50, 45, 105)&quot;,&quot;rgb(0, 100, 90)&quot;,&quot;rgb(0, 125, 35)&quot;,&quot;rgb(50, 155, 130)&quot;,&quot;rgb(75, 120, 85)&quot;,&quot;rgb(75, 135, 125)&quot;,&quot;rgb(150, 45, 30)&quot;,&quot;rgb(125, 15, 75)&quot;,&quot;rgb(25, 135, 100)&quot;,&quot;rgb(25, 115, 125)&quot;,&quot;rgb(100, 20, 85)&quot;,&quot;rgb(50, 165, 135)&quot;,&quot;rgb(50, 95, 45)&quot;,&quot;rgb(125, 40, 10)&quot;,&quot;rgb(75, 165, 15)&quot;,&quot;rgb(125, 160, 70)&quot;,&quot;rgb(75, 60, 40)&quot;,&quot;rgb(25, 70, 35)&quot;,&quot;rgb(150, 60, 105)&quot;,&quot;rgb(25, 125, 125)&quot;,&quot;rgb(75, 35, 50)&quot;,&quot;rgb(125, 135, 145)&quot;,&quot;rgb(125, 35, 45)&quot;,&quot;rgb(125, 95, 15)&quot;,&quot;rgb(0, 60, 60)&quot;,&quot;rgb(25, 145, 45)&quot;,&quot;rgb(150, 80, 20)&quot;],&quot;fill&quot;:[&quot;rc&quot;,[[&quot;rgb(50, 15, 55)&quot;,&quot;rgb(100, 65, 105)&quot;,&quot;rgb(100, 105, 15)&quot;,&quot;rgb(150, 130, 130)&quot;,&quot;rgb(100, 150, 45)&quot;,&quot;rgb(125, 150, 90)&quot;,&quot;rgb(125, 80, 25)&quot;,&quot;rgb(125, 155, 80)&quot;,&quot;rgb(150, 40, 90)&quot;,&quot;rgb(125, 35, 140)&quot;,&quot;rgb(0, 105, 85)&quot;,&quot;rgb(100, 155, 95)&quot;,&quot;rgb(75, 120, 80)&quot;,&quot;rgb(125, 160, 50)&quot;,&quot;rgb(125, 135, 60)&quot;,&quot;rgb(25, 155, 65)&quot;,&quot;rgb(25, 50, 90)&quot;,&quot;rgb(150, 20, 105)&quot;,&quot;rgb(125, 145, 105)&quot;,&quot;rgb(125, 95, 15)&quot;,&quot;rgb(25, 155, 40)&quot;,&quot;rgb(75, 10, 20)&quot;,&quot;rgb(0, 165, 100)&quot;,&quot;rgb(25, 15, 135)&quot;,&quot;rgb(125, 70, 145)&quot;,&quot;rgb(25, 30, 105)&quot;,&quot;rgb(0, 130, 110)&quot;,&quot;rgb(25, 105, 85)&quot;,&quot;rgb(25, 15, 80)&quot;,&quot;rgb(75, 40, 75)&quot;,&quot;rgb(125, 75, 80)&quot;,&quot;rgb(75, 30, 75)&quot;,&quot;rgb(100, 55, 125)&quot;,&quot;rgb(100, 145, 70)&quot;,&quot;rgb(0, 105, 90)&quot;,&quot;rgb(0, 165, 85)&quot;,&quot;rgb(100, 75, 130)&quot;,&quot;rgb(0, 155, 10)&quot;,&quot;rgb(25, 135, 130)&quot;,&quot;rgb(50, 145, 90)&quot;,&quot;rgb(125, 75, 100)&quot;,&quot;rgb(150, 75, 110)&quot;,&quot;rgb(50, 25, 85)&quot;,&quot;rgb(25, 120, 35)&quot;,&quot;rgb(100, 95, 70)&quot;,&quot;rgb(50, 45, 105)&quot;,&quot;rgb(0, 100, 90)&quot;,&quot;rgb(0, 125, 35)&quot;,&quot;rgb(50, 155, 130)&quot;,&quot;rgb(75, 120, 85)&quot;,&quot;rgb(75, 135, 125)&quot;,&quot;rgb(150, 45, 30)&quot;,&quot;rgb(125, 15, 75)&quot;,&quot;rgb(25, 135, 100)&quot;,&quot;rgb(25, 115, 125)&quot;,&quot;rgb(100, 20, 85)&quot;,&quot;rgb(50, 165, 135)&quot;,&quot;rgb(50, 95, 45)&quot;,&quot;rgb(125, 40, 10)&quot;,&quot;rgb(75, 165, 15)&quot;,&quot;rgb(125, 160, 70)&quot;,&quot;rgb(75, 60, 40)&quot;,&quot;rgb(25, 70, 35)&quot;,&quot;rgb(150, 60, 105)&quot;,&quot;rgb(25, 125, 125)&quot;,&quot;rgb(75, 35, 50)&quot;,&quot;rgb(125, 135, 145)&quot;,&quot;rgb(125, 35, 45)&quot;,&quot;rgb(125, 95, 15)&quot;,&quot;rgb(0, 60, 60)&quot;,&quot;rgb(25, 145, 45)&quot;,&quot;rgb(150, 80, 20)&quot;]]],&quot;stroke-linecap&quot;:[&quot;rc&quot;,[[&quot;round&quot;]]],&quot;width&quot;:[&quot;rc&quot;,[[50,10]]],&quot;stroke-opacity&quot;:[&quot;rc&quot;,[[0.8,0.6]]],&quot;transform&quot;:[&quot;rc&quot;,[[0,180]]],&quot;stroke&quot;:[&quot;rc&quot;,[[&quot;rgb(50, 15, 55)&quot;,&quot;rgb(100, 65, 105)&quot;,&quot;rgb(100, 105, 15)&quot;,&quot;rgb(150, 130, 130)&quot;,&quot;rgb(100, 150, 45)&quot;,&quot;rgb(125, 150, 90)&quot;,&quot;rgb(125, 80, 25)&quot;,&quot;rgb(125, 155, 80)&quot;,&quot;rgb(150, 40, 90)&quot;,&quot;rgb(125, 35, 140)&quot;,&quot;rgb(0, 105, 85)&quot;,&quot;rgb(100, 155, 95)&quot;,&quot;rgb(75, 120, 80)&quot;,&quot;rgb(125, 160, 50)&quot;,&quot;rgb(125, 135, 60)&quot;,&quot;rgb(25, 155, 65)&quot;,&quot;rgb(25, 50, 90)&quot;,&quot;rgb(150, 20, 105)&quot;,&quot;rgb(125, 145, 105)&quot;,&quot;rgb(125, 95, 15)&quot;,&quot;rgb(25, 155, 40)&quot;,&quot;rgb(75, 10, 20)&quot;,&quot;rgb(0, 165, 100)&quot;,&quot;rgb(25, 15, 135)&quot;,&quot;rgb(125, 70, 145)&quot;,&quot;rgb(25, 30, 105)&quot;,&quot;rgb(0, 130, 110)&quot;,&quot;rgb(25, 105, 85)&quot;,&quot;rgb(25, 15, 80)&quot;,&quot;rgb(75, 40, 75)&quot;,&quot;rgb(125, 75, 80)&quot;,&quot;rgb(75, 30, 75)&quot;,&quot;rgb(100, 55, 125)&quot;,&quot;rgb(100, 145, 70)&quot;,&quot;rgb(0, 105, 90)&quot;,&quot;rgb(0, 165, 85)&quot;,&quot;rgb(100, 75, 130)&quot;,&quot;rgb(0, 155, 10)&quot;,&quot;rgb(25, 135, 130)&quot;,&quot;rgb(50, 145, 90)&quot;,&quot;rgb(125, 75, 100)&quot;,&quot;rgb(150, 75, 110)&quot;,&quot;rgb(50, 25, 85)&quot;,&quot;rgb(25, 120, 35)&quot;,&quot;rgb(100, 95, 70)&quot;,&quot;rgb(50, 45, 105)&quot;,&quot;rgb(0, 100, 90)&quot;,&quot;rgb(0, 125, 35)&quot;,&quot;rgb(50, 155, 130)&quot;,&quot;rgb(75, 120, 85)&quot;,&quot;rgb(75, 135, 125)&quot;,&quot;rgb(150, 45, 30)&quot;,&quot;rgb(125, 15, 75)&quot;,&quot;rgb(25, 135, 100)&quot;,&quot;rgb(25, 115, 125)&quot;,&quot;rgb(100, 20, 85)&quot;,&quot;rgb(50, 165, 135)&quot;,&quot;rgb(50, 95, 45)&quot;,&quot;rgb(125, 40, 10)&quot;,&quot;rgb(75, 165, 15)&quot;,&quot;rgb(125, 160, 70)&quot;,&quot;rgb(75, 60, 40)&quot;,&quot;rgb(25, 70, 35)&quot;,&quot;rgb(150, 60, 105)&quot;,&quot;rgb(25, 125, 125)&quot;,&quot;rgb(75, 35, 50)&quot;,&quot;rgb(125, 135, 145)&quot;,&quot;rgb(125, 35, 45)&quot;,&quot;rgb(125, 95, 15)&quot;,&quot;rgb(0, 60, 60)&quot;,&quot;rgb(25, 145, 45)&quot;,&quot;rgb(150, 80, 20)&quot;]]],&quot;height&quot;:[&quot;rc&quot;,[[40,20]]],&quot;y&quot;:[&quot;ri&quot;,[-20,120]],&quot;colorid&quot;:651,&quot;stroke-width&quot;:[&quot;rc&quot;,[[6,4]]],&quot;x&quot;:[&quot;ri&quot;,[-20,120]],&quot;nr_of_figures&quot;:32,&quot;opacity&quot;:[&quot;rc&quot;,[[0.6,0.4]]]}}</desc>\n",
       "  <!-- END Generator PARAMETERS in Json -->\n",
       "\n",
       "  <!-- Show outline of canvas using 'rect' element -->\n",
       "  <rect fill=\"grey\" height=\"100\" id=\"bg-00\" opacity=\".4\" stroke=\"white\" stroke-opacity=\".3\" stroke-width=\"0.1\" width=\"100\" x=\"0\" y=\"0\"/>\n",
       "\n",
       "<circle cx=\"112.00\" cy=\"126.00\" fill=\"rgb(125, 160, 50)\" opacity=\"0.6\" r=\"25.00\" stroke=\"rgb(25, 135, 100)\" stroke-linecap=\"round\" stroke-opacity=\"0.6\" stroke-width=\"6\"/>\n",
       "<polygon fill=\"rgb(125, 80, 25)\" opacity=\"0.6\" points=\"21.00,82.00 41.00,82.00 31.00,99.32\" stroke=\"rgb(50, 25, 85)\" stroke-linecap=\"round\" stroke-opacity=\"0.8\" stroke-width=\"4\" transform=\"rotate(180, 46.0, 92.0)\"/>\n",
       "<line fill=\"rgb(75, 10, 20)\" opacity=\"0.4\" stroke=\"rgb(25, 30, 105)\" stroke-linecap=\"round\" stroke-opacity=\"0.8\" stroke-width=\"4\" x1=\"40\" x2=\"97\" y1=\"10\" y2=\"10\"/>\n",
       "<rect fill=\"rgb(0, 105, 85)\" height=\"40\" opacity=\"0.4\" stroke=\"rgb(50, 155, 130)\" stroke-linecap=\"round\" stroke-opacity=\"0.8\" stroke-width=\"6\" transform=\"rotate(0, 35.0, 66.0)\" width=\"10\" x=\"30\" y=\"46\"/>\n",
       "<polygon fill=\"rgb(25, 135, 100)\" opacity=\"0.6\" points=\"50.00,85.00 90.00,85.00 70.00,119.64\" stroke=\"rgb(50, 95, 45)\" stroke-linecap=\"round\" stroke-opacity=\"0.8\" stroke-width=\"6\" transform=\"rotate(180, 55.0, 105.0)\"/>\n",
       "<line fill=\"rgb(75, 120, 80)\" opacity=\"0.4\" stroke=\"rgb(100, 105, 15)\" stroke-linecap=\"round\" stroke-opacity=\"0.8\" stroke-width=\"6\" x1=\"42\" x2=\"99\" y1=\"22\" y2=\"22\"/>\n",
       "<line fill=\"rgb(0, 165, 100)\" opacity=\"0.6\" stroke=\"rgb(25, 135, 100)\" stroke-linecap=\"round\" stroke-opacity=\"0.6\" stroke-width=\"6\" x1=\"35\" x2=\"95\" y1=\"34\" y2=\"34\"/>\n",
       "<circle cx=\"64.00\" cy=\"64.00\" fill=\"rgb(100, 155, 95)\" opacity=\"0.4\" r=\"25.00\" stroke=\"rgb(50, 25, 85)\" stroke-linecap=\"round\" stroke-opacity=\"0.6\" stroke-width=\"4\"/>\n",
       "<polygon fill=\"rgb(100, 65, 105)\" opacity=\"0.6\" points=\"44.00,119.00 64.00,119.00 54.00,136.32\" stroke=\"rgb(125, 15, 75)\" stroke-linecap=\"round\" stroke-opacity=\"0.6\" stroke-width=\"4\" transform=\"rotate(0, 49.0, 129.0)\"/>\n",
       "<line fill=\"rgb(75, 135, 125)\" opacity=\"0.4\" stroke=\"rgb(25, 120, 35)\" stroke-linecap=\"round\" stroke-opacity=\"0.8\" stroke-width=\"4\" x1=\"28\" x2=\"100\" y1=\"46\" y2=\"46\"/>\n",
       "<rect fill=\"rgb(150, 130, 130)\" height=\"20\" opacity=\"0.4\" stroke=\"rgb(75, 30, 75)\" stroke-linecap=\"round\" stroke-opacity=\"0.8\" stroke-width=\"4\" transform=\"rotate(0, 65.0, -2.0)\" width=\"10\" x=\"60\" y=\"-12\"/>\n",
       "<rect fill=\"rgb(125, 35, 140)\" height=\"40\" opacity=\"0.6\" stroke=\"rgb(25, 145, 45)\" stroke-linecap=\"round\" stroke-opacity=\"0.6\" stroke-width=\"4\" transform=\"rotate(180, 125.0, 123.0)\" width=\"10\" x=\"120\" y=\"103\"/>\n",
       "<polygon fill=\"rgb(75, 10, 20)\" opacity=\"0.4\" points=\"30.00,-4.00 50.00,-4.00 40.00,13.32\" stroke=\"rgb(25, 30, 105)\" stroke-linecap=\"round\" stroke-opacity=\"0.8\" stroke-width=\"4\" transform=\"rotate(0, 55.0, 6.0)\"/>\n",
       "<rect fill=\"rgb(50, 45, 105)\" height=\"40\" opacity=\"0.6\" stroke=\"rgb(125, 35, 45)\" stroke-linecap=\"round\" stroke-opacity=\"0.8\" stroke-width=\"4\" transform=\"rotate(180, 96.0, 130.0)\" width=\"10\" x=\"91\" y=\"110\"/>\n",
       "<rect fill=\"rgb(25, 105, 85)\" height=\"40\" opacity=\"0.6\" stroke=\"rgb(25, 155, 65)\" stroke-linecap=\"round\" stroke-opacity=\"0.8\" stroke-width=\"6\" transform=\"rotate(180, 50.0, 52.0)\" width=\"10\" x=\"45\" y=\"32\"/>\n",
       "<line fill=\"rgb(100, 55, 125)\" opacity=\"0.6\" stroke=\"rgb(75, 10, 20)\" stroke-linecap=\"round\" stroke-opacity=\"0.6\" stroke-width=\"4\" x1=\"22\" x2=\"97\" y1=\"58\" y2=\"58\"/>\n",
       "<line fill=\"rgb(75, 35, 50)\" opacity=\"0.4\" stroke=\"rgb(25, 50, 90)\" stroke-linecap=\"round\" stroke-opacity=\"0.6\" stroke-width=\"4\" x1=\"44\" x2=\"96\" y1=\"70\" y2=\"70\"/>\n",
       "<rect fill=\"rgb(125, 70, 145)\" height=\"40\" opacity=\"0.6\" stroke=\"rgb(25, 15, 135)\" stroke-linecap=\"round\" stroke-opacity=\"0.8\" stroke-width=\"6\" transform=\"rotate(180, 140.0, 109.0)\" width=\"50\" x=\"115\" y=\"89\"/>\n",
       "<rect fill=\"rgb(25, 15, 80)\" height=\"20\" opacity=\"0.6\" stroke=\"rgb(0, 165, 85)\" stroke-linecap=\"round\" stroke-opacity=\"0.8\" stroke-width=\"4\" transform=\"rotate(0, 34.0, 116.0)\" width=\"50\" x=\"9\" y=\"106\"/>\n",
       "<rect fill=\"rgb(125, 95, 15)\" height=\"40\" opacity=\"0.6\" stroke=\"rgb(150, 40, 90)\" stroke-linecap=\"round\" stroke-opacity=\"0.8\" stroke-width=\"6\" transform=\"rotate(180, 5.0, 96.0)\" width=\"50\" x=\"-20\" y=\"76\"/>\n",
       "<circle cx=\"6.00\" cy=\"97.00\" fill=\"rgb(125, 150, 90)\" opacity=\"0.6\" r=\"25.00\" stroke=\"rgb(50, 165, 135)\" stroke-linecap=\"round\" stroke-opacity=\"0.8\" stroke-width=\"4\"/>\n",
       "<line fill=\"rgb(0, 105, 85)\" opacity=\"0.6\" stroke=\"rgb(125, 150, 90)\" stroke-linecap=\"round\" stroke-opacity=\"0.8\" stroke-width=\"4\" x1=\"6\" x2=\"97\" y1=\"82\" y2=\"82\"/>\n",
       "<rect fill=\"rgb(50, 145, 90)\" height=\"20\" opacity=\"0.4\" stroke=\"rgb(75, 60, 40)\" stroke-linecap=\"round\" stroke-opacity=\"0.8\" stroke-width=\"6\" transform=\"rotate(180, 67.0, 38.0)\" width=\"10\" x=\"62\" y=\"28\"/>\n",
       "<rect fill=\"rgb(125, 70, 145)\" height=\"40\" opacity=\"0.6\" stroke=\"rgb(125, 150, 90)\" stroke-linecap=\"round\" stroke-opacity=\"0.8\" stroke-width=\"6\" transform=\"rotate(0, 19.0, 56.0)\" width=\"10\" x=\"14\" y=\"36\"/>\n",
       "<circle cx=\"135.00\" cy=\"29.00\" fill=\"rgb(100, 105, 15)\" opacity=\"0.4\" r=\"25.00\" stroke=\"rgb(25, 145, 45)\" stroke-linecap=\"round\" stroke-opacity=\"0.6\" stroke-width=\"4\"/>\n",
       "<line fill=\"rgb(25, 15, 80)\" opacity=\"0.4\" stroke=\"rgb(125, 95, 15)\" stroke-linecap=\"round\" stroke-opacity=\"0.8\" stroke-width=\"4\" x1=\"22\" x2=\"99\" y1=\"94\" y2=\"94\"/>\n",
       "<polygon fill=\"rgb(0, 130, 110)\" opacity=\"0.4\" points=\"111.00,47.00 151.00,47.00 131.00,81.64\" stroke=\"rgb(75, 35, 50)\" stroke-linecap=\"round\" stroke-opacity=\"0.8\" stroke-width=\"4\" transform=\"rotate(0, 136.0, 67.0)\"/>\n",
       "<line fill=\"rgb(75, 60, 40)\" opacity=\"0.6\" stroke=\"rgb(50, 145, 90)\" stroke-linecap=\"round\" stroke-opacity=\"0.8\" stroke-width=\"6\" x1=\"32\" x2=\"99\" y1=\"10\" y2=\"10\"/>\n",
       "<line fill=\"rgb(25, 135, 100)\" opacity=\"0.4\" stroke=\"rgb(50, 25, 85)\" stroke-linecap=\"round\" stroke-opacity=\"0.6\" stroke-width=\"6\" x1=\"5\" x2=\"100\" y1=\"22\" y2=\"22\"/>\n",
       "<polygon fill=\"rgb(25, 105, 85)\" opacity=\"0.4\" points=\"-8.00,39.00 32.00,39.00 12.00,73.64\" stroke=\"rgb(25, 15, 135)\" stroke-linecap=\"round\" stroke-opacity=\"0.8\" stroke-width=\"4\" transform=\"rotate(180, 17.0, 59.0)\"/>\n",
       "<rect fill=\"rgb(25, 125, 125)\" height=\"40\" opacity=\"0.6\" stroke=\"rgb(25, 15, 80)\" stroke-linecap=\"round\" stroke-opacity=\"0.8\" stroke-width=\"6\" transform=\"rotate(0, 44.0, 11.0)\" width=\"50\" x=\"19\" y=\"-9\"/>\n",
       "<polygon fill=\"rgb(125, 155, 80)\" opacity=\"0.4\" points=\"-16.00,112.00 24.00,112.00 4.00,146.64\" stroke=\"rgb(125, 75, 100)\" stroke-linecap=\"round\" stroke-opacity=\"0.6\" stroke-width=\"4\" transform=\"rotate(0, -11.0, 132.0)\"/>\n",
       "</svg>"
      ],
      "text/plain": [
       "<IPython.core.display.SVG object>"
      ]
     },
     "execution_count": 10,
     "metadata": {},
     "output_type": "execute_result"
    }
   ],
   "source": [
    "f_name = 'svg/' + svg_file_names[9]\n",
    "print(f_name)\n",
    "\n",
    "if not f_name[-4:] == '.svg':\n",
    "    svg_content = unzip_file(f_name).decode(\"utf-8\")\n",
    "else:\n",
    "    svg_content = fromfile(f_name)\n",
    "    \n",
    "SVG(svg_content.replace('21in', '600px'))"
   ]
  },
  {
   "cell_type": "markdown",
   "metadata": {},
   "source": [
    "### RGB Colors by random"
   ]
  },
  {
   "cell_type": "code",
   "execution_count": 6,
   "metadata": {
    "collapsed": false
   },
   "outputs": [],
   "source": [
    "html5_header =\"\"\"<!DOCTYPE html>\n",
    "<html><head>;\n",
    "<style>\n",
    "table, th, td {border: none; }\n",
    "</style>\n",
    "</head> <body> <table >\"\"\"\n",
    "\n",
    "html5_td = '<td style=\"background-color:{};height:60px; width:60px\">'\n",
    "\n",
    "html5_tail = \"\"\"</table> </body> </html>\"\"\""
   ]
  },
  {
   "cell_type": "code",
   "execution_count": 204,
   "metadata": {
    "collapsed": false
   },
   "outputs": [
    {
     "data": {
      "text/html": [
       "<!DOCTYPE html>\n",
       "<html><head>;\n",
       "<style>\n",
       "table, th, td {border: none; }\n",
       "</style>\n",
       "</head> <body> <table ><tr>\n",
       "<td style=\"background-color:#96289B;height:60px; width:60px\">#96289B</td>\n",
       "<td style=\"background-color:#96FA3E;height:60px; width:60px\">#96FA3E</td>\n",
       "<td style=\"background-color:#3C8200;height:60px; width:60px\">#3C8200</td>\n",
       "<td style=\"background-color:#D20ABA;height:60px; width:60px\">#D20ABA</td>\n",
       "<td style=\"background-color:#000AD9;height:60px; width:60px\">#000AD9</td>\n",
       "<td style=\"background-color:#B428BA;height:60px; width:60px\">#B428BA</td>\n",
       "<td style=\"background-color:#3C823E;height:60px; width:60px\">#3C823E</td>\n",
       "<td style=\"background-color:#000AF8;height:60px; width:60px\">#000AF8</td>\n",
       "<td style=\"background-color:#F00AD9;height:60px; width:60px\">#F00AD9</td>\n",
       "</tr>\n",
       "<tr>\n",
       "<td style=\"background-color:#B4BE7C;height:60px; width:60px\">#B4BE7C</td>\n",
       "<td style=\"background-color:#5A649B;height:60px; width:60px\">#5A649B</td>\n",
       "<td style=\"background-color:#96A0F8;height:60px; width:60px\">#96A0F8</td>\n",
       "<td style=\"background-color:#00641F;height:60px; width:60px\">#00641F</td>\n",
       "<td style=\"background-color:#5AA0BA;height:60px; width:60px\">#5AA0BA</td>\n",
       "<td style=\"background-color:#D2289B;height:60px; width:60px\">#D2289B</td>\n",
       "<td style=\"background-color:#B4FAF8;height:60px; width:60px\">#B4FAF8</td>\n",
       "<td style=\"background-color:#F0A0D9;height:60px; width:60px\">#F0A0D9</td>\n",
       "<td style=\"background-color:#1E0A5D;height:60px; width:60px\">#1E0A5D</td>\n",
       "</tr>\n",
       "<tr>\n",
       "<td style=\"background-color:#7882F8;height:60px; width:60px\">#7882F8</td>\n",
       "<td style=\"background-color:#F0A01F;height:60px; width:60px\">#F0A01F</td>\n",
       "<td style=\"background-color:#96DCBA;height:60px; width:60px\">#96DCBA</td>\n",
       "<td style=\"background-color:#9664F8;height:60px; width:60px\">#9664F8</td>\n",
       "<td style=\"background-color:#D2FA00;height:60px; width:60px\">#D2FA00</td>\n",
       "<td style=\"background-color:#B464D9;height:60px; width:60px\">#B464D9</td>\n",
       "<td style=\"background-color:#B4467C;height:60px; width:60px\">#B4467C</td>\n",
       "<td style=\"background-color:#F0A000;height:60px; width:60px\">#F0A000</td>\n",
       "<td style=\"background-color:#1E821F;height:60px; width:60px\">#1E821F</td>\n",
       "</tr></table> </body> </html>"
      ],
      "text/plain": [
       "<IPython.core.display.HTML object>"
      ]
     },
     "execution_count": 204,
     "metadata": {},
     "output_type": "execute_result"
    }
   ],
   "source": [
    "circles = []\n",
    "rgb_list = []\n",
    "for i in range(3):\n",
    "    circles.append('<tr>')\n",
    "    for j in range(9):\n",
    "        rgb_list.append(rgb2hex( randrange(0,255,30),\n",
    "                                randrange(10,255,30),randrange(0,255,31)))\n",
    "        s = html5_td.format(rgb_list[-1]) + rgb_list[-1] + '</td>'\n",
    "        #s = '<td>' + circle.format(rgb_list[-1]) + '</td>'\n",
    "        circles.append(s)\n",
    "    circles.append('</tr>')\n",
    "html_text = html5_header + '\\n'.join(circles) + html5_tail\n",
    "\n",
    "HTML(html_text)"
   ]
  },
  {
   "cell_type": "markdown",
   "metadata": {},
   "source": [
    "### Experimente mit d3.js\n",
    "\n",
    "Hier fehlt:\n",
    "\n",
    "- Eine kleine Dokumentation und Erklärung\n",
    "- Die Darstellung der Ergebnisse in dem Jupyter Notebook - Jupyter beherrscht Javascript coding (%%Javascript etc) => ggf. ist Jupyter auch für mich das optimale Werkzeug neue Sprachen zu lernen\n",
    "- Die Trennung in ein eigenes Notebook ;-)"
   ]
  },
  {
   "cell_type": "code",
   "execution_count": 62,
   "metadata": {
    "collapsed": true
   },
   "outputs": [],
   "source": [
    "\n",
    "svg_styles = ('fill', 'opacity', 'stroke', 'stroke-width',  'stroke-opacity')\n",
    "svg_attrs = ('x', 'y', 'width', 'height', 'x1', 'x2', 'y1', 'y2', 'cx', 'cy', 'r')\n",
    "\n",
    "def d3_append_elem(parent, child):\n",
    "    return '{}.append(\"{}\")'.format(parent, child)\n",
    "\n",
    "\n",
    "def d3_attr_line(name, value):\n",
    "    if name in style_names:\n",
    "        kind = 'style'\n",
    "    else:\n",
    "        kind =  'attr'\n",
    "    return '\\t.{}(\"{}\", \"{}\")'.format(kind, name, value)\n",
    "\n",
    "#for i, n in enumerate(style_names + attr_names):\n",
    "#    print (d3_attr_line(n, i))"
   ]
  },
  {
   "cell_type": "code",
   "execution_count": 67,
   "metadata": {
    "collapsed": true
   },
   "outputs": [],
   "source": [
    "import random\n",
    "\n",
    "# functions to create attributte values are callable by dict keys \n",
    "def fifo_func(values):\n",
    "    return values.pop(0)\n",
    "\n",
    "RM_FUNCTION = {'ri': random.randint,\n",
    "               'rc': random.choice,\n",
    "               'ar': fifo_func}\n",
    "\n",
    "def set_attributes(params):\n",
    "    \"\"\"random/algorithm based SVG attributes creation\"\"\"\n",
    "    attribs = {}\n",
    "    for k, v in params.items():\n",
    "        if k in svg_styles or k in svg_attrs:\n",
    "            attribs[k] = RM_FUNCTION[v[0]](*v[1])\n",
    "    return attribs\n",
    "    \n",
    "def attribs_to_string(attribs):\n",
    "    return [d3_attr_line(k, v) for k, v in attribs.items()]\n",
    "\n"
   ]
  },
  {
   "cell_type": "code",
   "execution_count": 69,
   "metadata": {
    "collapsed": false
   },
   "outputs": [
    {
     "name": "stdout",
     "output_type": "stream",
     "text": [
      "svg.append(\"circle\")\n",
      "\t.attr(\"x1\", \"17\")\n",
      "\t.attr(\"x\", \"6\")\n",
      "\t.attr(\"x2\", \"39\")\n",
      "\t.attr(\"y1\", \"67\")\n",
      "\t.attr(\"y2\", \"67\")\n",
      "\t.attr(\"width\", \"3\")\n",
      "\t.style(\"stroke\", \"#32EB37\")\n",
      "\t.style(\"fill\", \"#32556E\")\n",
      "\t.style(\"opacity\", \"0.7\")\n",
      "\t.style(\"stroke-width\", \"4\")\n",
      "\t.attr(\"y\", \"79\")\n",
      "\t.style(\"stroke-opacity\", \"0.2\")\n",
      "\t.attr(\"height\", \"73\")\n",
      "svg.append(\"circle\")\n",
      "\t.attr(\"x1\", \"38\")\n",
      "\t.attr(\"x\", \"81\")\n",
      "\t.attr(\"x2\", \"2\")\n",
      "\t.attr(\"y1\", \"90\")\n",
      "\t.attr(\"y2\", \"90\")\n",
      "\t.attr(\"width\", \"29\")\n",
      "\t.style(\"stroke\", \"#64236E\")\n",
      "\t.style(\"fill\", \"#64236E\")\n",
      "\t.style(\"opacity\", \"0.7\")\n",
      "\t.style(\"stroke-width\", \"6\")\n",
      "\t.attr(\"y\", \"31\")\n",
      "\t.style(\"stroke-opacity\", \"0.3\")\n",
      "\t.attr(\"height\", \"34\")\n",
      "svg.append(\"circle\")\n",
      "\t.attr(\"x1\", \"25\")\n",
      "\t.attr(\"x\", \"27\")\n",
      "\t.attr(\"x2\", \"74\")\n",
      "\t.attr(\"y1\", \"21\")\n",
      "\t.attr(\"y2\", \"21\")\n",
      "\t.attr(\"width\", \"11.33\")\n",
      "\t.style(\"stroke\", \"#64236E\")\n",
      "\t.style(\"fill\", \"#E1EB6E\")\n",
      "\t.style(\"opacity\", \"0.5\")\n",
      "\t.style(\"stroke-width\", \"4\")\n",
      "\t.attr(\"y\", \"101\")\n",
      "\t.style(\"stroke-opacity\", \"1\")\n",
      "\t.attr(\"height\", \"34\")\n",
      "svg.append(\"circle\")\n",
      "\t.attr(\"x1\", \"70\")\n",
      "\t.attr(\"x\", \"22\")\n",
      "\t.attr(\"x2\", \"69\")\n",
      "\t.attr(\"y1\", \"44\")\n",
      "\t.attr(\"y2\", \"44\")\n",
      "\t.attr(\"width\", \"0.59\")\n",
      "\t.style(\"stroke\", \"#E15500\")\n",
      "\t.style(\"fill\", \"#320A6E\")\n",
      "\t.style(\"opacity\", \"0.7\")\n",
      "\t.style(\"stroke-width\", \"4\")\n",
      "\t.attr(\"y\", \"98\")\n",
      "\t.style(\"stroke-opacity\", \"0.2\")\n",
      "\t.attr(\"height\", \"34\")\n",
      "svg.append(\"circle\")\n",
      "\t.attr(\"x1\", \"49\")\n",
      "\t.attr(\"x\", \"67\")\n",
      "\t.attr(\"x2\", \"92\")\n",
      "\t.attr(\"y1\", \"67\")\n",
      "\t.attr(\"y2\", \"67\")\n",
      "\t.attr(\"width\", \"0.59\")\n",
      "\t.style(\"stroke\", \"#32EB37\")\n",
      "\t.style(\"fill\", \"#64236E\")\n",
      "\t.style(\"opacity\", \"0.7\")\n",
      "\t.style(\"stroke-width\", \"6\")\n",
      "\t.attr(\"y\", \"48\")\n",
      "\t.style(\"stroke-opacity\", \"0.3\")\n",
      "\t.attr(\"height\", \"3\")\n",
      "svg.append(\"circle\")\n",
      "\t.attr(\"x1\", \"90\")\n",
      "\t.attr(\"x\", \"54\")\n",
      "\t.attr(\"x2\", \"19\")\n",
      "\t.attr(\"y1\", \"90\")\n",
      "\t.attr(\"y2\", \"90\")\n",
      "\t.attr(\"width\", \"3\")\n",
      "\t.style(\"stroke\", \"#4B23A5\")\n",
      "\t.style(\"fill\", \"#E1EB6E\")\n",
      "\t.style(\"opacity\", \"0.5\")\n",
      "\t.style(\"stroke-width\", \"6\")\n",
      "\t.attr(\"y\", \"60\")\n",
      "\t.style(\"stroke-opacity\", \"0.2\")\n",
      "\t.attr(\"height\", \"3\")\n",
      "svg.append(\"circle\")\n",
      "\t.attr(\"x1\", \"27\")\n",
      "\t.attr(\"x\", \"92\")\n",
      "\t.attr(\"x2\", \"33\")\n",
      "\t.attr(\"y1\", \"21\")\n",
      "\t.attr(\"y2\", \"21\")\n",
      "\t.attr(\"width\", \"3\")\n",
      "\t.style(\"stroke\", \"#FA2300\")\n",
      "\t.style(\"fill\", \"#E15500\")\n",
      "\t.style(\"opacity\", \"0.7\")\n",
      "\t.style(\"stroke-width\", \"6\")\n",
      "\t.attr(\"y\", \"-11\")\n",
      "\t.style(\"stroke-opacity\", \"0.3\")\n",
      "\t.attr(\"height\", \"87\")\n"
     ]
    }
   ],
   "source": [
    "n = 7\n",
    "lines = []\n",
    "while n > 0:\n",
    "    lines.append(d3_append_elem('svg', 'circle'))\n",
    "    lines += attribs_to_string(set_attributes(params))\n",
    "    n -= 1\n",
    "txt = '\\n'.join(lines)\n",
    "print(txt)"
   ]
  }
 ],
 "metadata": {
  "anaconda-cloud": {},
  "kernelspec": {
   "display_name": "Python [conda root]",
   "language": "python",
   "name": "conda-root-py"
  },
  "language_info": {
   "codemirror_mode": {
    "name": "ipython",
    "version": 3
   },
   "file_extension": ".py",
   "mimetype": "text/x-python",
   "name": "python",
   "nbconvert_exporter": "python",
   "pygments_lexer": "ipython3",
   "version": "3.5.2"
  }
 },
 "nbformat": 4,
 "nbformat_minor": 0
}
